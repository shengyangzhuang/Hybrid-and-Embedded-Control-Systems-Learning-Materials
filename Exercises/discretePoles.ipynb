{
 "cells": [
  {
   "cell_type": "markdown",
   "metadata": {},
   "source": [
    "# Relation between continuous-time and discrete-time poles"
   ]
  },
  {
   "cell_type": "markdown",
   "metadata": {},
   "source": [
    "This notebook allows you to explore the relation between continuous-time and discrete-time pole locations."
   ]
  },
  {
   "cell_type": "code",
   "execution_count": null,
   "metadata": {},
   "outputs": [],
   "source": [
    "# load required packages - make sure these are installed in your Julia environment\n",
    "using Interact, Plots\n",
    "using ControlSystems"
   ]
  },
  {
   "cell_type": "code",
   "execution_count": null,
   "metadata": {},
   "outputs": [],
   "source": [
    "# helper functions\n",
    "# create a sample system with given continuous-time poles & its discretized variant\n",
    "function createSystems(cPoles, Δt)\n",
    "    cSys = zpk([], cPoles, 1.0)   # continuous-time system defined by its zeros, poles, and gain\n",
    "    dSys = c2d(cSys, Δt)          # convert continuous-time system to discrete-time using given sampling time Δt\n",
    "    return cSys, dSys\n",
    "end\n",
    "# construct the poles we will visualize - either a single real pole, or a conjugate pair, depending on the supplied real and imaginary values\n",
    "function parsePoles(RePart, ImPart)\n",
    "    cPoles = Complex{Float64}[]\n",
    "    p = RePart + ImPart*im          # construct pole from given values\n",
    "    push!(cPoles, p) \n",
    "    if imag(p) != 0.0 \n",
    "        push!(cPoles, conj(p))      # also add its conjugate pair if the pole is imaginary\n",
    "    end\n",
    "    return cPoles\n",
    "end;"
   ]
  },
  {
   "cell_type": "markdown",
   "metadata": {},
   "source": [
    "The following interactive plots allows you to explore how the location of poles in continuous time and the discretization time step Δt affects the pole locations of the resulting discrete-time system. In particular, explore the following:\n",
    "1. How does the real part of continuous-time poles affect the location of the discrete-time poles? What do more stable poles correspond to?\n",
    "2. How does the imaginary part of continuous-time poles affect the location of the discrete-time poles? Where are the more oscillatory poles mapped to?\n",
    "3. What happens to the range of discrete-time poles the continuous-time ones are mapped to as Δt is decreased? How does Δt influence the location of the poles?"
   ]
  },
  {
   "cell_type": "code",
   "execution_count": null,
   "metadata": {},
   "outputs": [],
   "source": [
    "# define limits & step size for the range of real and imaginary values of the poles we will explore\n",
    "maxRe = 2.0; maxIm = 3.0; pStep = 0.1\n",
    "# also limits for discretization step Δt\n",
    "minΔt = 0.001; maxΔt = 1.0; ΔtStep = 0.01\n",
    "\n",
    "# interactive visualization of pole locations depending on discretization step\n",
    "@manipulate for Δt = widget(minΔt:ΔtStep:maxΔt, label=\"Δt\"), RePart = widget(-maxRe:pStep:maxRe, label=\"Real part\"), ImPart = widget(0.0:pStep:maxIm, label=\"Imaginary part\")\n",
    "    # construct discrete & continuous time system with specified poles\n",
    "    cPoles = parsePoles(RePart, ImPart)\n",
    "    cSys, dSys = createSystems(cPoles, Δt)\n",
    "    dPoles = pole(dSys)\n",
    "    \n",
    "    # plot continuous-time pole locations\n",
    "    p1 = scatter(xlims=(-maxRe-0.1, maxRe+0.1), ylims=(-maxIm-0.1, maxIm+0.1), label=\"\", title=\"Continuous-time poles\", xlabel=\"Re\", yLabel=\"Im\")\n",
    "    [scatter!(p1, [real(cPoles[i])], [imag(cPoles[i])], label=\"\", msize=8, shape=:x) for i in eachindex(cPoles)]\n",
    "    # shade left hand plane - region of stable poles\n",
    "    plot!(Shape(-maxRe .+ [0,maxRe,maxRe,0], -maxIm .+ [0,0,2*maxIm,2*maxIm]), opacity=.2, color=:green, label=\"\")\n",
    "    \n",
    "    # plot step response for continuous-time system\n",
    "    cy, ct, cx = step(cSys, 20.0)\n",
    "    p2 = plot(ct, cy, linewidth=3, label=\"\", title=\"Continuous-time step response\", xlabel=\"t\", ylabel=\"y\")\n",
    "    \n",
    "    # plot discrete-time pole locations\n",
    "    p3 = scatter(xlims=(-maxRe-0.1, maxRe+0.1), ylims=(-maxIm-0.1, maxIm+0.1), label=\"\", title=\"Discrete-time poles\", xlabel=\"Re\", yLabel=\"Im\")\n",
    "    [scatter!(p3, [real(dPoles[i])], [imag(dPoles[i])], label=\"\", msize=8, shape=:x) for i in eachindex(dPoles)]\n",
    "    # plot unit circle - region of stable poles\n",
    "    plot!(p3, (x->cos(x)), (x->sin(x)), 0, 2π, line=2, color=:green, fill = (0, 0.2, :green), lab=\"\")\n",
    "    \n",
    "    # plot step response for discrete-time system\n",
    "    dy, dt, dx = step(dSys, 20.0)\n",
    "    p4 = plot(dt, dy, linewidth=3, linetype=:steppost, label=\"\", title=\"Discrete-time step response\", xlabel=\"t\", ylabel=\"y\")\n",
    "    \n",
    "    # assemble plots in nice layout\n",
    "    vbox(\n",
    "        plot(p1, p2, p3, p4, size=(1000, 600), layout=@layout [a b; c d]))\n",
    "end"
   ]
  },
  {
   "cell_type": "markdown",
   "metadata": {},
   "source": [
    "Observe that the pole at $z = 0$ does not have an equivalent continuous-time counterpart. \n",
    "1. What type of continuous-time poles become mapped close to the $z = 0$ location?\n",
    "2. Using the following interactive plot, see how the system's step response (and the evolution of the states) changes with the $P$ number of poles at $z = 0$. Can such a behavior be reproduced by a continuous-time system? Why, or why not?"
   ]
  },
  {
   "cell_type": "code",
   "execution_count": null,
   "metadata": {},
   "outputs": [],
   "source": [
    "# interactive plots visualizing the step response of a discrete-time system with P poles at z = 0\n",
    "@manipulate for P = widget(1:9, label=\"P\")\n",
    "    # construct discrete-time system with Δt = 1.0 and P poles at z = 0\n",
    "    dPoles = zeros(P)\n",
    "    dSys = zpk([], dPoles, 1.0, 1.0)\n",
    "    # plot the step response of the output and states\n",
    "    dy, dt, dx = step(dSys, 10.0)\n",
    "    p1 = plot(dt, dy, linewidth=3, label=\"\", linetype=:steppost, title=\"Step response (output)\", xlabel=\"t\", ylabel=\"y\")\n",
    "    p2 = plot(dt, dx, linewidth=3, label=\"\", linetype=:steppost, title=\"Step response (states)\", xlabel=\"t\", ylabel=\"x\")\n",
    "    vbox(\n",
    "        plot(p1, p2, size=(1000, 400), layout=@layout [a b]))\n",
    "end"
   ]
  },
  {
   "cell_type": "code",
   "execution_count": null,
   "metadata": {},
   "outputs": [],
   "source": []
  }
 ],
 "metadata": {
  "@webio": {
   "lastCommId": "5c42751a-4561-4cd3-90ab-54d10ba169db",
   "lastKernelId": "1b3cf7bd-c2ff-4eb1-91a7-39faa148d2df"
  },
  "kernelspec": {
   "display_name": "Julia 1.5.3",
   "language": "julia",
   "name": "julia-1.5"
  },
  "language_info": {
   "file_extension": ".jl",
   "mimetype": "application/julia",
   "name": "julia",
   "version": "1.5.3"
  }
 },
 "nbformat": 4,
 "nbformat_minor": 4
}
