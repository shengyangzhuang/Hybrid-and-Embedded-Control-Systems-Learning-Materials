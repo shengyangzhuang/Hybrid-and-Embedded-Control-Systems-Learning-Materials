{
 "cells": [
  {
   "cell_type": "markdown",
   "metadata": {},
   "source": [
    "# Discrete-time approximations of continuous-time systems"
   ]
  },
  {
   "cell_type": "markdown",
   "metadata": {},
   "source": [
    "Often, controllers are designed for continuous-time systems, yet have to be implemented on a computer operating at discrete time steps. This raises the question of how derivatives in continuous-time can be approximated using discrete-time samples. It is important to realize that the manner of this discretization can have important effects and consequences on the dynamics of the controlled system as a whole, as will be demonstrated by this notebook."
   ]
  },
  {
   "cell_type": "markdown",
   "metadata": {},
   "source": [
    "### Errors from discretization"
   ]
  },
  {
   "cell_type": "markdown",
   "metadata": {},
   "source": [
    "We first examine how discretizing derivatives can introduce errors between the true evolution of a continuous-time system and its discretized approximation. To this end, we generate a simple cosine wave described by the differential equation\n",
    "\\begin{equation}\n",
    "\\ddot{x}(t) = -\\omega^2 x(t)\n",
    "\\end{equation}\n",
    "or, in matrix form:\n",
    "\\begin{equation}\n",
    "\\begin{bmatrix} \\dot{x} \\\\ \\ddot{x} \\end{bmatrix} = \\begin{bmatrix} 0 & 1 \\\\ -\\omega^2 & 0 \\end{bmatrix}\\begin{bmatrix} x \\\\ \\dot{x}\\end{bmatrix}.\n",
    "\\end{equation}\n",
    "For comparison, we demonstrate the results obtained by approximating the derivative with a forward Euler scheme and by the midpoint method using various sampling time steps $h > 0$.\n",
    "\n",
    "First, let us briefly review these two methods. Let a continuous time system evolved according to the equation:\n",
    "\\begin{equation}\n",
    "\\dot{x}(t) = f(x(t))\n",
    "\\end{equation}\n",
    "The forward Euler scheme is defined by the approximation of derivatives using a sampling time $h$ as:\n",
    "\\begin{equation}\n",
    " \\dot{x}(t) \\approx \\dfrac{x(t+h) - x(t)}{h},\n",
    "\\end{equation}\n",
    "or, using operator notation:\n",
    "\\begin{equation}\n",
    " \\dot{x}(t) \\approx \\dfrac{q - 1}{h}x(t),\n",
    "\\end{equation}\n",
    "where $q$ denotes the operation of a forward time shift by $h$. Substituting into the system dynamics, this leads to the following relation between sampled values in consecutive time steps:\n",
    "\\begin{equation}\n",
    "x_{k+1} = x_{k} + h \\dot{x}_ {k} = x_{k} + h f(x_k)\n",
    "\\end{equation}\n",
    "This is known as the forward Euler method.\n",
    "\n",
    "A slightly better approximation can be obtained by stating that the slope evaluated using a finite difference method actually approximates the true slope at the midpoint as:\n",
    "\\begin{equation}\n",
    " \\dot{x}\\left(t + \\frac{h}{2}\\right) \\approx \\dfrac{x(t+h) - x(t)}{h}\n",
    "\\end{equation}\n",
    "which leads to the so-called midpoint method:\n",
    "\\begin{equation}\n",
    "x_{k+1} = x_{k} + h f(x_{k+1/2}) = x_{k} + h f(x_{k} + \\frac{h}{2}f(x_{k})),\n",
    "\\end{equation}\n",
    "where $x_{k+1/2}$ has been evaluated according to a forward Euler step with step-size $h/2$.\n",
    "\n",
    "The following code compares the generated cosine waves with each method. Note that both forward-type discretization schemes yield an unstable wave, though the midpoint method diverges at a slower rate. However, the midpoint method requires twice as many $f(\\cdot)$ derivative evaluations."
   ]
  },
  {
   "cell_type": "code",
   "execution_count": 1,
   "metadata": {},
   "outputs": [
    {
     "data": {
      "text/html": [
       "<script>\n",
       "// Immediately-invoked-function-expression to avoid global variables.\n",
       "(function() {\n",
       "    var warning_div = document.getElementById(\"webio-warning-17445085182314510151\");\n",
       "    var hide = function () {\n",
       "        var script = document.getElementById(\"webio-setup-3111350785738066615\");\n",
       "        var parent = script && script.parentElement;\n",
       "        var grandparent = parent && parent.parentElement;\n",
       "        if (grandparent) {\n",
       "            grandparent.style.display = \"none\";\n",
       "        }\n",
       "        warning_div.style.display = \"none\";\n",
       "    };\n",
       "    if (typeof Jupyter !== \"undefined\") {\n",
       "        console.log(\"WebIO detected Jupyter notebook environment.\");\n",
       "        // Jupyter notebook.\n",
       "        var extensions = (\n",
       "            Jupyter\n",
       "            && Jupyter.notebook.config.data\n",
       "            && Jupyter.notebook.config.data.load_extensions\n",
       "        );\n",
       "        if (extensions && extensions[\"webio-jupyter-notebook\"]) {\n",
       "            // Extension already loaded.\n",
       "            console.log(\"Jupyter WebIO nbextension detected; not loading ad-hoc.\");\n",
       "            hide();\n",
       "            return;\n",
       "        }\n",
       "    } else if (window.location.pathname.includes(\"/lab\")) {\n",
       "        // Guessing JupyterLa\n",
       "        console.log(\"Jupyter Lab detected; make sure the @webio/jupyter-lab-provider labextension is installed.\");\n",
       "        hide();\n",
       "        return;\n",
       "    }\n",
       "})();\n",
       "\n",
       "</script>\n",
       "<p\n",
       "    id=\"webio-warning-17445085182314510151\"\n",
       "    class=\"output_text output_stderr\"\n",
       "    style=\"padding: 1em; font-weight: bold;\"\n",
       ">\n",
       "    Unable to load WebIO. Please make sure WebIO works for your Jupyter client.\n",
       "    For troubleshooting, please see <a href=\"https://juliagizmos.github.io/WebIO.jl/latest/providers/ijulia/\">\n",
       "    the WebIO/IJulia documentation</a>.\n",
       "    <!-- TODO: link to installation docs. -->\n",
       "</p>\n"
      ],
      "text/plain": [
       "HTML{String}(\"<script>\\n// Immediately-invoked-function-expression to avoid global variables.\\n(function() {\\n    var warning_div = document.getElementById(\\\"webio-warning-17445085182314510151\\\");\\n    var hide = function () {\\n        var script = document.getElementById(\\\"webio-setup-3111350785738066615\\\");\\n        var parent = script && script.parentElement;\\n        var grandparent = parent && parent.parentElement;\\n        if (grandparent) {\\n            grandparent.style.display = \\\"none\\\";\\n        }\\n        warning_div.style.display = \\\"none\\\";\\n    };\\n    if (typeof Jupyter !== \\\"undefined\\\") {\\n        console.log(\\\"WebIO detected Jupyter notebook environment.\\\");\\n        // Jupyter notebook.\\n        var extensions = (\\n            Jupyter\\n            && Jupyter.notebook.config.data\\n            && Jupyter.notebook.config.data.load_extensions\\n        );\\n        if (extensions && extensions[\\\"webio-jupyter-notebook\\\"]) {\\n            // Extension already loaded.\\n            console.log(\\\"Jupyter WebIO nbextension detected; not loading ad-hoc.\\\");\\n            hide();\\n            return;\\n        }\\n    } else if (window.location.pathname.includes(\\\"/lab\\\")) {\\n        // Guessing JupyterLa\\n        console.log(\\\"Jupyter Lab detected; make sure the @webio/jupyter-lab-provider labextension is installed.\\\");\\n        hide();\\n        return;\\n    }\\n})();\\n\\n</script>\\n<p\\n    id=\\\"webio-warning-17445085182314510151\\\"\\n    class=\\\"output_text output_stderr\\\"\\n    style=\\\"padding: 1em; font-weight: bold;\\\"\\n>\\n    Unable to load WebIO. Please make sure WebIO works for your Jupyter client.\\n    For troubleshooting, please see <a href=\\\"https://juliagizmos.github.io/WebIO.jl/latest/providers/ijulia/\\\">\\n    the WebIO/IJulia documentation</a>.\\n    <!-- TODO: link to installation docs. -->\\n</p>\\n\")"
      ]
     },
     "metadata": {},
     "output_type": "display_data"
    }
   ],
   "source": [
    "using Interact, Plots"
   ]
  },
  {
   "cell_type": "code",
   "execution_count": 2,
   "metadata": {},
   "outputs": [],
   "source": [
    "# function describing the system dynamics (the derivative of the state x)\n",
    "function f(x, ω)\n",
    "    return [0.0 1.0; -ω^2 0.0] * x\n",
    "end\n",
    "\n",
    "# forward Euler method\n",
    "function simulateForwardEuler(T, Δt, ω)\n",
    "    NT = Int(round(T/Δt))\n",
    "    x = zeros(2, NT+1)\n",
    "    x[:,1] = [1.0; 0.0]\n",
    "    for k = 1:NT\n",
    "        x[:,k+1] = x[:, k] .+ Δt .* f(x[:,k], ω)\n",
    "    end\n",
    "    return x, NT\n",
    "end\n",
    "\n",
    "# midpoint method\n",
    "function simulateMidpoint(T, Δt, ω)\n",
    "    NT = Int(round(T/Δt))\n",
    "    x = zeros(2, NT+1)\n",
    "    xkhalf = zeros(2)\n",
    "    x[:,1] = [1.0; 0]\n",
    "    for k = 1:NT\n",
    "        xkhalf .= x[:,k] .+ (Δt/2).*f(x[:,k],ω)\n",
    "        x[:,k+1] = x[:,k] .+ Δt.*f(xkhalf, ω)\n",
    "    end\n",
    "    return x, NT\n",
    "end;    "
   ]
  },
  {
   "cell_type": "code",
   "execution_count": 3,
   "metadata": {},
   "outputs": [
    {
     "data": {
      "application/vnd.webio.node+json": {
       "children": [
        {
         "children": [
          {
           "children": [
            {
             "children": [
              {
               "children": [
                {
                 "children": [
                  "Δt"
                 ],
                 "instanceArgs": {
                  "namespace": "html",
                  "tag": "label"
                 },
                 "nodeType": "DOM",
                 "props": {
                  "className": "interact ",
                  "style": {
                   "padding": "5px 10px 0px 10px"
                  }
                 },
                 "type": "node"
                }
               ],
               "instanceArgs": {
                "namespace": "html",
                "tag": "div"
               },
               "nodeType": "DOM",
               "props": {
                "className": "interact-flex-row-left"
               },
               "type": "node"
              },
              {
               "children": [
                {
                 "children": [],
                 "instanceArgs": {
                  "namespace": "html",
                  "tag": "input"
                 },
                 "nodeType": "DOM",
                 "props": {
                  "attributes": {
                   "data-bind": "numericValue: index, valueUpdate: 'input', event: {change: function (){this.changes(this.changes()+1)}}",
                   "orient": "horizontal",
                   "type": "range"
                  },
                  "className": "slider slider is-fullwidth",
                  "labelcolor": "red",
                  "max": 40,
                  "min": 1,
                  "step": 1,
                  "style": {}
                 },
                 "type": "node"
                }
               ],
               "instanceArgs": {
                "namespace": "html",
                "tag": "div"
               },
               "nodeType": "DOM",
               "props": {
                "className": "interact-flex-row-center"
               },
               "type": "node"
              },
              {
               "children": [
                {
                 "children": [],
                 "instanceArgs": {
                  "namespace": "html",
                  "tag": "p"
                 },
                 "nodeType": "DOM",
                 "props": {
                  "attributes": {
                   "data-bind": "text: formatted_val"
                  }
                 },
                 "type": "node"
                }
               ],
               "instanceArgs": {
                "namespace": "html",
                "tag": "div"
               },
               "nodeType": "DOM",
               "props": {
                "className": "interact-flex-row-right"
               },
               "type": "node"
              }
             ],
             "instanceArgs": {
              "namespace": "html",
              "tag": "div"
             },
             "nodeType": "DOM",
             "props": {
              "className": "interact-flex-row interact-widget"
             },
             "type": "node"
            }
           ],
           "instanceArgs": {
            "handlers": {
             "changes": [
              "(function (val){return (val!=this.model[\"changes\"]()) ? (this.valueFromJulia[\"changes\"]=true, this.model[\"changes\"](val)) : undefined})"
             ],
             "index": [
              "(function (val){return (val!=this.model[\"index\"]()) ? (this.valueFromJulia[\"index\"]=true, this.model[\"index\"](val)) : undefined})"
             ]
            },
            "id": "12032531470177693052",
            "imports": {
             "data": [
              {
               "name": "knockout",
               "type": "js",
               "url": "/assetserver/27b9b06e63a2035cd4ce068857b1ecf119172cf9-knockout.js"
              },
              {
               "name": "knockout_punches",
               "type": "js",
               "url": "/assetserver/22148cf7be754c44c5332ef612c0c16111d3f465-knockout_punches.js"
              },
              {
               "name": null,
               "type": "js",
               "url": "/assetserver/8e63fad578b139abd952ac0a801775ab8ce33f99-all.js"
              },
              {
               "name": null,
               "type": "css",
               "url": "/assetserver/ea7a6ae01c38c446f0fba30ac569acf6a34c2110-style.css"
              },
              {
               "name": null,
               "type": "css",
               "url": "/assetserver/7e784f9ff3bc67b4e4b9151c3d0c87d6e5baf2fb-bulma_confined.min.css"
              }
             ],
             "type": "async_block"
            },
            "mount_callbacks": [
             "function () {\n    var handler = (function (ko, koPunches) {\n    ko.punches.enableAll();\n    ko.bindingHandlers.numericValue = {\n        init: function(element, valueAccessor, allBindings, data, context) {\n            var stringified = ko.observable(ko.unwrap(valueAccessor()));\n            stringified.subscribe(function(value) {\n                var val = parseFloat(value);\n                if (!isNaN(val)) {\n                    valueAccessor()(val);\n                }\n            });\n            valueAccessor().subscribe(function(value) {\n                var str = JSON.stringify(value);\n                if ((str == \"0\") && ([\"-0\", \"-0.\"].indexOf(stringified()) >= 0))\n                     return;\n                 if ([\"null\", \"\"].indexOf(str) >= 0)\n                     return;\n                stringified(str);\n            });\n            ko.applyBindingsToNode(\n                element,\n                {\n                    value: stringified,\n                    valueUpdate: allBindings.get('valueUpdate'),\n                },\n                context,\n            );\n        }\n    };\n    var json_data = {\"formatted_vals\":[\"0.001\",\"0.006\",\"0.011\",\"0.016\",\"0.021\",\"0.026\",\"0.031\",\"0.036\",\"0.041\",\"0.046\",\"0.051\",\"0.056\",\"0.061\",\"0.066\",\"0.071\",\"0.076\",\"0.081\",\"0.086\",\"0.091\",\"0.096\",\"0.101\",\"0.106\",\"0.111\",\"0.116\",\"0.121\",\"0.126\",\"0.131\",\"0.136\",\"0.141\",\"0.146\",\"0.151\",\"0.156\",\"0.161\",\"0.166\",\"0.171\",\"0.176\",\"0.181\",\"0.186\",\"0.191\",\"0.196\"],\"changes\":WebIO.getval({\"name\":\"changes\",\"scope\":\"12032531470177693052\",\"id\":\"11446675683200323044\",\"type\":\"observable\"}),\"index\":WebIO.getval({\"name\":\"index\",\"scope\":\"12032531470177693052\",\"id\":\"9754059361352318001\",\"type\":\"observable\"})};\n    var self = this;\n    function AppViewModel() {\n        for (var key in json_data) {\n            var el = json_data[key];\n            this[key] = Array.isArray(el) ? ko.observableArray(el) : ko.observable(el);\n        }\n        \n        [this[\"formatted_val\"]=ko.computed(    function(){\n        return this.formatted_vals()[parseInt(this.index())-(1)];\n    }\n,this)]\n        [this[\"changes\"].subscribe((function (val){!(this.valueFromJulia[\"changes\"]) ? (WebIO.setval({\"name\":\"changes\",\"scope\":\"12032531470177693052\",\"id\":\"11446675683200323044\",\"type\":\"observable\"},val)) : undefined; return this.valueFromJulia[\"changes\"]=false}),self),this[\"index\"].subscribe((function (val){!(this.valueFromJulia[\"index\"]) ? (WebIO.setval({\"name\":\"index\",\"scope\":\"12032531470177693052\",\"id\":\"9754059361352318001\",\"type\":\"observable\"},val)) : undefined; return this.valueFromJulia[\"index\"]=false}),self)]\n        \n    }\n    self.model = new AppViewModel();\n    self.valueFromJulia = {};\n    for (var key in json_data) {\n        self.valueFromJulia[key] = false;\n    }\n    ko.applyBindings(self.model, self.dom);\n}\n);\n    (WebIO.importBlock({\"data\":[{\"name\":\"knockout\",\"type\":\"js\",\"url\":\"/assetserver/27b9b06e63a2035cd4ce068857b1ecf119172cf9-knockout.js\"},{\"name\":\"knockout_punches\",\"type\":\"js\",\"url\":\"/assetserver/22148cf7be754c44c5332ef612c0c16111d3f465-knockout_punches.js\"}],\"type\":\"async_block\"})).then((imports) => handler.apply(this, imports));\n}\n"
            ],
            "observables": {
             "changes": {
              "id": "11446675683200323044",
              "sync": false,
              "value": 0
             },
             "index": {
              "id": "9754059361352318001",
              "sync": true,
              "value": 20
             }
            },
            "systemjs_options": null
           },
           "nodeType": "Scope",
           "props": {},
           "type": "node"
          }
         ],
         "instanceArgs": {
          "namespace": "html",
          "tag": "div"
         },
         "nodeType": "DOM",
         "props": {
          "className": "field interact-widget"
         },
         "type": "node"
        },
        {
         "children": [
          {
           "children": [
            {
             "children": [
              {
               "children": [
                {
                 "children": [
                  "ω"
                 ],
                 "instanceArgs": {
                  "namespace": "html",
                  "tag": "label"
                 },
                 "nodeType": "DOM",
                 "props": {
                  "className": "interact ",
                  "style": {
                   "padding": "5px 10px 0px 10px"
                  }
                 },
                 "type": "node"
                }
               ],
               "instanceArgs": {
                "namespace": "html",
                "tag": "div"
               },
               "nodeType": "DOM",
               "props": {
                "className": "interact-flex-row-left"
               },
               "type": "node"
              },
              {
               "children": [
                {
                 "children": [],
                 "instanceArgs": {
                  "namespace": "html",
                  "tag": "input"
                 },
                 "nodeType": "DOM",
                 "props": {
                  "attributes": {
                   "data-bind": "numericValue: index, valueUpdate: 'input', event: {change: function (){this.changes(this.changes()+1)}}",
                   "orient": "horizontal",
                   "type": "range"
                  },
                  "className": "slider slider is-fullwidth",
                  "max": 101,
                  "min": 1,
                  "step": 1,
                  "style": {}
                 },
                 "type": "node"
                }
               ],
               "instanceArgs": {
                "namespace": "html",
                "tag": "div"
               },
               "nodeType": "DOM",
               "props": {
                "className": "interact-flex-row-center"
               },
               "type": "node"
              },
              {
               "children": [
                {
                 "children": [],
                 "instanceArgs": {
                  "namespace": "html",
                  "tag": "p"
                 },
                 "nodeType": "DOM",
                 "props": {
                  "attributes": {
                   "data-bind": "text: formatted_val"
                  }
                 },
                 "type": "node"
                }
               ],
               "instanceArgs": {
                "namespace": "html",
                "tag": "div"
               },
               "nodeType": "DOM",
               "props": {
                "className": "interact-flex-row-right"
               },
               "type": "node"
              }
             ],
             "instanceArgs": {
              "namespace": "html",
              "tag": "div"
             },
             "nodeType": "DOM",
             "props": {
              "className": "interact-flex-row interact-widget"
             },
             "type": "node"
            }
           ],
           "instanceArgs": {
            "handlers": {
             "changes": [
              "(function (val){return (val!=this.model[\"changes\"]()) ? (this.valueFromJulia[\"changes\"]=true, this.model[\"changes\"](val)) : undefined})"
             ],
             "index": [
              "(function (val){return (val!=this.model[\"index\"]()) ? (this.valueFromJulia[\"index\"]=true, this.model[\"index\"](val)) : undefined})"
             ]
            },
            "id": "4163122659162032202",
            "imports": {
             "data": [
              {
               "name": "knockout",
               "type": "js",
               "url": "/assetserver/27b9b06e63a2035cd4ce068857b1ecf119172cf9-knockout.js"
              },
              {
               "name": "knockout_punches",
               "type": "js",
               "url": "/assetserver/22148cf7be754c44c5332ef612c0c16111d3f465-knockout_punches.js"
              },
              {
               "name": null,
               "type": "js",
               "url": "/assetserver/8e63fad578b139abd952ac0a801775ab8ce33f99-all.js"
              },
              {
               "name": null,
               "type": "css",
               "url": "/assetserver/ea7a6ae01c38c446f0fba30ac569acf6a34c2110-style.css"
              },
              {
               "name": null,
               "type": "css",
               "url": "/assetserver/7e784f9ff3bc67b4e4b9151c3d0c87d6e5baf2fb-bulma_confined.min.css"
              }
             ],
             "type": "async_block"
            },
            "mount_callbacks": [
             "function () {\n    var handler = (function (ko, koPunches) {\n    ko.punches.enableAll();\n    ko.bindingHandlers.numericValue = {\n        init: function(element, valueAccessor, allBindings, data, context) {\n            var stringified = ko.observable(ko.unwrap(valueAccessor()));\n            stringified.subscribe(function(value) {\n                var val = parseFloat(value);\n                if (!isNaN(val)) {\n                    valueAccessor()(val);\n                }\n            });\n            valueAccessor().subscribe(function(value) {\n                var str = JSON.stringify(value);\n                if ((str == \"0\") && ([\"-0\", \"-0.\"].indexOf(stringified()) >= 0))\n                     return;\n                 if ([\"null\", \"\"].indexOf(str) >= 0)\n                     return;\n                stringified(str);\n            });\n            ko.applyBindingsToNode(\n                element,\n                {\n                    value: stringified,\n                    valueUpdate: allBindings.get('valueUpdate'),\n                },\n                context,\n            );\n        }\n    };\n    var json_data = {\"formatted_vals\":[\"0.5\",\"0.51\",\"0.52\",\"0.53\",\"0.54\",\"0.55\",\"0.56\",\"0.57\",\"0.58\",\"0.59\",\"0.6\",\"0.61\",\"0.62\",\"0.63\",\"0.64\",\"0.65\",\"0.66\",\"0.67\",\"0.68\",\"0.69\",\"0.7\",\"0.71\",\"0.72\",\"0.73\",\"0.74\",\"0.75\",\"0.76\",\"0.77\",\"0.78\",\"0.79\",\"0.8\",\"0.81\",\"0.82\",\"0.83\",\"0.84\",\"0.85\",\"0.86\",\"0.87\",\"0.88\",\"0.89\",\"0.9\",\"0.91\",\"0.92\",\"0.93\",\"0.94\",\"0.95\",\"0.96\",\"0.97\",\"0.98\",\"0.99\",\"1.0\",\"1.01\",\"1.02\",\"1.03\",\"1.04\",\"1.05\",\"1.06\",\"1.07\",\"1.08\",\"1.09\",\"1.1\",\"1.11\",\"1.12\",\"1.13\",\"1.14\",\"1.15\",\"1.16\",\"1.17\",\"1.18\",\"1.19\",\"1.2\",\"1.21\",\"1.22\",\"1.23\",\"1.24\",\"1.25\",\"1.26\",\"1.27\",\"1.28\",\"1.29\",\"1.3\",\"1.31\",\"1.32\",\"1.33\",\"1.34\",\"1.35\",\"1.36\",\"1.37\",\"1.38\",\"1.39\",\"1.4\",\"1.41\",\"1.42\",\"1.43\",\"1.44\",\"1.45\",\"1.46\",\"1.47\",\"1.48\",\"1.49\",\"1.5\"],\"changes\":WebIO.getval({\"name\":\"changes\",\"scope\":\"4163122659162032202\",\"id\":\"6898024147565062981\",\"type\":\"observable\"}),\"index\":WebIO.getval({\"name\":\"index\",\"scope\":\"4163122659162032202\",\"id\":\"9092332748984693735\",\"type\":\"observable\"})};\n    var self = this;\n    function AppViewModel() {\n        for (var key in json_data) {\n            var el = json_data[key];\n            this[key] = Array.isArray(el) ? ko.observableArray(el) : ko.observable(el);\n        }\n        \n        [this[\"formatted_val\"]=ko.computed(    function(){\n        return this.formatted_vals()[parseInt(this.index())-(1)];\n    }\n,this)]\n        [this[\"changes\"].subscribe((function (val){!(this.valueFromJulia[\"changes\"]) ? (WebIO.setval({\"name\":\"changes\",\"scope\":\"4163122659162032202\",\"id\":\"6898024147565062981\",\"type\":\"observable\"},val)) : undefined; return this.valueFromJulia[\"changes\"]=false}),self),this[\"index\"].subscribe((function (val){!(this.valueFromJulia[\"index\"]) ? (WebIO.setval({\"name\":\"index\",\"scope\":\"4163122659162032202\",\"id\":\"9092332748984693735\",\"type\":\"observable\"},val)) : undefined; return this.valueFromJulia[\"index\"]=false}),self)]\n        \n    }\n    self.model = new AppViewModel();\n    self.valueFromJulia = {};\n    for (var key in json_data) {\n        self.valueFromJulia[key] = false;\n    }\n    ko.applyBindings(self.model, self.dom);\n}\n);\n    (WebIO.importBlock({\"data\":[{\"name\":\"knockout\",\"type\":\"js\",\"url\":\"/assetserver/27b9b06e63a2035cd4ce068857b1ecf119172cf9-knockout.js\"},{\"name\":\"knockout_punches\",\"type\":\"js\",\"url\":\"/assetserver/22148cf7be754c44c5332ef612c0c16111d3f465-knockout_punches.js\"}],\"type\":\"async_block\"})).then((imports) => handler.apply(this, imports));\n}\n"
            ],
            "observables": {
             "changes": {
              "id": "6898024147565062981",
              "sync": false,
              "value": 0
             },
             "index": {
              "id": "9092332748984693735",
              "sync": true,
              "value": 51
             }
            },
            "systemjs_options": null
           },
           "nodeType": "Scope",
           "props": {},
           "type": "node"
          }
         ],
         "instanceArgs": {
          "namespace": "html",
          "tag": "div"
         },
         "nodeType": "DOM",
         "props": {
          "className": "field interact-widget"
         },
         "type": "node"
        },
        {
         "children": [
          {
           "children": [
            {
             "children": [
              {
               "children": [
                {
                 "children": [
                  "T"
                 ],
                 "instanceArgs": {
                  "namespace": "html",
                  "tag": "label"
                 },
                 "nodeType": "DOM",
                 "props": {
                  "className": "interact ",
                  "style": {
                   "padding": "5px 10px 0px 10px"
                  }
                 },
                 "type": "node"
                }
               ],
               "instanceArgs": {
                "namespace": "html",
                "tag": "div"
               },
               "nodeType": "DOM",
               "props": {
                "className": "interact-flex-row-left"
               },
               "type": "node"
              },
              {
               "children": [
                {
                 "children": [
                  {
                   "children": [
                    {
                     "children": [],
                     "instanceArgs": {
                      "namespace": "html",
                      "tag": "label"
                     },
                     "nodeType": "DOM",
                     "props": {
                      "attributes": {
                       "data-bind": "text : key"
                      }
                     },
                     "type": "node"
                    }
                   ],
                   "instanceArgs": {
                    "namespace": "html",
                    "tag": "span"
                   },
                   "nodeType": "DOM",
                   "props": {
                    "attributes": {
                     "data-bind": "click: function (){$root.update(val)}, css: {'is-primary is-selected' : $root.index() == val, 'interact-widget is-medium button ' : true}"
                    }
                   },
                   "type": "node"
                  }
                 ],
                 "instanceArgs": {
                  "namespace": "html",
                  "tag": "div"
                 },
                 "nodeType": "DOM",
                 "props": {
                  "attributes": {
                   "data-bind": "foreach : options_js"
                  },
                  "className": "buttons has-addons is-centered"
                 },
                 "type": "node"
                }
               ],
               "instanceArgs": {
                "namespace": "html",
                "tag": "div"
               },
               "nodeType": "DOM",
               "props": {
                "className": "interact-flex-row-center"
               },
               "type": "node"
              },
              {
               "children": [
                {
                 "children": [],
                 "instanceArgs": {
                  "namespace": "html",
                  "tag": "div"
                 },
                 "nodeType": "DOM",
                 "props": {},
                 "type": "node"
                }
               ],
               "instanceArgs": {
                "namespace": "html",
                "tag": "div"
               },
               "nodeType": "DOM",
               "props": {
                "className": "interact-flex-row-right"
               },
               "type": "node"
              }
             ],
             "instanceArgs": {
              "namespace": "html",
              "tag": "div"
             },
             "nodeType": "DOM",
             "props": {
              "className": "interact-flex-row interact-widget"
             },
             "type": "node"
            }
           ],
           "instanceArgs": {
            "handlers": {
             "index": [
              "(function (val){return (val!=this.model[\"index\"]()) ? (this.valueFromJulia[\"index\"]=true, this.model[\"index\"](val)) : undefined})"
             ],
             "options_js": [
              "(function (val){return (val!=this.model[\"options_js\"]()) ? (this.valueFromJulia[\"options_js\"]=true, this.model[\"options_js\"](val)) : undefined})"
             ]
            },
            "id": "12290048761972820872",
            "imports": {
             "data": [
              {
               "name": "knockout",
               "type": "js",
               "url": "/assetserver/27b9b06e63a2035cd4ce068857b1ecf119172cf9-knockout.js"
              },
              {
               "name": "knockout_punches",
               "type": "js",
               "url": "/assetserver/22148cf7be754c44c5332ef612c0c16111d3f465-knockout_punches.js"
              },
              {
               "name": null,
               "type": "js",
               "url": "/assetserver/8e63fad578b139abd952ac0a801775ab8ce33f99-all.js"
              },
              {
               "name": null,
               "type": "css",
               "url": "/assetserver/ea7a6ae01c38c446f0fba30ac569acf6a34c2110-style.css"
              },
              {
               "name": null,
               "type": "css",
               "url": "/assetserver/7e784f9ff3bc67b4e4b9151c3d0c87d6e5baf2fb-bulma_confined.min.css"
              }
             ],
             "type": "async_block"
            },
            "mount_callbacks": [
             "function () {\n    var handler = (function (ko, koPunches) {\n    ko.punches.enableAll();\n    ko.bindingHandlers.numericValue = {\n        init: function(element, valueAccessor, allBindings, data, context) {\n            var stringified = ko.observable(ko.unwrap(valueAccessor()));\n            stringified.subscribe(function(value) {\n                var val = parseFloat(value);\n                if (!isNaN(val)) {\n                    valueAccessor()(val);\n                }\n            });\n            valueAccessor().subscribe(function(value) {\n                var str = JSON.stringify(value);\n                if ((str == \"0\") && ([\"-0\", \"-0.\"].indexOf(stringified()) >= 0))\n                     return;\n                 if ([\"null\", \"\"].indexOf(str) >= 0)\n                     return;\n                stringified(str);\n            });\n            ko.applyBindingsToNode(\n                element,\n                {\n                    value: stringified,\n                    valueUpdate: allBindings.get('valueUpdate'),\n                },\n                context,\n            );\n        }\n    };\n    var json_data = {\"options_js\":WebIO.getval({\"name\":\"options_js\",\"scope\":\"12290048761972820872\",\"id\":\"13745764963346577175\",\"type\":\"observable\"}),\"index\":WebIO.getval({\"name\":\"index\",\"scope\":\"12290048761972820872\",\"id\":\"8703979046378886986\",\"type\":\"observable\"})};\n    var self = this;\n    function AppViewModel() {\n        for (var key in json_data) {\n            var el = json_data[key];\n            this[key] = Array.isArray(el) ? ko.observableArray(el) : ko.observable(el);\n        }\n        [this[\"update\"]=function (val) {this.index(val)}]\n        \n        [this[\"options_js\"].subscribe((function (val){!(this.valueFromJulia[\"options_js\"]) ? (WebIO.setval({\"name\":\"options_js\",\"scope\":\"12290048761972820872\",\"id\":\"13745764963346577175\",\"type\":\"observable\"},val)) : undefined; return this.valueFromJulia[\"options_js\"]=false}),self),this[\"index\"].subscribe((function (val){!(this.valueFromJulia[\"index\"]) ? (WebIO.setval({\"name\":\"index\",\"scope\":\"12290048761972820872\",\"id\":\"8703979046378886986\",\"type\":\"observable\"},val)) : undefined; return this.valueFromJulia[\"index\"]=false}),self)]\n        \n    }\n    self.model = new AppViewModel();\n    self.valueFromJulia = {};\n    for (var key in json_data) {\n        self.valueFromJulia[key] = false;\n    }\n    ko.applyBindings(self.model, self.dom);\n}\n);\n    (WebIO.importBlock({\"data\":[{\"name\":\"knockout\",\"type\":\"js\",\"url\":\"/assetserver/27b9b06e63a2035cd4ce068857b1ecf119172cf9-knockout.js\"},{\"name\":\"knockout_punches\",\"type\":\"js\",\"url\":\"/assetserver/22148cf7be754c44c5332ef612c0c16111d3f465-knockout_punches.js\"}],\"type\":\"async_block\"})).then((imports) => handler.apply(this, imports));\n}\n"
            ],
            "observables": {
             "index": {
              "id": "8703979046378886986",
              "sync": true,
              "value": 1
             },
             "options_js": {
              "id": "13745764963346577175",
              "sync": false,
              "value": [
               {
                "id": "ideBRo60Fm",
                "key": "T=10",
                "val": 1
               },
               {
                "id": "idt3fpgTlI",
                "key": "T=20",
                "val": 2
               },
               {
                "id": "idgpNtWcOI",
                "key": "T=50",
                "val": 3
               }
              ]
             }
            },
            "systemjs_options": null
           },
           "nodeType": "Scope",
           "props": {},
           "type": "node"
          }
         ],
         "instanceArgs": {
          "namespace": "html",
          "tag": "div"
         },
         "nodeType": "DOM",
         "props": {
          "className": "interact-widget"
         },
         "type": "node"
        },
        {
         "children": [
          {
           "children": [
            {
             "children": [
              {
               "children": [
                {
                 "children": [
                  "y-axis"
                 ],
                 "instanceArgs": {
                  "namespace": "html",
                  "tag": "label"
                 },
                 "nodeType": "DOM",
                 "props": {
                  "className": "interact ",
                  "style": {
                   "padding": "5px 10px 0px 10px"
                  }
                 },
                 "type": "node"
                }
               ],
               "instanceArgs": {
                "namespace": "html",
                "tag": "div"
               },
               "nodeType": "DOM",
               "props": {
                "className": "interact-flex-row-left"
               },
               "type": "node"
              },
              {
               "children": [
                {
                 "children": [
                  {
                   "children": [
                    {
                     "children": [],
                     "instanceArgs": {
                      "namespace": "html",
                      "tag": "label"
                     },
                     "nodeType": "DOM",
                     "props": {
                      "attributes": {
                       "data-bind": "text : key"
                      }
                     },
                     "type": "node"
                    }
                   ],
                   "instanceArgs": {
                    "namespace": "html",
                    "tag": "span"
                   },
                   "nodeType": "DOM",
                   "props": {
                    "attributes": {
                     "data-bind": "click: function (){$root.update(val)}, css: {'is-primary is-selected' : $root.index() == val, 'interact-widget is-medium button ' : true}"
                    }
                   },
                   "type": "node"
                  }
                 ],
                 "instanceArgs": {
                  "namespace": "html",
                  "tag": "div"
                 },
                 "nodeType": "DOM",
                 "props": {
                  "attributes": {
                   "data-bind": "foreach : options_js"
                  },
                  "className": "buttons has-addons is-centered"
                 },
                 "type": "node"
                }
               ],
               "instanceArgs": {
                "namespace": "html",
                "tag": "div"
               },
               "nodeType": "DOM",
               "props": {
                "className": "interact-flex-row-center"
               },
               "type": "node"
              },
              {
               "children": [
                {
                 "children": [],
                 "instanceArgs": {
                  "namespace": "html",
                  "tag": "div"
                 },
                 "nodeType": "DOM",
                 "props": {},
                 "type": "node"
                }
               ],
               "instanceArgs": {
                "namespace": "html",
                "tag": "div"
               },
               "nodeType": "DOM",
               "props": {
                "className": "interact-flex-row-right"
               },
               "type": "node"
              }
             ],
             "instanceArgs": {
              "namespace": "html",
              "tag": "div"
             },
             "nodeType": "DOM",
             "props": {
              "className": "interact-flex-row interact-widget"
             },
             "type": "node"
            }
           ],
           "instanceArgs": {
            "handlers": {
             "index": [
              "(function (val){return (val!=this.model[\"index\"]()) ? (this.valueFromJulia[\"index\"]=true, this.model[\"index\"](val)) : undefined})"
             ],
             "options_js": [
              "(function (val){return (val!=this.model[\"options_js\"]()) ? (this.valueFromJulia[\"options_js\"]=true, this.model[\"options_js\"](val)) : undefined})"
             ]
            },
            "id": "1281993259716532196",
            "imports": {
             "data": [
              {
               "name": "knockout",
               "type": "js",
               "url": "/assetserver/27b9b06e63a2035cd4ce068857b1ecf119172cf9-knockout.js"
              },
              {
               "name": "knockout_punches",
               "type": "js",
               "url": "/assetserver/22148cf7be754c44c5332ef612c0c16111d3f465-knockout_punches.js"
              },
              {
               "name": null,
               "type": "js",
               "url": "/assetserver/8e63fad578b139abd952ac0a801775ab8ce33f99-all.js"
              },
              {
               "name": null,
               "type": "css",
               "url": "/assetserver/ea7a6ae01c38c446f0fba30ac569acf6a34c2110-style.css"
              },
              {
               "name": null,
               "type": "css",
               "url": "/assetserver/7e784f9ff3bc67b4e4b9151c3d0c87d6e5baf2fb-bulma_confined.min.css"
              }
             ],
             "type": "async_block"
            },
            "mount_callbacks": [
             "function () {\n    var handler = (function (ko, koPunches) {\n    ko.punches.enableAll();\n    ko.bindingHandlers.numericValue = {\n        init: function(element, valueAccessor, allBindings, data, context) {\n            var stringified = ko.observable(ko.unwrap(valueAccessor()));\n            stringified.subscribe(function(value) {\n                var val = parseFloat(value);\n                if (!isNaN(val)) {\n                    valueAccessor()(val);\n                }\n            });\n            valueAccessor().subscribe(function(value) {\n                var str = JSON.stringify(value);\n                if ((str == \"0\") && ([\"-0\", \"-0.\"].indexOf(stringified()) >= 0))\n                     return;\n                 if ([\"null\", \"\"].indexOf(str) >= 0)\n                     return;\n                stringified(str);\n            });\n            ko.applyBindingsToNode(\n                element,\n                {\n                    value: stringified,\n                    valueUpdate: allBindings.get('valueUpdate'),\n                },\n                context,\n            );\n        }\n    };\n    var json_data = {\"options_js\":WebIO.getval({\"name\":\"options_js\",\"scope\":\"1281993259716532196\",\"id\":\"17079846351311030008\",\"type\":\"observable\"}),\"index\":WebIO.getval({\"name\":\"index\",\"scope\":\"1281993259716532196\",\"id\":\"7298276686253703608\",\"type\":\"observable\"})};\n    var self = this;\n    function AppViewModel() {\n        for (var key in json_data) {\n            var el = json_data[key];\n            this[key] = Array.isArray(el) ? ko.observableArray(el) : ko.observable(el);\n        }\n        [this[\"update\"]=function (val) {this.index(val)}]\n        \n        [this[\"options_js\"].subscribe((function (val){!(this.valueFromJulia[\"options_js\"]) ? (WebIO.setval({\"name\":\"options_js\",\"scope\":\"1281993259716532196\",\"id\":\"17079846351311030008\",\"type\":\"observable\"},val)) : undefined; return this.valueFromJulia[\"options_js\"]=false}),self),this[\"index\"].subscribe((function (val){!(this.valueFromJulia[\"index\"]) ? (WebIO.setval({\"name\":\"index\",\"scope\":\"1281993259716532196\",\"id\":\"7298276686253703608\",\"type\":\"observable\"},val)) : undefined; return this.valueFromJulia[\"index\"]=false}),self)]\n        \n    }\n    self.model = new AppViewModel();\n    self.valueFromJulia = {};\n    for (var key in json_data) {\n        self.valueFromJulia[key] = false;\n    }\n    ko.applyBindings(self.model, self.dom);\n}\n);\n    (WebIO.importBlock({\"data\":[{\"name\":\"knockout\",\"type\":\"js\",\"url\":\"/assetserver/27b9b06e63a2035cd4ce068857b1ecf119172cf9-knockout.js\"},{\"name\":\"knockout_punches\",\"type\":\"js\",\"url\":\"/assetserver/22148cf7be754c44c5332ef612c0c16111d3f465-knockout_punches.js\"}],\"type\":\"async_block\"})).then((imports) => handler.apply(this, imports));\n}\n"
            ],
            "observables": {
             "index": {
              "id": "7298276686253703608",
              "sync": true,
              "value": 1
             },
             "options_js": {
              "id": "17079846351311030008",
              "sync": false,
              "value": [
               {
                "id": "idKh5xrd9W",
                "key": "auto",
                "val": 1
               },
               {
                "id": "idrXRf3DtD",
                "key": "fixed",
                "val": 2
               }
              ]
             }
            },
            "systemjs_options": null
           },
           "nodeType": "Scope",
           "props": {},
           "type": "node"
          }
         ],
         "instanceArgs": {
          "namespace": "html",
          "tag": "div"
         },
         "nodeType": "DOM",
         "props": {
          "className": "interact-widget"
         },
         "type": "node"
        },
        {
         "children": [
          {
           "children": [],
           "instanceArgs": {
            "id": "11854252010119504829",
            "name": "obs-node"
           },
           "nodeType": "ObservableNode",
           "props": {},
           "type": "node"
          }
         ],
         "instanceArgs": {
          "handlers": {},
          "id": "6636031464034010662",
          "imports": {
           "data": [],
           "type": "async_block"
          },
          "mount_callbacks": [],
          "observables": {
           "obs-node": {
            "id": "11854252010119504829",
            "sync": false,
            "value": {
             "children": [
              {
               "children": [
                {
                 "children": [],
                 "instanceArgs": {
                  "namespace": "html",
                  "tag": "div"
                 },
                 "nodeType": "DOM",
                 "props": {
                  "setInnerHtml": "<?xml version=\"1.0\" encoding=\"utf-8\"?>\n<svg xmlns=\"http://www.w3.org/2000/svg\" xmlns:xlink=\"http://www.w3.org/1999/xlink\" width=\"1000\" height=\"300\" viewBox=\"0 0 4000 1200\">\n<defs>\n  <clipPath id=\"clip930\">\n    <rect x=\"0\" y=\"0\" width=\"4000\" height=\"1200\"/>\n  </clipPath>\n</defs>\n<path clip-path=\"url(#clip930)\" d=\"\nM0 1200 L4000 1200 L4000 0 L0 0  Z\n  \" fill=\"#ffffff\" fill-rule=\"evenodd\" fill-opacity=\"1\"/>\n<defs>\n  <clipPath id=\"clip931\">\n    <rect x=\"800\" y=\"0\" width=\"2801\" height=\"1200\"/>\n  </clipPath>\n</defs>\n<path clip-path=\"url(#clip930)\" d=\"\nM195.654 1109.46 L1952.76 1109.46 L1952.76 47.2441 L195.654 47.2441  Z\n  \" fill=\"#ffffff\" fill-rule=\"evenodd\" fill-opacity=\"1\"/>\n<defs>\n  <clipPath id=\"clip932\">\n    <rect x=\"195\" y=\"47\" width=\"1758\" height=\"1063\"/>\n  </clipPath>\n</defs>\n<polyline clip-path=\"url(#clip932)\" style=\"stroke:#000000; stroke-width:2; stroke-opacity:0.1; fill:none\" points=\"\n  245.383,1109.46 245.383,47.2441 \n  \"/>\n<polyline clip-path=\"url(#clip932)\" style=\"stroke:#000000; stroke-width:2; stroke-opacity:0.1; fill:none\" points=\"\n  659.794,1109.46 659.794,47.2441 \n  \"/>\n<polyline clip-path=\"url(#clip932)\" style=\"stroke:#000000; stroke-width:2; stroke-opacity:0.1; fill:none\" points=\"\n  1074.2,1109.46 1074.2,47.2441 \n  \"/>\n<polyline clip-path=\"url(#clip932)\" style=\"stroke:#000000; stroke-width:2; stroke-opacity:0.1; fill:none\" points=\"\n  1488.62,1109.46 1488.62,47.2441 \n  \"/>\n<polyline clip-path=\"url(#clip932)\" style=\"stroke:#000000; stroke-width:2; stroke-opacity:0.1; fill:none\" points=\"\n  1903.03,1109.46 1903.03,47.2441 \n  \"/>\n<polyline clip-path=\"url(#clip930)\" style=\"stroke:#000000; stroke-width:4; stroke-opacity:1; fill:none\" points=\"\n  195.654,1109.46 1952.76,1109.46 \n  \"/>\n<polyline clip-path=\"url(#clip930)\" style=\"stroke:#000000; stroke-width:4; stroke-opacity:1; fill:none\" points=\"\n  245.383,1109.46 245.383,1096.71 \n  \"/>\n<polyline clip-path=\"url(#clip930)\" style=\"stroke:#000000; stroke-width:4; stroke-opacity:1; fill:none\" points=\"\n  659.794,1109.46 659.794,1096.71 \n  \"/>\n<polyline clip-path=\"url(#clip930)\" style=\"stroke:#000000; stroke-width:4; stroke-opacity:1; fill:none\" points=\"\n  1074.2,1109.46 1074.2,1096.71 \n  \"/>\n<polyline clip-path=\"url(#clip930)\" style=\"stroke:#000000; stroke-width:4; stroke-opacity:1; fill:none\" points=\"\n  1488.62,1109.46 1488.62,1096.71 \n  \"/>\n<polyline clip-path=\"url(#clip930)\" style=\"stroke:#000000; stroke-width:4; stroke-opacity:1; fill:none\" points=\"\n  1903.03,1109.46 1903.03,1096.71 \n  \"/>\n<path clip-path=\"url(#clip930)\" d=\"M 0 0 M226.899 1151.45 Q223.288 1151.45 221.459 1155.01 Q219.654 1158.55 219.654 1165.68 Q219.654 1172.79 221.459 1176.35 Q223.288 1179.9 226.899 1179.9 Q230.534 1179.9 232.339 1176.35 Q234.168 1172.79 234.168 1165.68 Q234.168 1158.55 232.339 1155.01 Q230.534 1151.45 226.899 1151.45 M226.899 1147.74 Q232.709 1147.74 235.765 1152.35 Q238.844 1156.93 238.844 1165.68 Q238.844 1174.41 235.765 1179.02 Q232.709 1183.6 226.899 1183.6 Q221.089 1183.6 218.01 1179.02 Q214.955 1174.41 214.955 1165.68 Q214.955 1156.93 218.01 1152.35 Q221.089 1147.74 226.899 1147.74 Z\" fill=\"#000000\" fill-rule=\"evenodd\" fill-opacity=\"1\" /><path clip-path=\"url(#clip930)\" d=\"M 0 0 M243.913 1177.05 L248.797 1177.05 L248.797 1182.93 L243.913 1182.93 L243.913 1177.05 Z\" fill=\"#000000\" fill-rule=\"evenodd\" fill-opacity=\"1\" /><path clip-path=\"url(#clip930)\" d=\"M 0 0 M263.867 1151.45 Q260.256 1151.45 258.427 1155.01 Q256.621 1158.55 256.621 1165.68 Q256.621 1172.79 258.427 1176.35 Q260.256 1179.9 263.867 1179.9 Q267.501 1179.9 269.306 1176.35 Q271.135 1172.79 271.135 1165.68 Q271.135 1158.55 269.306 1155.01 Q267.501 1151.45 263.867 1151.45 M263.867 1147.74 Q269.677 1147.74 272.732 1152.35 Q275.811 1156.93 275.811 1165.68 Q275.811 1174.41 272.732 1179.02 Q269.677 1183.6 263.867 1183.6 Q258.057 1183.6 254.978 1179.02 Q251.922 1174.41 251.922 1165.68 Q251.922 1156.93 254.978 1152.35 Q258.057 1147.74 263.867 1147.74 Z\" fill=\"#000000\" fill-rule=\"evenodd\" fill-opacity=\"1\" /><path clip-path=\"url(#clip930)\" d=\"M 0 0 M636.461 1178.99 L652.78 1178.99 L652.78 1182.93 L630.836 1182.93 L630.836 1178.99 Q633.498 1176.24 638.081 1171.61 Q642.687 1166.96 643.868 1165.61 Q646.113 1163.09 646.993 1161.35 Q647.896 1159.59 647.896 1157.9 Q647.896 1155.15 645.951 1153.41 Q644.03 1151.68 640.928 1151.68 Q638.729 1151.68 636.275 1152.44 Q633.845 1153.21 631.067 1154.76 L631.067 1150.03 Q633.891 1148.9 636.345 1148.32 Q638.799 1147.74 640.836 1147.74 Q646.206 1147.74 649.4 1150.43 Q652.595 1153.11 652.595 1157.6 Q652.595 1159.73 651.785 1161.65 Q650.998 1163.55 648.891 1166.15 Q648.312 1166.82 645.211 1170.03 Q642.109 1173.23 636.461 1178.99 Z\" fill=\"#000000\" fill-rule=\"evenodd\" fill-opacity=\"1\" /><path clip-path=\"url(#clip930)\" d=\"M 0 0 M657.849 1177.05 L662.734 1177.05 L662.734 1182.93 L657.849 1182.93 L657.849 1177.05 Z\" fill=\"#000000\" fill-rule=\"evenodd\" fill-opacity=\"1\" /><path clip-path=\"url(#clip930)\" d=\"M 0 0 M667.849 1148.37 L686.206 1148.37 L686.206 1152.3 L672.132 1152.3 L672.132 1160.78 Q673.15 1160.43 674.169 1160.27 Q675.187 1160.08 676.206 1160.08 Q681.993 1160.08 685.372 1163.25 Q688.752 1166.42 688.752 1171.84 Q688.752 1177.42 685.28 1180.52 Q681.808 1183.6 675.488 1183.6 Q673.312 1183.6 671.044 1183.23 Q668.798 1182.86 666.391 1182.12 L666.391 1177.42 Q668.474 1178.55 670.697 1179.11 Q672.919 1179.66 675.396 1179.66 Q679.4 1179.66 681.738 1177.56 Q684.076 1175.45 684.076 1171.84 Q684.076 1168.23 681.738 1166.12 Q679.4 1164.02 675.396 1164.02 Q673.521 1164.02 671.646 1164.43 Q669.794 1164.85 667.849 1165.73 L667.849 1148.37 Z\" fill=\"#000000\" fill-rule=\"evenodd\" fill-opacity=\"1\" /><path clip-path=\"url(#clip930)\" d=\"M 0 0 M1046 1148.37 L1064.36 1148.37 L1064.36 1152.3 L1050.28 1152.3 L1050.28 1160.78 Q1051.3 1160.43 1052.32 1160.27 Q1053.34 1160.08 1054.36 1160.08 Q1060.14 1160.08 1063.52 1163.25 Q1066.9 1166.42 1066.9 1171.84 Q1066.9 1177.42 1063.43 1180.52 Q1059.96 1183.6 1053.64 1183.6 Q1051.46 1183.6 1049.19 1183.23 Q1046.95 1182.86 1044.54 1182.12 L1044.54 1177.42 Q1046.62 1178.55 1048.85 1179.11 Q1051.07 1179.66 1053.55 1179.66 Q1057.55 1179.66 1059.89 1177.56 Q1062.23 1175.45 1062.23 1171.84 Q1062.23 1168.23 1059.89 1166.12 Q1057.55 1164.02 1053.55 1164.02 Q1051.67 1164.02 1049.8 1164.43 Q1047.94 1164.85 1046 1165.73 L1046 1148.37 Z\" fill=\"#000000\" fill-rule=\"evenodd\" fill-opacity=\"1\" /><path clip-path=\"url(#clip930)\" d=\"M 0 0 M1071.97 1177.05 L1076.86 1177.05 L1076.86 1182.93 L1071.97 1182.93 L1071.97 1177.05 Z\" fill=\"#000000\" fill-rule=\"evenodd\" fill-opacity=\"1\" /><path clip-path=\"url(#clip930)\" d=\"M 0 0 M1091.92 1151.45 Q1088.31 1151.45 1086.48 1155.01 Q1084.68 1158.55 1084.68 1165.68 Q1084.68 1172.79 1086.48 1176.35 Q1088.31 1179.9 1091.92 1179.9 Q1095.56 1179.9 1097.36 1176.35 Q1099.19 1172.79 1099.19 1165.68 Q1099.19 1158.55 1097.36 1155.01 Q1095.56 1151.45 1091.92 1151.45 M1091.92 1147.74 Q1097.73 1147.74 1100.79 1152.35 Q1103.87 1156.93 1103.87 1165.68 Q1103.87 1174.41 1100.79 1179.02 Q1097.73 1183.6 1091.92 1183.6 Q1086.11 1183.6 1083.04 1179.02 Q1079.98 1174.41 1079.98 1165.68 Q1079.98 1156.93 1083.04 1152.35 Q1086.11 1147.74 1091.92 1147.74 Z\" fill=\"#000000\" fill-rule=\"evenodd\" fill-opacity=\"1\" /><path clip-path=\"url(#clip930)\" d=\"M 0 0 M1459.52 1148.37 L1481.74 1148.37 L1481.74 1150.36 L1469.19 1182.93 L1464.31 1182.93 L1476.12 1152.3 L1459.52 1152.3 L1459.52 1148.37 Z\" fill=\"#000000\" fill-rule=\"evenodd\" fill-opacity=\"1\" /><path clip-path=\"url(#clip930)\" d=\"M 0 0 M1486.81 1177.05 L1491.69 1177.05 L1491.69 1182.93 L1486.81 1182.93 L1486.81 1177.05 Z\" fill=\"#000000\" fill-rule=\"evenodd\" fill-opacity=\"1\" /><path clip-path=\"url(#clip930)\" d=\"M 0 0 M1496.81 1148.37 L1515.17 1148.37 L1515.17 1152.3 L1501.09 1152.3 L1501.09 1160.78 Q1502.11 1160.43 1503.13 1160.27 Q1504.15 1160.08 1505.17 1160.08 Q1510.95 1160.08 1514.33 1163.25 Q1517.71 1166.42 1517.71 1171.84 Q1517.71 1177.42 1514.24 1180.52 Q1510.77 1183.6 1504.45 1183.6 Q1502.27 1183.6 1500 1183.23 Q1497.76 1182.86 1495.35 1182.12 L1495.35 1177.42 Q1497.44 1178.55 1499.66 1179.11 Q1501.88 1179.66 1504.36 1179.66 Q1508.36 1179.66 1510.7 1177.56 Q1513.04 1175.45 1513.04 1171.84 Q1513.04 1168.23 1510.7 1166.12 Q1508.36 1164.02 1504.36 1164.02 Q1502.48 1164.02 1500.61 1164.43 Q1498.75 1164.85 1496.81 1165.73 L1496.81 1148.37 Z\" fill=\"#000000\" fill-rule=\"evenodd\" fill-opacity=\"1\" /><path clip-path=\"url(#clip930)\" d=\"M 0 0 M1861.42 1178.99 L1869.06 1178.99 L1869.06 1152.63 L1860.75 1154.29 L1860.75 1150.03 L1869.01 1148.37 L1873.69 1148.37 L1873.69 1178.99 L1881.33 1178.99 L1881.33 1182.93 L1861.42 1182.93 L1861.42 1178.99 Z\" fill=\"#000000\" fill-rule=\"evenodd\" fill-opacity=\"1\" /><path clip-path=\"url(#clip930)\" d=\"M 0 0 M1896.39 1151.45 Q1892.78 1151.45 1890.95 1155.01 Q1889.15 1158.55 1889.15 1165.68 Q1889.15 1172.79 1890.95 1176.35 Q1892.78 1179.9 1896.39 1179.9 Q1900.03 1179.9 1901.83 1176.35 Q1903.66 1172.79 1903.66 1165.68 Q1903.66 1158.55 1901.83 1155.01 Q1900.03 1151.45 1896.39 1151.45 M1896.39 1147.74 Q1902.2 1147.74 1905.26 1152.35 Q1908.34 1156.93 1908.34 1165.68 Q1908.34 1174.41 1905.26 1179.02 Q1902.2 1183.6 1896.39 1183.6 Q1890.58 1183.6 1887.51 1179.02 Q1884.45 1174.41 1884.45 1165.68 Q1884.45 1156.93 1887.51 1152.35 Q1890.58 1147.74 1896.39 1147.74 Z\" fill=\"#000000\" fill-rule=\"evenodd\" fill-opacity=\"1\" /><path clip-path=\"url(#clip930)\" d=\"M 0 0 M1913.41 1177.05 L1918.29 1177.05 L1918.29 1182.93 L1913.41 1182.93 L1913.41 1177.05 Z\" fill=\"#000000\" fill-rule=\"evenodd\" fill-opacity=\"1\" /><path clip-path=\"url(#clip930)\" d=\"M 0 0 M1933.36 1151.45 Q1929.75 1151.45 1927.92 1155.01 Q1926.12 1158.55 1926.12 1165.68 Q1926.12 1172.79 1927.92 1176.35 Q1929.75 1179.9 1933.36 1179.9 Q1937 1179.9 1938.8 1176.35 Q1940.63 1172.79 1940.63 1165.68 Q1940.63 1158.55 1938.8 1155.01 Q1937 1151.45 1933.36 1151.45 M1933.36 1147.74 Q1939.17 1147.74 1942.23 1152.35 Q1945.31 1156.93 1945.31 1165.68 Q1945.31 1174.41 1942.23 1179.02 Q1939.17 1183.6 1933.36 1183.6 Q1927.55 1183.6 1924.47 1179.02 Q1921.42 1174.41 1921.42 1165.68 Q1921.42 1156.93 1924.47 1152.35 Q1927.55 1147.74 1933.36 1147.74 Z\" fill=\"#000000\" fill-rule=\"evenodd\" fill-opacity=\"1\" /><polyline clip-path=\"url(#clip932)\" style=\"stroke:#000000; stroke-width:2; stroke-opacity:0.1; fill:none\" points=\"\n  195.654,1054.47 1952.76,1054.47 \n  \"/>\n<polyline clip-path=\"url(#clip932)\" style=\"stroke:#000000; stroke-width:2; stroke-opacity:0.1; fill:none\" points=\"\n  195.654,883.202 1952.76,883.202 \n  \"/>\n<polyline clip-path=\"url(#clip932)\" style=\"stroke:#000000; stroke-width:2; stroke-opacity:0.1; fill:none\" points=\"\n  195.654,711.939 1952.76,711.939 \n  \"/>\n<polyline clip-path=\"url(#clip932)\" style=\"stroke:#000000; stroke-width:2; stroke-opacity:0.1; fill:none\" points=\"\n  195.654,540.676 1952.76,540.676 \n  \"/>\n<polyline clip-path=\"url(#clip932)\" style=\"stroke:#000000; stroke-width:2; stroke-opacity:0.1; fill:none\" points=\"\n  195.654,369.413 1952.76,369.413 \n  \"/>\n<polyline clip-path=\"url(#clip932)\" style=\"stroke:#000000; stroke-width:2; stroke-opacity:0.1; fill:none\" points=\"\n  195.654,198.149 1952.76,198.149 \n  \"/>\n<polyline clip-path=\"url(#clip930)\" style=\"stroke:#000000; stroke-width:4; stroke-opacity:1; fill:none\" points=\"\n  195.654,1109.46 195.654,47.2441 \n  \"/>\n<polyline clip-path=\"url(#clip930)\" style=\"stroke:#000000; stroke-width:4; stroke-opacity:1; fill:none\" points=\"\n  195.654,1054.47 216.739,1054.47 \n  \"/>\n<polyline clip-path=\"url(#clip930)\" style=\"stroke:#000000; stroke-width:4; stroke-opacity:1; fill:none\" points=\"\n  195.654,883.202 216.739,883.202 \n  \"/>\n<polyline clip-path=\"url(#clip930)\" style=\"stroke:#000000; stroke-width:4; stroke-opacity:1; fill:none\" points=\"\n  195.654,711.939 216.739,711.939 \n  \"/>\n<polyline clip-path=\"url(#clip930)\" style=\"stroke:#000000; stroke-width:4; stroke-opacity:1; fill:none\" points=\"\n  195.654,540.676 216.739,540.676 \n  \"/>\n<polyline clip-path=\"url(#clip930)\" style=\"stroke:#000000; stroke-width:4; stroke-opacity:1; fill:none\" points=\"\n  195.654,369.413 216.739,369.413 \n  \"/>\n<polyline clip-path=\"url(#clip930)\" style=\"stroke:#000000; stroke-width:4; stroke-opacity:1; fill:none\" points=\"\n  195.654,198.149 216.739,198.149 \n  \"/>\n<path clip-path=\"url(#clip930)\" d=\"M 0 0 M44.219 1054.92 L73.8947 1054.92 L73.8947 1058.85 L44.219 1058.85 L44.219 1054.92 Z\" fill=\"#000000\" fill-rule=\"evenodd\" fill-opacity=\"1\" /><path clip-path=\"url(#clip930)\" d=\"M 0 0 M79.7743 1067.81 L87.4132 1067.81 L87.4132 1041.44 L79.103 1043.11 L79.103 1038.85 L87.3669 1037.19 L92.0428 1037.19 L92.0428 1067.81 L99.6816 1067.81 L99.6816 1071.75 L79.7743 1071.75 L79.7743 1067.81 Z\" fill=\"#000000\" fill-rule=\"evenodd\" fill-opacity=\"1\" /><path clip-path=\"url(#clip930)\" d=\"M 0 0 M104.751 1065.87 L109.635 1065.87 L109.635 1071.75 L104.751 1071.75 L104.751 1065.87 Z\" fill=\"#000000\" fill-rule=\"evenodd\" fill-opacity=\"1\" /><path clip-path=\"url(#clip930)\" d=\"M 0 0 M114.751 1037.19 L133.107 1037.19 L133.107 1041.12 L119.033 1041.12 L119.033 1049.59 Q120.052 1049.25 121.07 1049.08 Q122.089 1048.9 123.107 1048.9 Q128.894 1048.9 132.274 1052.07 Q135.654 1055.24 135.654 1060.66 Q135.654 1066.24 132.181 1069.34 Q128.709 1072.42 122.39 1072.42 Q120.214 1072.42 117.945 1072.05 Q115.7 1071.68 113.293 1070.94 L113.293 1066.24 Q115.376 1067.37 117.598 1067.93 Q119.82 1068.48 122.297 1068.48 Q126.302 1068.48 128.64 1066.37 Q130.978 1064.27 130.978 1060.66 Q130.978 1057.05 128.64 1054.94 Q126.302 1052.83 122.297 1052.83 Q120.422 1052.83 118.547 1053.25 Q116.695 1053.67 114.751 1054.55 L114.751 1037.19 Z\" fill=\"#000000\" fill-rule=\"evenodd\" fill-opacity=\"1\" /><path clip-path=\"url(#clip930)\" d=\"M 0 0 M43.2236 883.653 L72.8994 883.653 L72.8994 887.589 L43.2236 887.589 L43.2236 883.653 Z\" fill=\"#000000\" fill-rule=\"evenodd\" fill-opacity=\"1\" /><path clip-path=\"url(#clip930)\" d=\"M 0 0 M78.779 896.547 L86.4178 896.547 L86.4178 870.181 L78.1077 871.848 L78.1077 867.589 L86.3715 865.922 L91.0474 865.922 L91.0474 896.547 L98.6863 896.547 L98.6863 900.482 L78.779 900.482 L78.779 896.547 Z\" fill=\"#000000\" fill-rule=\"evenodd\" fill-opacity=\"1\" /><path clip-path=\"url(#clip930)\" d=\"M 0 0 M103.756 894.602 L108.64 894.602 L108.64 900.482 L103.756 900.482 L103.756 894.602 Z\" fill=\"#000000\" fill-rule=\"evenodd\" fill-opacity=\"1\" /><path clip-path=\"url(#clip930)\" d=\"M 0 0 M123.709 869.001 Q120.098 869.001 118.27 872.566 Q116.464 876.107 116.464 883.237 Q116.464 890.343 118.27 893.908 Q120.098 897.45 123.709 897.45 Q127.344 897.45 129.149 893.908 Q130.978 890.343 130.978 883.237 Q130.978 876.107 129.149 872.566 Q127.344 869.001 123.709 869.001 M123.709 865.297 Q129.519 865.297 132.575 869.904 Q135.654 874.487 135.654 883.237 Q135.654 891.964 132.575 896.57 Q129.519 901.153 123.709 901.153 Q117.899 901.153 114.82 896.57 Q111.765 891.964 111.765 883.237 Q111.765 874.487 114.82 869.904 Q117.899 865.297 123.709 865.297 Z\" fill=\"#000000\" fill-rule=\"evenodd\" fill-opacity=\"1\" /><path clip-path=\"url(#clip930)\" d=\"M 0 0 M42.9921 712.39 L72.6679 712.39 L72.6679 716.325 L42.9921 716.325 L42.9921 712.39 Z\" fill=\"#000000\" fill-rule=\"evenodd\" fill-opacity=\"1\" /><path clip-path=\"url(#clip930)\" d=\"M 0 0 M87.7373 697.738 Q84.1262 697.738 82.2975 701.302 Q80.4919 704.844 80.4919 711.974 Q80.4919 719.08 82.2975 722.645 Q84.1262 726.187 87.7373 726.187 Q91.3715 726.187 93.177 722.645 Q95.0057 719.08 95.0057 711.974 Q95.0057 704.844 93.177 701.302 Q91.3715 697.738 87.7373 697.738 M87.7373 694.034 Q93.5474 694.034 96.6029 698.64 Q99.6816 703.224 99.6816 711.974 Q99.6816 720.7 96.6029 725.307 Q93.5474 729.89 87.7373 729.89 Q81.9271 729.89 78.8484 725.307 Q75.7929 720.7 75.7929 711.974 Q75.7929 703.224 78.8484 698.64 Q81.9271 694.034 87.7373 694.034 Z\" fill=\"#000000\" fill-rule=\"evenodd\" fill-opacity=\"1\" /><path clip-path=\"url(#clip930)\" d=\"M 0 0 M104.751 723.339 L109.635 723.339 L109.635 729.219 L104.751 729.219 L104.751 723.339 Z\" fill=\"#000000\" fill-rule=\"evenodd\" fill-opacity=\"1\" /><path clip-path=\"url(#clip930)\" d=\"M 0 0 M114.751 694.659 L133.107 694.659 L133.107 698.594 L119.033 698.594 L119.033 707.066 Q120.052 706.719 121.07 706.557 Q122.089 706.372 123.107 706.372 Q128.894 706.372 132.274 709.543 Q135.654 712.714 135.654 718.131 Q135.654 723.71 132.181 726.812 Q128.709 729.89 122.39 729.89 Q120.214 729.89 117.945 729.52 Q115.7 729.149 113.293 728.409 L113.293 723.71 Q115.376 724.844 117.598 725.399 Q119.82 725.955 122.297 725.955 Q126.302 725.955 128.64 723.849 Q130.978 721.742 130.978 718.131 Q130.978 714.52 128.64 712.413 Q126.302 710.307 122.297 710.307 Q120.422 710.307 118.547 710.724 Q116.695 711.14 114.751 712.02 L114.751 694.659 Z\" fill=\"#000000\" fill-rule=\"evenodd\" fill-opacity=\"1\" /><path clip-path=\"url(#clip930)\" d=\"M 0 0 M86.7419 526.474 Q83.1308 526.474 81.3021 530.039 Q79.4966 533.581 79.4966 540.71 Q79.4966 547.817 81.3021 551.382 Q83.1308 554.923 86.7419 554.923 Q90.3761 554.923 92.1817 551.382 Q94.0104 547.817 94.0104 540.71 Q94.0104 533.581 92.1817 530.039 Q90.3761 526.474 86.7419 526.474 M86.7419 522.771 Q92.552 522.771 95.6076 527.377 Q98.6863 531.961 98.6863 540.71 Q98.6863 549.437 95.6076 554.044 Q92.552 558.627 86.7419 558.627 Q80.9317 558.627 77.8531 554.044 Q74.7975 549.437 74.7975 540.71 Q74.7975 531.961 77.8531 527.377 Q80.9317 522.771 86.7419 522.771 Z\" fill=\"#000000\" fill-rule=\"evenodd\" fill-opacity=\"1\" /><path clip-path=\"url(#clip930)\" d=\"M 0 0 M103.756 552.076 L108.64 552.076 L108.64 557.956 L103.756 557.956 L103.756 552.076 Z\" fill=\"#000000\" fill-rule=\"evenodd\" fill-opacity=\"1\" /><path clip-path=\"url(#clip930)\" d=\"M 0 0 M123.709 526.474 Q120.098 526.474 118.27 530.039 Q116.464 533.581 116.464 540.71 Q116.464 547.817 118.27 551.382 Q120.098 554.923 123.709 554.923 Q127.344 554.923 129.149 551.382 Q130.978 547.817 130.978 540.71 Q130.978 533.581 129.149 530.039 Q127.344 526.474 123.709 526.474 M123.709 522.771 Q129.519 522.771 132.575 527.377 Q135.654 531.961 135.654 540.71 Q135.654 549.437 132.575 554.044 Q129.519 558.627 123.709 558.627 Q117.899 558.627 114.82 554.044 Q111.765 549.437 111.765 540.71 Q111.765 531.961 114.82 527.377 Q117.899 522.771 123.709 522.771 Z\" fill=\"#000000\" fill-rule=\"evenodd\" fill-opacity=\"1\" /><path clip-path=\"url(#clip930)\" d=\"M 0 0 M87.7373 355.211 Q84.1262 355.211 82.2975 358.776 Q80.4919 362.318 80.4919 369.447 Q80.4919 376.554 82.2975 380.119 Q84.1262 383.66 87.7373 383.66 Q91.3715 383.66 93.177 380.119 Q95.0057 376.554 95.0057 369.447 Q95.0057 362.318 93.177 358.776 Q91.3715 355.211 87.7373 355.211 M87.7373 351.508 Q93.5474 351.508 96.6029 356.114 Q99.6816 360.697 99.6816 369.447 Q99.6816 378.174 96.6029 382.781 Q93.5474 387.364 87.7373 387.364 Q81.9271 387.364 78.8484 382.781 Q75.7929 378.174 75.7929 369.447 Q75.7929 360.697 78.8484 356.114 Q81.9271 351.508 87.7373 351.508 Z\" fill=\"#000000\" fill-rule=\"evenodd\" fill-opacity=\"1\" /><path clip-path=\"url(#clip930)\" d=\"M 0 0 M104.751 380.813 L109.635 380.813 L109.635 386.693 L104.751 386.693 L104.751 380.813 Z\" fill=\"#000000\" fill-rule=\"evenodd\" fill-opacity=\"1\" /><path clip-path=\"url(#clip930)\" d=\"M 0 0 M114.751 352.133 L133.107 352.133 L133.107 356.068 L119.033 356.068 L119.033 364.54 Q120.052 364.193 121.07 364.031 Q122.089 363.845 123.107 363.845 Q128.894 363.845 132.274 367.017 Q135.654 370.188 135.654 375.605 Q135.654 381.183 132.181 384.285 Q128.709 387.364 122.39 387.364 Q120.214 387.364 117.945 386.994 Q115.7 386.623 113.293 385.882 L113.293 381.183 Q115.376 382.318 117.598 382.873 Q119.82 383.429 122.297 383.429 Q126.302 383.429 128.64 381.322 Q130.978 379.216 130.978 375.605 Q130.978 371.994 128.64 369.887 Q126.302 367.781 122.297 367.781 Q120.422 367.781 118.547 368.197 Q116.695 368.614 114.751 369.494 L114.751 352.133 Z\" fill=\"#000000\" fill-rule=\"evenodd\" fill-opacity=\"1\" /><path clip-path=\"url(#clip930)\" d=\"M 0 0 M78.779 211.494 L86.4178 211.494 L86.4178 185.129 L78.1077 186.795 L78.1077 182.536 L86.3715 180.869 L91.0474 180.869 L91.0474 211.494 L98.6863 211.494 L98.6863 215.429 L78.779 215.429 L78.779 211.494 Z\" fill=\"#000000\" fill-rule=\"evenodd\" fill-opacity=\"1\" /><path clip-path=\"url(#clip930)\" d=\"M 0 0 M103.756 209.55 L108.64 209.55 L108.64 215.429 L103.756 215.429 L103.756 209.55 Z\" fill=\"#000000\" fill-rule=\"evenodd\" fill-opacity=\"1\" /><path clip-path=\"url(#clip930)\" d=\"M 0 0 M123.709 183.948 Q120.098 183.948 118.27 187.513 Q116.464 191.055 116.464 198.184 Q116.464 205.291 118.27 208.855 Q120.098 212.397 123.709 212.397 Q127.344 212.397 129.149 208.855 Q130.978 205.291 130.978 198.184 Q130.978 191.055 129.149 187.513 Q127.344 183.948 123.709 183.948 M123.709 180.244 Q129.519 180.244 132.575 184.851 Q135.654 189.434 135.654 198.184 Q135.654 206.911 132.575 211.517 Q129.519 216.101 123.709 216.101 Q117.899 216.101 114.82 211.517 Q111.765 206.911 111.765 198.184 Q111.765 189.434 114.82 184.851 Q117.899 180.244 123.709 180.244 Z\" fill=\"#000000\" fill-rule=\"evenodd\" fill-opacity=\"1\" /><polyline clip-path=\"url(#clip932)\" style=\"stroke:#009af9; stroke-width:8; stroke-opacity:1; fill:none\" points=\"\n  245.383,198.149 261.322,198.149 277.261,198.149 277.261,201.306 293.2,201.306 293.2,207.62 309.138,207.62 309.138,217.061 325.077,217.061 \n  325.077,229.571 341.016,229.571 341.016,245.064 356.955,245.064 356.955,263.424 372.894,263.424 372.894,284.509 388.833,284.509 388.833,308.148 404.772,308.148 \n  404.772,334.149 420.711,334.149 420.711,362.292 436.65,362.292 436.65,392.339 452.588,392.339 452.588,424.03 468.527,424.03 468.527,457.087 484.466,457.087 \n  484.466,491.22 500.405,491.22 500.405,526.124 516.344,526.124 516.344,561.482 532.283,561.482 532.283,596.976 548.222,596.976 548.222,632.277 564.161,632.277 \n  564.161,667.059 580.099,667.059 580.099,700.998 596.038,700.998 596.038,733.771 611.977,733.771 611.977,765.067 627.916,765.067 627.916,794.584 643.855,794.584 \n  643.855,822.032 659.794,822.032 659.794,847.14 675.733,847.14 675.733,869.656 691.672,869.656 691.672,889.347 707.611,889.347 707.611,906.006 723.549,906.006 \n  723.549,919.452 739.488,919.452 739.488,929.531 755.427,929.531 755.427,936.119 771.366,936.119 771.366,939.123 787.305,939.123 787.305,938.483 803.244,938.483 \n  803.244,934.171 819.183,934.171 819.183,926.193 835.122,926.193 835.122,914.588 851.06,914.588 851.06,899.431 866.999,899.431 866.999,880.827 882.938,880.827 \n  882.938,858.917 898.877,858.917 898.877,833.873 914.816,833.873 914.816,805.895 930.755,805.895 930.755,775.215 946.694,775.215 946.694,742.091 962.633,742.091 \n  962.633,706.806 978.572,706.806 978.572,669.664 994.51,669.664 994.51,630.991 1010.45,630.991 1010.45,591.13 1026.39,591.13 1026.39,550.436 1042.33,550.436 \n  1042.33,509.277 1058.27,509.277 1058.27,468.028 1074.2,468.028 1074.2,427.068 1090.14,427.068 1090.14,386.778 1106.08,386.778 1106.08,347.536 1122.02,347.536 \n  1122.02,309.711 1137.96,309.711 1137.96,273.666 1153.9,273.666 1153.9,239.75 1169.84,239.75 1169.84,208.295 1185.78,208.295 1185.78,179.613 1201.72,179.613 \n  1201.72,153.994 1217.65,153.994 1217.65,131.703 1233.59,131.703 1233.59,112.975 1249.53,112.975 1249.53,98.0168 1265.47,98.0168 1265.47,87.0001 1281.41,87.0001 \n  1281.41,80.0628 1297.35,80.0628 1297.35,77.3067 1313.29,77.3067 1313.29,78.7955 1329.23,78.7955 1329.23,84.5548 1345.17,84.5548 1345.17,94.5708 1361.1,94.5708 \n  1361.1,108.79 1377.04,108.79 1377.04,127.121 1392.98,127.121 1392.98,149.432 1408.92,149.432 1408.92,175.555 1424.86,175.555 1424.86,205.283 1440.8,205.283 \n  1440.8,238.376 1456.74,238.376 1456.74,274.56 1472.68,274.56 1472.68,313.53 1488.62,313.53 1488.62,354.953 1504.55,354.953 1504.55,398.469 1520.49,398.469 \n  1520.49,443.696 1536.43,443.696 1536.43,490.234 1552.37,490.234 1552.37,537.666 1568.31,537.666 1568.31,585.563 1584.25,585.563 1584.25,633.488 1600.19,633.488 \n  1600.19,680.999 1616.13,680.999 1616.13,727.654 1632.07,727.654 1632.07,773.016 1648,773.016 1648,816.655 1663.94,816.655 1663.94,858.153 1679.88,858.153 \n  1679.88,897.108 1695.82,897.108 1695.82,933.136 1711.76,933.136 1711.76,965.88 1727.7,965.88 1727.7,995.007 1743.64,995.007 1743.64,1020.21 1759.58,1020.21 \n  1759.58,1041.24 1775.52,1041.24 1775.52,1057.84 1791.45,1057.84 1791.45,1069.83 1807.39,1069.83 1807.39,1077.05 1823.33,1077.05 1823.33,1079.39 1839.27,1079.39 \n  1839.27,1076.8 1855.21,1076.8 1855.21,1069.23 1871.15,1069.23 1871.15,1056.73 1887.09,1056.73 1887.09,1039.36 1903.03,1039.36 1903.03,1017.22 \n  \"/>\n<polyline clip-path=\"url(#clip932)\" style=\"stroke:#e26f46; stroke-width:8; stroke-opacity:1; fill:none\" points=\"\n  245.383,198.149 261.322,198.149 261.322,199.728 277.261,199.728 277.261,204.456 293.2,204.456 293.2,212.289 309.138,212.289 309.138,223.156 325.077,223.156 \n  325.077,236.957 341.016,236.957 341.016,253.563 356.955,253.563 356.955,272.822 372.894,272.822 372.894,294.555 388.833,294.555 388.833,318.563 404.772,318.563 \n  404.772,344.622 420.711,344.622 420.711,372.493 436.65,372.493 436.65,401.918 452.588,401.918 452.588,432.626 468.527,432.626 468.527,464.332 484.466,464.332 \n  484.466,496.744 500.405,496.744 500.405,529.563 516.344,529.563 516.344,562.485 532.283,562.485 532.283,595.206 548.222,595.206 548.222,627.425 564.161,627.425 \n  564.161,658.842 580.099,658.842 580.099,689.169 596.038,689.169 596.038,718.125 611.977,718.125 611.977,745.442 627.916,745.442 627.916,770.868 643.855,770.868 \n  643.855,794.169 659.794,794.169 659.794,815.128 675.733,815.128 675.733,833.553 691.672,833.553 691.672,849.272 707.611,849.272 707.611,862.142 723.549,862.142 \n  723.549,872.042 739.488,872.042 739.488,878.882 755.427,878.882 755.427,882.597 771.366,882.597 771.366,883.155 787.305,883.155 787.305,880.548 803.244,880.548 \n  803.244,874.803 819.183,874.803 819.183,865.97 835.122,865.97 835.122,854.133 851.06,854.133 851.06,839.4 866.999,839.4 866.999,821.907 882.938,821.907 \n  882.938,801.816 898.877,801.816 898.877,779.313 914.816,779.313 914.816,754.604 930.755,754.604 930.755,727.919 946.694,727.919 946.694,699.504 962.633,699.504 \n  962.633,669.621 978.572,669.621 978.572,638.547 994.51,638.547 994.51,606.567 1010.45,606.567 1010.45,573.978 1026.39,573.978 1026.39,541.081 1042.33,541.081 \n  1042.33,508.18 1058.27,508.18 1058.27,475.578 1074.2,475.578 1074.2,443.577 1090.14,443.577 1090.14,412.471 1106.08,412.471 1106.08,382.55 1122.02,382.55 \n  1122.02,354.088 1137.96,354.088 1137.96,327.35 1153.9,327.35 1153.9,302.581 1169.84,302.581 1169.84,280.011 1185.78,280.011 1185.78,259.849 1201.72,259.849 \n  1201.72,242.28 1217.65,242.28 1217.65,227.467 1233.59,227.467 1233.59,215.547 1249.53,215.547 1249.53,206.63 1265.47,206.63 1265.47,200.799 1281.41,200.799 \n  1281.41,198.107 1297.35,198.107 1297.35,198.579 1313.29,198.579 1313.29,202.211 1329.23,202.211 1329.23,208.97 1345.17,208.97 1345.17,218.793 1361.1,218.793 \n  1361.1,231.59 1377.04,231.59 1377.04,247.242 1392.98,247.242 1392.98,265.604 1408.92,265.604 1408.92,286.508 1424.86,286.508 1424.86,309.761 1440.8,309.761 \n  1440.8,335.147 1456.74,335.147 1456.74,362.431 1472.68,362.431 1472.68,391.363 1488.62,391.363 1488.62,421.675 1504.55,421.675 1504.55,453.087 1520.49,453.087 \n  1520.49,485.308 1536.43,485.308 1536.43,518.042 1552.37,518.042 1552.37,550.985 1568.31,550.985 1568.31,583.834 1584.25,583.834 1584.25,616.285 1600.19,616.285 \n  1600.19,648.038 1616.13,648.038 1616.13,678.8 1632.07,678.8 1632.07,708.287 1648,708.287 1648,736.226 1663.94,736.226 1663.94,762.359 1679.88,762.359 \n  1679.88,786.445 1695.82,786.445 1695.82,808.262 1711.76,808.262 1711.76,827.607 1727.7,827.607 1727.7,844.302 1743.64,844.302 1743.64,858.193 1759.58,858.193 \n  1759.58,869.151 1775.52,869.151 1775.52,877.076 1791.45,877.076 1791.45,881.893 1807.39,881.893 1807.39,883.558 1823.33,883.558 1823.33,882.056 1839.27,882.056 \n  1839.27,877.4 1855.21,877.4 1855.21,869.634 1871.15,869.634 1871.15,858.829 1887.09,858.829 1887.09,845.085 1903.03,845.085 1903.03,828.529 \n  \"/>\n<polyline clip-path=\"url(#clip932)\" style=\"stroke:#3da44d; stroke-width:12; stroke-opacity:1; fill:none\" points=\"\n  245.383,198.149 261.322,199.732 277.261,204.464 293.2,212.302 309.138,223.173 325.077,236.978 341.016,253.589 356.955,272.852 372.894,294.589 388.833,318.6 \n  404.772,344.662 420.711,372.535 436.65,401.962 452.588,432.67 468.527,464.375 484.466,496.786 500.405,529.602 516.344,562.521 532.283,595.237 548.222,627.45 \n  564.161,658.861 580.099,689.18 596.038,718.127 611.977,745.435 627.916,770.851 643.855,794.141 659.794,815.089 675.733,833.501 691.672,849.209 707.611,862.066 \n  723.549,871.954 739.488,878.782 755.427,882.486 771.366,883.032 787.305,880.416 803.244,874.66 819.183,865.82 835.122,853.975 851.06,839.236 866.999,821.739 \n  882.938,801.645 898.877,779.14 914.816,754.433 930.755,727.75 946.694,699.339 962.633,669.463 978.572,638.396 994.51,606.427 1010.45,573.85 1026.39,540.967 \n  1042.33,508.081 1058.27,475.497 1074.2,443.514 1090.14,412.429 1106.08,382.529 1122.02,354.09 1137.96,327.374 1153.9,302.63 1169.84,280.084 1185.78,259.946 \n  1201.72,242.401 1217.65,227.612 1233.59,215.716 1249.53,206.821 1265.47,201.01 1281.41,198.338 1297.35,198.828 1313.29,202.477 1329.23,209.249 1345.17,219.084 \n  1361.1,231.89 1377.04,247.548 1392.98,265.915 1408.92,286.819 1424.86,310.069 1440.8,335.45 1456.74,362.726 1472.68,391.647 1488.62,421.944 1504.55,453.338 \n  1520.49,485.539 1536.43,518.249 1552.37,551.167 1568.31,583.988 1584.25,616.408 1600.19,648.129 1616.13,678.857 1632.07,708.309 1648,736.211 1663.94,762.308 \n  1679.88,786.357 1695.82,808.136 1711.76,827.444 1727.7,844.103 1743.64,857.959 1759.58,868.884 1775.52,876.776 1791.45,881.563 1807.39,883.202 1823.33,881.675 \n  1839.27,876.999 1855.21,869.215 1871.15,858.396 1887.09,844.642 1903.03,828.08 \n  \"/>\n<path clip-path=\"url(#clip930)\" d=\"\nM2195.65 1109.46 L3698.95 1109.46 L3698.95 47.2441 L2195.65 47.2441  Z\n  \" fill=\"#ffffff\" fill-rule=\"evenodd\" fill-opacity=\"1\"/>\n<defs>\n  <clipPath id=\"clip933\">\n    <rect x=\"2195\" y=\"47\" width=\"1504\" height=\"1063\"/>\n  </clipPath>\n</defs>\n<polyline clip-path=\"url(#clip933)\" style=\"stroke:#000000; stroke-width:2; stroke-opacity:0.1; fill:none\" points=\"\n  2238.2,1109.46 2238.2,47.2441 \n  \"/>\n<polyline clip-path=\"url(#clip933)\" style=\"stroke:#000000; stroke-width:2; stroke-opacity:0.1; fill:none\" points=\"\n  2592.75,1109.46 2592.75,47.2441 \n  \"/>\n<polyline clip-path=\"url(#clip933)\" style=\"stroke:#000000; stroke-width:2; stroke-opacity:0.1; fill:none\" points=\"\n  2947.3,1109.46 2947.3,47.2441 \n  \"/>\n<polyline clip-path=\"url(#clip933)\" style=\"stroke:#000000; stroke-width:2; stroke-opacity:0.1; fill:none\" points=\"\n  3301.85,1109.46 3301.85,47.2441 \n  \"/>\n<polyline clip-path=\"url(#clip933)\" style=\"stroke:#000000; stroke-width:2; stroke-opacity:0.1; fill:none\" points=\"\n  3656.41,1109.46 3656.41,47.2441 \n  \"/>\n<polyline clip-path=\"url(#clip930)\" style=\"stroke:#000000; stroke-width:4; stroke-opacity:1; fill:none\" points=\"\n  2195.65,1109.46 3698.95,1109.46 \n  \"/>\n<polyline clip-path=\"url(#clip930)\" style=\"stroke:#000000; stroke-width:4; stroke-opacity:1; fill:none\" points=\"\n  2238.2,1109.46 2238.2,1096.71 \n  \"/>\n<polyline clip-path=\"url(#clip930)\" style=\"stroke:#000000; stroke-width:4; stroke-opacity:1; fill:none\" points=\"\n  2592.75,1109.46 2592.75,1096.71 \n  \"/>\n<polyline clip-path=\"url(#clip930)\" style=\"stroke:#000000; stroke-width:4; stroke-opacity:1; fill:none\" points=\"\n  2947.3,1109.46 2947.3,1096.71 \n  \"/>\n<polyline clip-path=\"url(#clip930)\" style=\"stroke:#000000; stroke-width:4; stroke-opacity:1; fill:none\" points=\"\n  3301.85,1109.46 3301.85,1096.71 \n  \"/>\n<polyline clip-path=\"url(#clip930)\" style=\"stroke:#000000; stroke-width:4; stroke-opacity:1; fill:none\" points=\"\n  3656.41,1109.46 3656.41,1096.71 \n  \"/>\n<path clip-path=\"url(#clip930)\" d=\"M 0 0 M2219.72 1151.45 Q2216.11 1151.45 2214.28 1155.01 Q2212.47 1158.55 2212.47 1165.68 Q2212.47 1172.79 2214.28 1176.35 Q2216.11 1179.9 2219.72 1179.9 Q2223.35 1179.9 2225.16 1176.35 Q2226.98 1172.79 2226.98 1165.68 Q2226.98 1158.55 2225.16 1155.01 Q2223.35 1151.45 2219.72 1151.45 M2219.72 1147.74 Q2225.53 1147.74 2228.58 1152.35 Q2231.66 1156.93 2231.66 1165.68 Q2231.66 1174.41 2228.58 1179.02 Q2225.53 1183.6 2219.72 1183.6 Q2213.91 1183.6 2210.83 1179.02 Q2207.77 1174.41 2207.77 1165.68 Q2207.77 1156.93 2210.83 1152.35 Q2213.91 1147.74 2219.72 1147.74 Z\" fill=\"#000000\" fill-rule=\"evenodd\" fill-opacity=\"1\" /><path clip-path=\"url(#clip930)\" d=\"M 0 0 M2236.73 1177.05 L2241.61 1177.05 L2241.61 1182.93 L2236.73 1182.93 L2236.73 1177.05 Z\" fill=\"#000000\" fill-rule=\"evenodd\" fill-opacity=\"1\" /><path clip-path=\"url(#clip930)\" d=\"M 0 0 M2256.68 1151.45 Q2253.07 1151.45 2251.24 1155.01 Q2249.44 1158.55 2249.44 1165.68 Q2249.44 1172.79 2251.24 1176.35 Q2253.07 1179.9 2256.68 1179.9 Q2260.32 1179.9 2262.12 1176.35 Q2263.95 1172.79 2263.95 1165.68 Q2263.95 1158.55 2262.12 1155.01 Q2260.32 1151.45 2256.68 1151.45 M2256.68 1147.74 Q2262.49 1147.74 2265.55 1152.35 Q2268.63 1156.93 2268.63 1165.68 Q2268.63 1174.41 2265.55 1179.02 Q2262.49 1183.6 2256.68 1183.6 Q2250.87 1183.6 2247.79 1179.02 Q2244.74 1174.41 2244.74 1165.68 Q2244.74 1156.93 2247.79 1152.35 Q2250.87 1147.74 2256.68 1147.74 Z\" fill=\"#000000\" fill-rule=\"evenodd\" fill-opacity=\"1\" /><path clip-path=\"url(#clip930)\" d=\"M 0 0 M2569.42 1178.99 L2585.74 1178.99 L2585.74 1182.93 L2563.79 1182.93 L2563.79 1178.99 Q2566.46 1176.24 2571.04 1171.61 Q2575.65 1166.96 2576.83 1165.61 Q2579.07 1163.09 2579.95 1161.35 Q2580.85 1159.59 2580.85 1157.9 Q2580.85 1155.15 2578.91 1153.41 Q2576.99 1151.68 2573.89 1151.68 Q2571.69 1151.68 2569.23 1152.44 Q2566.8 1153.21 2564.02 1154.76 L2564.02 1150.03 Q2566.85 1148.9 2569.3 1148.32 Q2571.76 1147.74 2573.79 1147.74 Q2579.16 1147.74 2582.36 1150.43 Q2585.55 1153.11 2585.55 1157.6 Q2585.55 1159.73 2584.74 1161.65 Q2583.96 1163.55 2581.85 1166.15 Q2581.27 1166.82 2578.17 1170.03 Q2575.07 1173.23 2569.42 1178.99 Z\" fill=\"#000000\" fill-rule=\"evenodd\" fill-opacity=\"1\" /><path clip-path=\"url(#clip930)\" d=\"M 0 0 M2590.81 1177.05 L2595.69 1177.05 L2595.69 1182.93 L2590.81 1182.93 L2590.81 1177.05 Z\" fill=\"#000000\" fill-rule=\"evenodd\" fill-opacity=\"1\" /><path clip-path=\"url(#clip930)\" d=\"M 0 0 M2600.81 1148.37 L2619.16 1148.37 L2619.16 1152.3 L2605.09 1152.3 L2605.09 1160.78 Q2606.11 1160.43 2607.13 1160.27 Q2608.14 1160.08 2609.16 1160.08 Q2614.95 1160.08 2618.33 1163.25 Q2621.71 1166.42 2621.71 1171.84 Q2621.71 1177.42 2618.24 1180.52 Q2614.77 1183.6 2608.45 1183.6 Q2606.27 1183.6 2604 1183.23 Q2601.76 1182.86 2599.35 1182.12 L2599.35 1177.42 Q2601.43 1178.55 2603.65 1179.11 Q2605.88 1179.66 2608.35 1179.66 Q2612.36 1179.66 2614.7 1177.56 Q2617.03 1175.45 2617.03 1171.84 Q2617.03 1168.23 2614.7 1166.12 Q2612.36 1164.02 2608.35 1164.02 Q2606.48 1164.02 2604.6 1164.43 Q2602.75 1164.85 2600.81 1165.73 L2600.81 1148.37 Z\" fill=\"#000000\" fill-rule=\"evenodd\" fill-opacity=\"1\" /><path clip-path=\"url(#clip930)\" d=\"M 0 0 M2919.1 1148.37 L2937.45 1148.37 L2937.45 1152.3 L2923.38 1152.3 L2923.38 1160.78 Q2924.4 1160.43 2925.42 1160.27 Q2926.44 1160.08 2927.45 1160.08 Q2933.24 1160.08 2936.62 1163.25 Q2940 1166.42 2940 1171.84 Q2940 1177.42 2936.53 1180.52 Q2933.06 1183.6 2926.74 1183.6 Q2924.56 1183.6 2922.29 1183.23 Q2920.05 1182.86 2917.64 1182.12 L2917.64 1177.42 Q2919.72 1178.55 2921.94 1179.11 Q2924.17 1179.66 2926.64 1179.66 Q2930.65 1179.66 2932.99 1177.56 Q2935.32 1175.45 2935.32 1171.84 Q2935.32 1168.23 2932.99 1166.12 Q2930.65 1164.02 2926.64 1164.02 Q2924.77 1164.02 2922.89 1164.43 Q2921.04 1164.85 2919.1 1165.73 L2919.1 1148.37 Z\" fill=\"#000000\" fill-rule=\"evenodd\" fill-opacity=\"1\" /><path clip-path=\"url(#clip930)\" d=\"M 0 0 M2945.07 1177.05 L2949.95 1177.05 L2949.95 1182.93 L2945.07 1182.93 L2945.07 1177.05 Z\" fill=\"#000000\" fill-rule=\"evenodd\" fill-opacity=\"1\" /><path clip-path=\"url(#clip930)\" d=\"M 0 0 M2965.02 1151.45 Q2961.41 1151.45 2959.58 1155.01 Q2957.78 1158.55 2957.78 1165.68 Q2957.78 1172.79 2959.58 1176.35 Q2961.41 1179.9 2965.02 1179.9 Q2968.66 1179.9 2970.46 1176.35 Q2972.29 1172.79 2972.29 1165.68 Q2972.29 1158.55 2970.46 1155.01 Q2968.66 1151.45 2965.02 1151.45 M2965.02 1147.74 Q2970.83 1147.74 2973.89 1152.35 Q2976.97 1156.93 2976.97 1165.68 Q2976.97 1174.41 2973.89 1179.02 Q2970.83 1183.6 2965.02 1183.6 Q2959.21 1183.6 2956.13 1179.02 Q2953.08 1174.41 2953.08 1165.68 Q2953.08 1156.93 2956.13 1152.35 Q2959.21 1147.74 2965.02 1147.74 Z\" fill=\"#000000\" fill-rule=\"evenodd\" fill-opacity=\"1\" /><path clip-path=\"url(#clip930)\" d=\"M 0 0 M3272.76 1148.37 L3294.98 1148.37 L3294.98 1150.36 L3282.43 1182.93 L3277.55 1182.93 L3289.35 1152.3 L3272.76 1152.3 L3272.76 1148.37 Z\" fill=\"#000000\" fill-rule=\"evenodd\" fill-opacity=\"1\" /><path clip-path=\"url(#clip930)\" d=\"M 0 0 M3300.05 1177.05 L3304.93 1177.05 L3304.93 1182.93 L3300.05 1182.93 L3300.05 1177.05 Z\" fill=\"#000000\" fill-rule=\"evenodd\" fill-opacity=\"1\" /><path clip-path=\"url(#clip930)\" d=\"M 0 0 M3310.05 1148.37 L3328.41 1148.37 L3328.41 1152.3 L3314.33 1152.3 L3314.33 1160.78 Q3315.35 1160.43 3316.37 1160.27 Q3317.39 1160.08 3318.41 1160.08 Q3324.19 1160.08 3327.57 1163.25 Q3330.95 1166.42 3330.95 1171.84 Q3330.95 1177.42 3327.48 1180.52 Q3324.01 1183.6 3317.69 1183.6 Q3315.51 1183.6 3313.24 1183.23 Q3311 1182.86 3308.59 1182.12 L3308.59 1177.42 Q3310.67 1178.55 3312.9 1179.11 Q3315.12 1179.66 3317.6 1179.66 Q3321.6 1179.66 3323.94 1177.56 Q3326.28 1175.45 3326.28 1171.84 Q3326.28 1168.23 3323.94 1166.12 Q3321.6 1164.02 3317.6 1164.02 Q3315.72 1164.02 3313.85 1164.43 Q3311.99 1164.85 3310.05 1165.73 L3310.05 1148.37 Z\" fill=\"#000000\" fill-rule=\"evenodd\" fill-opacity=\"1\" /><path clip-path=\"url(#clip930)\" d=\"M 0 0 M3614.8 1178.99 L3622.44 1178.99 L3622.44 1152.63 L3614.13 1154.29 L3614.13 1150.03 L3622.39 1148.37 L3627.07 1148.37 L3627.07 1178.99 L3634.7 1178.99 L3634.7 1182.93 L3614.8 1182.93 L3614.8 1178.99 Z\" fill=\"#000000\" fill-rule=\"evenodd\" fill-opacity=\"1\" /><path clip-path=\"url(#clip930)\" d=\"M 0 0 M3649.77 1151.45 Q3646.16 1151.45 3644.33 1155.01 Q3642.53 1158.55 3642.53 1165.68 Q3642.53 1172.79 3644.33 1176.35 Q3646.16 1179.9 3649.77 1179.9 Q3653.41 1179.9 3655.21 1176.35 Q3657.04 1172.79 3657.04 1165.68 Q3657.04 1158.55 3655.21 1155.01 Q3653.41 1151.45 3649.77 1151.45 M3649.77 1147.74 Q3655.58 1147.74 3658.64 1152.35 Q3661.72 1156.93 3661.72 1165.68 Q3661.72 1174.41 3658.64 1179.02 Q3655.58 1183.6 3649.77 1183.6 Q3643.96 1183.6 3640.89 1179.02 Q3637.83 1174.41 3637.83 1165.68 Q3637.83 1156.93 3640.89 1152.35 Q3643.96 1147.74 3649.77 1147.74 Z\" fill=\"#000000\" fill-rule=\"evenodd\" fill-opacity=\"1\" /><path clip-path=\"url(#clip930)\" d=\"M 0 0 M3666.79 1177.05 L3671.67 1177.05 L3671.67 1182.93 L3666.79 1182.93 L3666.79 1177.05 Z\" fill=\"#000000\" fill-rule=\"evenodd\" fill-opacity=\"1\" /><path clip-path=\"url(#clip930)\" d=\"M 0 0 M3686.74 1151.45 Q3683.13 1151.45 3681.3 1155.01 Q3679.5 1158.55 3679.5 1165.68 Q3679.5 1172.79 3681.3 1176.35 Q3683.13 1179.9 3686.74 1179.9 Q3690.38 1179.9 3692.18 1176.35 Q3694.01 1172.79 3694.01 1165.68 Q3694.01 1158.55 3692.18 1155.01 Q3690.38 1151.45 3686.74 1151.45 M3686.74 1147.74 Q3692.55 1147.74 3695.61 1152.35 Q3698.69 1156.93 3698.69 1165.68 Q3698.69 1174.41 3695.61 1179.02 Q3692.55 1183.6 3686.74 1183.6 Q3680.93 1183.6 3677.85 1179.02 Q3674.8 1174.41 3674.8 1165.68 Q3674.8 1156.93 3677.85 1152.35 Q3680.93 1147.74 3686.74 1147.74 Z\" fill=\"#000000\" fill-rule=\"evenodd\" fill-opacity=\"1\" /><polyline clip-path=\"url(#clip933)\" style=\"stroke:#000000; stroke-width:2; stroke-opacity:0.1; fill:none\" points=\"\n  2195.65,1095.12 3698.95,1095.12 \n  \"/>\n<polyline clip-path=\"url(#clip933)\" style=\"stroke:#000000; stroke-width:2; stroke-opacity:0.1; fill:none\" points=\"\n  2195.65,910.359 3698.95,910.359 \n  \"/>\n<polyline clip-path=\"url(#clip933)\" style=\"stroke:#000000; stroke-width:2; stroke-opacity:0.1; fill:none\" points=\"\n  2195.65,725.6 3698.95,725.6 \n  \"/>\n<polyline clip-path=\"url(#clip933)\" style=\"stroke:#000000; stroke-width:2; stroke-opacity:0.1; fill:none\" points=\"\n  2195.65,540.841 3698.95,540.841 \n  \"/>\n<polyline clip-path=\"url(#clip933)\" style=\"stroke:#000000; stroke-width:2; stroke-opacity:0.1; fill:none\" points=\"\n  2195.65,356.082 3698.95,356.082 \n  \"/>\n<polyline clip-path=\"url(#clip933)\" style=\"stroke:#000000; stroke-width:2; stroke-opacity:0.1; fill:none\" points=\"\n  2195.65,171.323 3698.95,171.323 \n  \"/>\n<polyline clip-path=\"url(#clip930)\" style=\"stroke:#000000; stroke-width:4; stroke-opacity:1; fill:none\" points=\"\n  2195.65,1109.46 2195.65,47.2441 \n  \"/>\n<polyline clip-path=\"url(#clip930)\" style=\"stroke:#000000; stroke-width:4; stroke-opacity:1; fill:none\" points=\"\n  2195.65,1095.12 2213.69,1095.12 \n  \"/>\n<polyline clip-path=\"url(#clip930)\" style=\"stroke:#000000; stroke-width:4; stroke-opacity:1; fill:none\" points=\"\n  2195.65,910.359 2213.69,910.359 \n  \"/>\n<polyline clip-path=\"url(#clip930)\" style=\"stroke:#000000; stroke-width:4; stroke-opacity:1; fill:none\" points=\"\n  2195.65,725.6 2213.69,725.6 \n  \"/>\n<polyline clip-path=\"url(#clip930)\" style=\"stroke:#000000; stroke-width:4; stroke-opacity:1; fill:none\" points=\"\n  2195.65,540.841 2213.69,540.841 \n  \"/>\n<polyline clip-path=\"url(#clip930)\" style=\"stroke:#000000; stroke-width:4; stroke-opacity:1; fill:none\" points=\"\n  2195.65,356.082 2213.69,356.082 \n  \"/>\n<polyline clip-path=\"url(#clip930)\" style=\"stroke:#000000; stroke-width:4; stroke-opacity:1; fill:none\" points=\"\n  2195.65,171.323 2213.69,171.323 \n  \"/>\n<path clip-path=\"url(#clip930)\" d=\"M 0 0 M2044.22 1095.57 L2073.89 1095.57 L2073.89 1099.5 L2044.22 1099.5 L2044.22 1095.57 Z\" fill=\"#000000\" fill-rule=\"evenodd\" fill-opacity=\"1\" /><path clip-path=\"url(#clip930)\" d=\"M 0 0 M2079.77 1108.46 L2087.41 1108.46 L2087.41 1082.1 L2079.1 1083.76 L2079.1 1079.5 L2087.37 1077.84 L2092.04 1077.84 L2092.04 1108.46 L2099.68 1108.46 L2099.68 1112.4 L2079.77 1112.4 L2079.77 1108.46 Z\" fill=\"#000000\" fill-rule=\"evenodd\" fill-opacity=\"1\" /><path clip-path=\"url(#clip930)\" d=\"M 0 0 M2104.75 1106.52 L2109.64 1106.52 L2109.64 1112.4 L2104.75 1112.4 L2104.75 1106.52 Z\" fill=\"#000000\" fill-rule=\"evenodd\" fill-opacity=\"1\" /><path clip-path=\"url(#clip930)\" d=\"M 0 0 M2114.75 1077.84 L2133.11 1077.84 L2133.11 1081.77 L2119.03 1081.77 L2119.03 1090.24 Q2120.05 1089.9 2121.07 1089.74 Q2122.09 1089.55 2123.11 1089.55 Q2128.89 1089.55 2132.27 1092.72 Q2135.65 1095.89 2135.65 1101.31 Q2135.65 1106.89 2132.18 1109.99 Q2128.71 1113.07 2122.39 1113.07 Q2120.21 1113.07 2117.95 1112.7 Q2115.7 1112.33 2113.29 1111.59 L2113.29 1106.89 Q2115.38 1108.02 2117.6 1108.58 Q2119.82 1109.13 2122.3 1109.13 Q2126.3 1109.13 2128.64 1107.03 Q2130.98 1104.92 2130.98 1101.31 Q2130.98 1097.7 2128.64 1095.59 Q2126.3 1093.49 2122.3 1093.49 Q2120.42 1093.49 2118.55 1093.9 Q2116.7 1094.32 2114.75 1095.2 L2114.75 1077.84 Z\" fill=\"#000000\" fill-rule=\"evenodd\" fill-opacity=\"1\" /><path clip-path=\"url(#clip930)\" d=\"M 0 0 M2043.22 910.81 L2072.9 910.81 L2072.9 914.745 L2043.22 914.745 L2043.22 910.81 Z\" fill=\"#000000\" fill-rule=\"evenodd\" fill-opacity=\"1\" /><path clip-path=\"url(#clip930)\" d=\"M 0 0 M2078.78 923.703 L2086.42 923.703 L2086.42 897.338 L2078.11 899.005 L2078.11 894.745 L2086.37 893.079 L2091.05 893.079 L2091.05 923.703 L2098.69 923.703 L2098.69 927.639 L2078.78 927.639 L2078.78 923.703 Z\" fill=\"#000000\" fill-rule=\"evenodd\" fill-opacity=\"1\" /><path clip-path=\"url(#clip930)\" d=\"M 0 0 M2103.76 921.759 L2108.64 921.759 L2108.64 927.639 L2103.76 927.639 L2103.76 921.759 Z\" fill=\"#000000\" fill-rule=\"evenodd\" fill-opacity=\"1\" /><path clip-path=\"url(#clip930)\" d=\"M 0 0 M2123.71 896.157 Q2120.1 896.157 2118.27 899.722 Q2116.46 903.264 2116.46 910.393 Q2116.46 917.5 2118.27 921.065 Q2120.1 924.606 2123.71 924.606 Q2127.34 924.606 2129.15 921.065 Q2130.98 917.5 2130.98 910.393 Q2130.98 903.264 2129.15 899.722 Q2127.34 896.157 2123.71 896.157 M2123.71 892.454 Q2129.52 892.454 2132.57 897.06 Q2135.65 901.643 2135.65 910.393 Q2135.65 919.12 2132.57 923.727 Q2129.52 928.31 2123.71 928.31 Q2117.9 928.31 2114.82 923.727 Q2111.76 919.12 2111.76 910.393 Q2111.76 901.643 2114.82 897.06 Q2117.9 892.454 2123.71 892.454 Z\" fill=\"#000000\" fill-rule=\"evenodd\" fill-opacity=\"1\" /><path clip-path=\"url(#clip930)\" d=\"M 0 0 M2042.99 726.051 L2072.67 726.051 L2072.67 729.986 L2042.99 729.986 L2042.99 726.051 Z\" fill=\"#000000\" fill-rule=\"evenodd\" fill-opacity=\"1\" /><path clip-path=\"url(#clip930)\" d=\"M 0 0 M2087.74 711.398 Q2084.13 711.398 2082.3 714.963 Q2080.49 718.505 2080.49 725.635 Q2080.49 732.741 2082.3 736.306 Q2084.13 739.847 2087.74 739.847 Q2091.37 739.847 2093.18 736.306 Q2095.01 732.741 2095.01 725.635 Q2095.01 718.505 2093.18 714.963 Q2091.37 711.398 2087.74 711.398 M2087.74 707.695 Q2093.55 707.695 2096.6 712.301 Q2099.68 716.885 2099.68 725.635 Q2099.68 734.361 2096.6 738.968 Q2093.55 743.551 2087.74 743.551 Q2081.93 743.551 2078.85 738.968 Q2075.79 734.361 2075.79 725.635 Q2075.79 716.885 2078.85 712.301 Q2081.93 707.695 2087.74 707.695 Z\" fill=\"#000000\" fill-rule=\"evenodd\" fill-opacity=\"1\" /><path clip-path=\"url(#clip930)\" d=\"M 0 0 M2104.75 737 L2109.64 737 L2109.64 742.88 L2104.75 742.88 L2104.75 737 Z\" fill=\"#000000\" fill-rule=\"evenodd\" fill-opacity=\"1\" /><path clip-path=\"url(#clip930)\" d=\"M 0 0 M2114.75 708.32 L2133.11 708.32 L2133.11 712.255 L2119.03 712.255 L2119.03 720.727 Q2120.05 720.38 2121.07 720.218 Q2122.09 720.033 2123.11 720.033 Q2128.89 720.033 2132.27 723.204 Q2135.65 726.375 2135.65 731.792 Q2135.65 737.371 2132.18 740.472 Q2128.71 743.551 2122.39 743.551 Q2120.21 743.551 2117.95 743.181 Q2115.7 742.81 2113.29 742.07 L2113.29 737.371 Q2115.38 738.505 2117.6 739.06 Q2119.82 739.616 2122.3 739.616 Q2126.3 739.616 2128.64 737.509 Q2130.98 735.403 2130.98 731.792 Q2130.98 728.181 2128.64 726.074 Q2126.3 723.968 2122.3 723.968 Q2120.42 723.968 2118.55 724.385 Q2116.7 724.801 2114.75 725.681 L2114.75 708.32 Z\" fill=\"#000000\" fill-rule=\"evenodd\" fill-opacity=\"1\" /><path clip-path=\"url(#clip930)\" d=\"M 0 0 M2086.74 526.64 Q2083.13 526.64 2081.3 530.204 Q2079.5 533.746 2079.5 540.876 Q2079.5 547.982 2081.3 551.547 Q2083.13 555.089 2086.74 555.089 Q2090.38 555.089 2092.18 551.547 Q2094.01 547.982 2094.01 540.876 Q2094.01 533.746 2092.18 530.204 Q2090.38 526.64 2086.74 526.64 M2086.74 522.936 Q2092.55 522.936 2095.61 527.542 Q2098.69 532.126 2098.69 540.876 Q2098.69 549.602 2095.61 554.209 Q2092.55 558.792 2086.74 558.792 Q2080.93 558.792 2077.85 554.209 Q2074.8 549.602 2074.8 540.876 Q2074.8 532.126 2077.85 527.542 Q2080.93 522.936 2086.74 522.936 Z\" fill=\"#000000\" fill-rule=\"evenodd\" fill-opacity=\"1\" /><path clip-path=\"url(#clip930)\" d=\"M 0 0 M2103.76 552.241 L2108.64 552.241 L2108.64 558.121 L2103.76 558.121 L2103.76 552.241 Z\" fill=\"#000000\" fill-rule=\"evenodd\" fill-opacity=\"1\" /><path clip-path=\"url(#clip930)\" d=\"M 0 0 M2123.71 526.64 Q2120.1 526.64 2118.27 530.204 Q2116.46 533.746 2116.46 540.876 Q2116.46 547.982 2118.27 551.547 Q2120.1 555.089 2123.71 555.089 Q2127.34 555.089 2129.15 551.547 Q2130.98 547.982 2130.98 540.876 Q2130.98 533.746 2129.15 530.204 Q2127.34 526.64 2123.71 526.64 M2123.71 522.936 Q2129.52 522.936 2132.57 527.542 Q2135.65 532.126 2135.65 540.876 Q2135.65 549.602 2132.57 554.209 Q2129.52 558.792 2123.71 558.792 Q2117.9 558.792 2114.82 554.209 Q2111.76 549.602 2111.76 540.876 Q2111.76 532.126 2114.82 527.542 Q2117.9 522.936 2123.71 522.936 Z\" fill=\"#000000\" fill-rule=\"evenodd\" fill-opacity=\"1\" /><path clip-path=\"url(#clip930)\" d=\"M 0 0 M2087.74 341.881 Q2084.13 341.881 2082.3 345.446 Q2080.49 348.987 2080.49 356.117 Q2080.49 363.223 2082.3 366.788 Q2084.13 370.33 2087.74 370.33 Q2091.37 370.33 2093.18 366.788 Q2095.01 363.223 2095.01 356.117 Q2095.01 348.987 2093.18 345.446 Q2091.37 341.881 2087.74 341.881 M2087.74 338.177 Q2093.55 338.177 2096.6 342.784 Q2099.68 347.367 2099.68 356.117 Q2099.68 364.844 2096.6 369.45 Q2093.55 374.033 2087.74 374.033 Q2081.93 374.033 2078.85 369.45 Q2075.79 364.844 2075.79 356.117 Q2075.79 347.367 2078.85 342.784 Q2081.93 338.177 2087.74 338.177 Z\" fill=\"#000000\" fill-rule=\"evenodd\" fill-opacity=\"1\" /><path clip-path=\"url(#clip930)\" d=\"M 0 0 M2104.75 367.483 L2109.64 367.483 L2109.64 373.362 L2104.75 373.362 L2104.75 367.483 Z\" fill=\"#000000\" fill-rule=\"evenodd\" fill-opacity=\"1\" /><path clip-path=\"url(#clip930)\" d=\"M 0 0 M2114.75 338.802 L2133.11 338.802 L2133.11 342.737 L2119.03 342.737 L2119.03 351.209 Q2120.05 350.862 2121.07 350.7 Q2122.09 350.515 2123.11 350.515 Q2128.89 350.515 2132.27 353.686 Q2135.65 356.858 2135.65 362.274 Q2135.65 367.853 2132.18 370.955 Q2128.71 374.033 2122.39 374.033 Q2120.21 374.033 2117.95 373.663 Q2115.7 373.293 2113.29 372.552 L2113.29 367.853 Q2115.38 368.987 2117.6 369.543 Q2119.82 370.098 2122.3 370.098 Q2126.3 370.098 2128.64 367.992 Q2130.98 365.885 2130.98 362.274 Q2130.98 358.663 2128.64 356.557 Q2126.3 354.45 2122.3 354.45 Q2120.42 354.45 2118.55 354.867 Q2116.7 355.284 2114.75 356.163 L2114.75 338.802 Z\" fill=\"#000000\" fill-rule=\"evenodd\" fill-opacity=\"1\" /><path clip-path=\"url(#clip930)\" d=\"M 0 0 M2078.78 184.668 L2086.42 184.668 L2086.42 158.303 L2078.11 159.969 L2078.11 155.71 L2086.37 154.043 L2091.05 154.043 L2091.05 184.668 L2098.69 184.668 L2098.69 188.603 L2078.78 188.603 L2078.78 184.668 Z\" fill=\"#000000\" fill-rule=\"evenodd\" fill-opacity=\"1\" /><path clip-path=\"url(#clip930)\" d=\"M 0 0 M2103.76 182.724 L2108.64 182.724 L2108.64 188.603 L2103.76 188.603 L2103.76 182.724 Z\" fill=\"#000000\" fill-rule=\"evenodd\" fill-opacity=\"1\" /><path clip-path=\"url(#clip930)\" d=\"M 0 0 M2123.71 157.122 Q2120.1 157.122 2118.27 160.687 Q2116.46 164.228 2116.46 171.358 Q2116.46 178.464 2118.27 182.029 Q2120.1 185.571 2123.71 185.571 Q2127.34 185.571 2129.15 182.029 Q2130.98 178.464 2130.98 171.358 Q2130.98 164.228 2129.15 160.687 Q2127.34 157.122 2123.71 157.122 M2123.71 153.418 Q2129.52 153.418 2132.57 158.025 Q2135.65 162.608 2135.65 171.358 Q2135.65 180.085 2132.57 184.691 Q2129.52 189.275 2123.71 189.275 Q2117.9 189.275 2114.82 184.691 Q2111.76 180.085 2111.76 171.358 Q2111.76 162.608 2114.82 158.025 Q2117.9 153.418 2123.71 153.418 Z\" fill=\"#000000\" fill-rule=\"evenodd\" fill-opacity=\"1\" /><polyline clip-path=\"url(#clip933)\" style=\"stroke:#009af9; stroke-width:8; stroke-opacity:1; fill:none\" points=\"\n  2238.2,540.841 2251.84,540.841 2251.84,576.315 2265.47,576.315 2265.47,611.788 2279.11,611.788 2279.11,646.935 2292.75,646.935 2292.75,681.428 2306.38,681.428 \n  2306.38,714.943 2320.02,714.943 2320.02,747.163 2333.66,747.163 2333.66,777.778 2347.29,777.778 2347.29,806.491 2360.93,806.491 2360.93,833.021 2374.57,833.021 \n  2374.57,857.103 2388.2,857.103 2388.2,878.492 2401.84,878.492 2401.84,896.966 2415.48,896.966 2415.48,912.328 2429.11,912.328 2429.11,924.409 2442.75,924.409 \n  2442.75,933.066 2456.39,933.066 2456.39,938.188 2470.02,938.188 2470.02,939.695 2483.66,939.695 2483.66,937.54 2497.3,937.54 2497.3,931.709 2510.93,931.709 \n  2510.93,922.222 2524.57,922.222 2524.57,909.134 2538.21,909.134 2538.21,892.53 2551.84,892.53 2551.84,872.532 2565.48,872.532 2565.48,849.293 2579.11,849.293 \n  2579.11,822.997 2592.75,822.997 2592.75,793.858 2606.39,793.858 2606.39,762.119 2620.02,762.119 2620.02,728.049 2633.66,728.049 2633.66,691.939 2647.3,691.939 \n  2647.3,654.103 2660.93,654.103 2660.93,614.875 2674.57,614.875 2674.57,574.604 2688.21,574.604 2688.21,533.65 2701.84,533.65 2701.84,492.384 2715.48,492.384 \n  2715.48,451.185 2729.12,451.185 2729.12,410.433 2742.75,410.433 2742.75,370.507 2756.39,370.507 2756.39,331.783 2770.03,331.783 2770.03,294.628 2783.66,294.628 \n  2783.66,259.401 2797.3,259.401 2797.3,226.442 2810.94,226.442 2810.94,196.077 2824.57,196.077 2824.57,168.61 2838.21,168.61 2838.21,144.32 2851.85,144.32 \n  2851.85,123.46 2865.48,123.46 2865.48,106.255 2879.12,106.255 2879.12,92.8962 2892.76,92.8962 2892.76,83.5427 2906.39,83.5427 2906.39,78.3175 2920.03,78.3175 \n  2920.03,77.3067 2933.67,77.3067 2933.67,80.5585 2947.3,80.5585 2947.3,88.0823 2960.94,88.0823 2960.94,99.848 2974.58,99.848 2974.58,115.786 2988.21,115.786 \n  2988.21,135.789 3001.85,135.789 3001.85,159.709 3015.49,159.709 3015.49,187.362 3029.12,187.362 3029.12,218.527 3042.76,218.527 3042.76,252.95 3056.4,252.95 \n  3056.4,290.343 3070.03,290.343 3070.03,330.39 3083.67,330.39 3083.67,372.745 3097.31,372.745 3097.31,417.04 3110.94,417.04 3110.94,462.884 3124.58,462.884 \n  3124.58,509.869 3138.22,509.869 3138.22,557.572 3151.85,557.572 3151.85,605.561 3165.49,605.561 3165.49,653.395 3179.13,653.395 3179.13,700.633 3192.76,700.633 \n  3192.76,746.834 3206.4,746.834 3206.4,791.562 3220.03,791.562 3220.03,834.392 3233.67,834.392 3233.67,874.911 3247.31,874.911 3247.31,912.725 3260.94,912.725 \n  3260.94,947.46 3274.58,947.46 3274.58,978.767 3288.22,978.767 3288.22,1006.33 3301.85,1006.33 3301.85,1029.85 3315.49,1029.85 3315.49,1049.09 3329.13,1049.09 \n  3329.13,1063.81 3342.76,1063.81 3342.76,1073.86 3356.4,1073.86 3356.4,1079.08 3370.04,1079.08 3370.04,1079.39 3383.67,1079.39 3383.67,1074.74 3397.31,1074.74 \n  3397.31,1065.13 3410.95,1065.13 3410.95,1050.6 3424.58,1050.6 3424.58,1031.24 3438.22,1031.24 3438.22,1007.17 3451.86,1007.17 3451.86,978.591 3465.49,978.591 \n  3465.49,945.712 3479.13,945.712 3479.13,908.798 3492.77,908.798 3492.77,868.153 3506.4,868.153 3506.4,824.117 3520.04,824.117 3520.04,777.064 3533.68,777.064 \n  3533.68,727.401 3547.31,727.401 3547.31,675.56 3560.95,675.56 3560.95,622 3574.59,622 3574.59,567.199 3588.22,567.199 3588.22,511.65 3601.86,511.65 \n  3601.86,455.858 3615.5,455.858 3615.5,400.334 3629.13,400.334 3629.13,345.594 3642.77,345.594 3642.77,292.149 3656.41,292.149 3656.41,240.504 \n  \"/>\n<polyline clip-path=\"url(#clip933)\" style=\"stroke:#e26f46; stroke-width:8; stroke-opacity:1; fill:none\" points=\"\n  2238.2,540.841 2251.84,540.841 2251.84,576.315 2265.47,576.315 2265.47,611.461 2279.11,611.461 2279.11,645.957 2292.75,645.957 2292.75,679.482 2306.38,679.482 \n  2306.38,711.727 2320.02,711.727 2320.02,742.394 2333.66,742.394 2333.66,771.2 2347.29,771.2 2347.29,797.878 2360.93,797.878 2360.93,822.183 2374.57,822.183 \n  2374.57,843.89 2388.2,843.89 2388.2,862.798 2401.84,862.798 2401.84,878.732 2415.48,878.732 2415.48,891.546 2429.11,891.546 2429.11,901.12 2442.75,901.12 \n  2442.75,907.366 2456.39,907.366 2456.39,910.227 2470.02,910.227 2470.02,909.676 2483.66,909.676 2483.66,905.717 2497.3,905.717 2497.3,898.389 2510.93,898.389 \n  2510.93,887.757 2524.57,887.757 2524.57,873.92 2538.21,873.92 2538.21,857.007 2551.84,857.007 2551.84,837.173 2565.48,837.173 2565.48,814.6 2579.11,814.6 \n  2579.11,789.499 2592.75,789.499 2592.75,762.1 2606.39,762.1 2606.39,732.657 2620.02,732.657 2620.02,701.442 2633.66,701.442 2633.66,668.742 2647.3,668.742 \n  2647.3,634.86 2660.93,634.86 2660.93,600.109 2674.57,600.109 2674.57,564.809 2688.21,564.809 2688.21,529.288 2701.84,529.288 2701.84,493.872 2715.48,493.872 \n  2715.48,458.89 2729.12,458.89 2729.12,424.664 2742.75,424.664 2742.75,391.51 2756.39,391.51 2756.39,359.735 2770.03,359.735 2770.03,329.632 2783.66,329.632 \n  2783.66,301.479 2797.3,301.479 2797.3,275.537 2810.94,275.537 2810.94,252.046 2824.57,252.046 2824.57,231.221 2838.21,231.221 2838.21,213.256 2851.85,213.256 \n  2851.85,198.316 2865.48,198.316 2865.48,186.54 2879.12,186.54 2879.12,178.037 2892.76,178.037 2892.76,172.885 2906.39,172.885 2906.39,171.131 2920.03,171.131 \n  2920.03,172.793 2933.67,172.793 2933.67,177.854 2947.3,177.854 2947.3,186.269 2960.94,186.269 2960.94,197.959 2974.58,197.959 2974.58,212.816 2988.21,212.816 \n  2988.21,230.704 3001.85,230.704 3001.85,251.457 3015.49,251.457 3015.49,274.884 3029.12,274.884 3029.12,300.767 3042.76,300.767 3042.76,328.869 3056.4,328.869 \n  3056.4,358.93 3070.03,358.93 3070.03,390.671 3083.67,390.671 3083.67,423.801 3097.31,423.801 3097.31,458.012 3110.94,458.012 3110.94,492.989 3124.58,492.989 \n  3124.58,528.409 3138.22,528.409 3138.22,563.944 3151.85,563.944 3151.85,599.267 3165.49,599.267 3165.49,634.051 3179.13,634.051 3179.13,667.974 3192.76,667.974 \n  3192.76,700.724 3206.4,700.724 3206.4,731.998 3220.03,731.998 3220.03,761.507 3233.67,761.507 3233.67,788.977 3247.31,788.977 3247.31,814.157 3260.94,814.157 \n  3260.94,836.812 3274.58,836.812 3274.58,856.734 3288.22,856.734 3288.22,873.738 3301.85,873.738 3301.85,887.668 3315.49,887.668 3315.49,898.394 3329.13,898.394 \n  3329.13,905.817 3342.76,905.817 3342.76,909.87 3356.4,909.87 3356.4,910.513 3370.04,910.513 3370.04,907.742 3383.67,907.742 3383.67,901.582 3397.31,901.582 \n  3397.31,892.089 3410.95,892.089 3410.95,879.352 3424.58,879.352 3424.58,863.487 3438.22,863.487 3438.22,844.642 3451.86,844.642 3451.86,822.989 3465.49,822.989 \n  3465.49,798.731 3479.13,798.731 3479.13,772.089 3492.77,772.089 3492.77,743.311 3506.4,743.311 3506.4,712.662 3520.04,712.662 3520.04,680.425 3533.68,680.425 \n  3533.68,646.899 3547.31,646.899 3547.31,612.391 3560.95,612.391 3560.95,577.222 3574.59,577.222 3574.59,541.717 3588.22,541.717 3588.22,506.202 3601.86,506.202 \n  3601.86,471.007 3615.5,471.007 3615.5,436.456 3629.13,436.456 3629.13,402.868 3642.77,402.868 3642.77,370.554 3656.41,370.554 3656.41,339.813 \n  \"/>\n<polyline clip-path=\"url(#clip933)\" style=\"stroke:#3da44d; stroke-width:12; stroke-opacity:1; fill:none\" points=\"\n  2238.2,540.841 2251.84,576.317 2265.47,611.465 2279.11,645.96 2292.75,679.485 2306.38,711.729 2320.02,742.393 2333.66,771.196 2347.29,797.871 2360.93,822.171 \n  2374.57,843.872 2388.2,862.774 2401.84,878.701 2415.48,891.508 2429.11,901.074 2442.75,907.313 2456.39,910.165 2470.02,909.606 2483.66,905.64 2497.3,898.304 \n  2510.93,887.666 2524.57,873.823 2538.21,856.904 2551.84,837.066 2565.48,814.49 2579.11,789.387 2592.75,761.987 2606.39,732.544 2620.02,701.33 2633.66,668.634 \n  2647.3,634.757 2660.93,600.012 2674.57,564.721 2688.21,529.209 2701.84,493.804 2715.48,458.834 2729.12,424.622 2742.75,391.483 2756.39,359.725 2770.03,329.639 \n  2783.66,301.505 2797.3,275.581 2810.94,252.108 2824.57,231.303 2838.21,213.358 2851.85,198.437 2865.48,186.68 2879.12,178.195 2892.76,173.061 2906.39,171.323 \n  2920.03,173 2933.67,178.075 2947.3,186.502 2960.94,198.201 2974.58,213.067 2988.21,230.96 3001.85,251.717 3015.49,275.144 3029.12,301.026 3042.76,329.124 \n  3056.4,359.177 3070.03,390.909 3083.67,424.026 3097.31,458.222 3110.94,493.181 3124.58,528.581 3138.22,564.094 3151.85,599.392 3165.49,634.149 3179.13,668.044 \n  3192.76,700.764 3206.4,732.007 3220.03,761.483 3233.67,788.921 3247.31,814.067 3260.94,836.689 3274.58,856.578 3288.22,873.55 3301.85,887.449 3315.49,898.145 \n  3329.13,905.54 3342.76,909.566 3356.4,910.185 3370.04,907.393 3383.67,901.214 3397.31,891.705 3410.95,878.955 3424.58,863.082 3438.22,844.232 3451.86,822.578 \n  3465.49,798.322 3479.13,771.687 3492.77,742.92 3506.4,712.286 3520.04,680.067 3533.68,646.563 3547.31,612.082 3560.95,576.942 3574.59,541.47 3588.22,505.991 \n  3601.86,470.834 3615.5,436.324 3629.13,402.78 3642.77,370.511 3656.41,339.816 \n  \"/>\n</svg>\n"
                 },
                 "type": "node"
                }
               ],
               "instanceArgs": {
                "namespace": "html",
                "tag": "div"
               },
               "nodeType": "DOM",
               "props": {
                "style": {
                 "display": "flex",
                 "flex-direction": "column"
                }
               },
               "type": "node"
              }
             ],
             "instanceArgs": {
              "namespace": "html",
              "tag": "div"
             },
             "nodeType": "DOM",
             "props": {
              "className": "interact-flex-row interact-widget"
             },
             "type": "node"
            }
           }
          },
          "systemjs_options": null
         },
         "nodeType": "Scope",
         "props": {},
         "type": "node"
        }
       ],
       "instanceArgs": {
        "namespace": "html",
        "tag": "div"
       },
       "nodeType": "DOM",
       "props": {},
       "type": "node"
      },
      "text/html": [
       "<div\n",
       "    class=\"webio-mountpoint\"\n",
       "    data-webio-mountpoint=\"17103478166946584661\"\n",
       ">\n",
       "    <script>\n",
       "    if (window.require && require.defined && require.defined(\"nbextensions/webio-jupyter-notebook\")) {\n",
       "        console.log(\"Jupyter WebIO extension detected, not mounting.\");\n",
       "    } else if (window.WebIO) {\n",
       "        WebIO.mount(\n",
       "            document.querySelector('[data-webio-mountpoint=\"17103478166946584661\"]'),\n",
       "            {\"props\":{},\"nodeType\":\"DOM\",\"type\":\"node\",\"instanceArgs\":{\"namespace\":\"html\",\"tag\":\"div\"},\"children\":[{\"props\":{\"className\":\"field interact-widget\"},\"nodeType\":\"DOM\",\"type\":\"node\",\"instanceArgs\":{\"namespace\":\"html\",\"tag\":\"div\"},\"children\":[{\"props\":{},\"nodeType\":\"Scope\",\"type\":\"node\",\"instanceArgs\":{\"imports\":{\"data\":[{\"name\":\"knockout\",\"type\":\"js\",\"url\":\"\\/assetserver\\/27b9b06e63a2035cd4ce068857b1ecf119172cf9-knockout.js\"},{\"name\":\"knockout_punches\",\"type\":\"js\",\"url\":\"\\/assetserver\\/22148cf7be754c44c5332ef612c0c16111d3f465-knockout_punches.js\"},{\"name\":null,\"type\":\"js\",\"url\":\"\\/assetserver\\/8e63fad578b139abd952ac0a801775ab8ce33f99-all.js\"},{\"name\":null,\"type\":\"css\",\"url\":\"\\/assetserver\\/ea7a6ae01c38c446f0fba30ac569acf6a34c2110-style.css\"},{\"name\":null,\"type\":\"css\",\"url\":\"\\/assetserver\\/7e784f9ff3bc67b4e4b9151c3d0c87d6e5baf2fb-bulma_confined.min.css\"}],\"type\":\"async_block\"},\"id\":\"12032531470177693052\",\"handlers\":{\"changes\":[\"(function (val){return (val!=this.model[\\\"changes\\\"]()) ? (this.valueFromJulia[\\\"changes\\\"]=true, this.model[\\\"changes\\\"](val)) : undefined})\"],\"index\":[\"(function (val){return (val!=this.model[\\\"index\\\"]()) ? (this.valueFromJulia[\\\"index\\\"]=true, this.model[\\\"index\\\"](val)) : undefined})\"]},\"systemjs_options\":null,\"mount_callbacks\":[\"function () {\\n    var handler = (function (ko, koPunches) {\\n    ko.punches.enableAll();\\n    ko.bindingHandlers.numericValue = {\\n        init: function(element, valueAccessor, allBindings, data, context) {\\n            var stringified = ko.observable(ko.unwrap(valueAccessor()));\\n            stringified.subscribe(function(value) {\\n                var val = parseFloat(value);\\n                if (!isNaN(val)) {\\n                    valueAccessor()(val);\\n                }\\n            });\\n            valueAccessor().subscribe(function(value) {\\n                var str = JSON.stringify(value);\\n                if ((str == \\\"0\\\") && ([\\\"-0\\\", \\\"-0.\\\"].indexOf(stringified()) >= 0))\\n                     return;\\n                 if ([\\\"null\\\", \\\"\\\"].indexOf(str) >= 0)\\n                     return;\\n                stringified(str);\\n            });\\n            ko.applyBindingsToNode(\\n                element,\\n                {\\n                    value: stringified,\\n                    valueUpdate: allBindings.get('valueUpdate'),\\n                },\\n                context,\\n            );\\n        }\\n    };\\n    var json_data = {\\\"formatted_vals\\\":[\\\"0.001\\\",\\\"0.006\\\",\\\"0.011\\\",\\\"0.016\\\",\\\"0.021\\\",\\\"0.026\\\",\\\"0.031\\\",\\\"0.036\\\",\\\"0.041\\\",\\\"0.046\\\",\\\"0.051\\\",\\\"0.056\\\",\\\"0.061\\\",\\\"0.066\\\",\\\"0.071\\\",\\\"0.076\\\",\\\"0.081\\\",\\\"0.086\\\",\\\"0.091\\\",\\\"0.096\\\",\\\"0.101\\\",\\\"0.106\\\",\\\"0.111\\\",\\\"0.116\\\",\\\"0.121\\\",\\\"0.126\\\",\\\"0.131\\\",\\\"0.136\\\",\\\"0.141\\\",\\\"0.146\\\",\\\"0.151\\\",\\\"0.156\\\",\\\"0.161\\\",\\\"0.166\\\",\\\"0.171\\\",\\\"0.176\\\",\\\"0.181\\\",\\\"0.186\\\",\\\"0.191\\\",\\\"0.196\\\"],\\\"changes\\\":WebIO.getval({\\\"name\\\":\\\"changes\\\",\\\"scope\\\":\\\"12032531470177693052\\\",\\\"id\\\":\\\"11446675683200323044\\\",\\\"type\\\":\\\"observable\\\"}),\\\"index\\\":WebIO.getval({\\\"name\\\":\\\"index\\\",\\\"scope\\\":\\\"12032531470177693052\\\",\\\"id\\\":\\\"9754059361352318001\\\",\\\"type\\\":\\\"observable\\\"})};\\n    var self = this;\\n    function AppViewModel() {\\n        for (var key in json_data) {\\n            var el = json_data[key];\\n            this[key] = Array.isArray(el) ? ko.observableArray(el) : ko.observable(el);\\n        }\\n        \\n        [this[\\\"formatted_val\\\"]=ko.computed(    function(){\\n        return this.formatted_vals()[parseInt(this.index())-(1)];\\n    }\\n,this)]\\n        [this[\\\"changes\\\"].subscribe((function (val){!(this.valueFromJulia[\\\"changes\\\"]) ? (WebIO.setval({\\\"name\\\":\\\"changes\\\",\\\"scope\\\":\\\"12032531470177693052\\\",\\\"id\\\":\\\"11446675683200323044\\\",\\\"type\\\":\\\"observable\\\"},val)) : undefined; return this.valueFromJulia[\\\"changes\\\"]=false}),self),this[\\\"index\\\"].subscribe((function (val){!(this.valueFromJulia[\\\"index\\\"]) ? (WebIO.setval({\\\"name\\\":\\\"index\\\",\\\"scope\\\":\\\"12032531470177693052\\\",\\\"id\\\":\\\"9754059361352318001\\\",\\\"type\\\":\\\"observable\\\"},val)) : undefined; return this.valueFromJulia[\\\"index\\\"]=false}),self)]\\n        \\n    }\\n    self.model = new AppViewModel();\\n    self.valueFromJulia = {};\\n    for (var key in json_data) {\\n        self.valueFromJulia[key] = false;\\n    }\\n    ko.applyBindings(self.model, self.dom);\\n}\\n);\\n    (WebIO.importBlock({\\\"data\\\":[{\\\"name\\\":\\\"knockout\\\",\\\"type\\\":\\\"js\\\",\\\"url\\\":\\\"\\/assetserver\\/27b9b06e63a2035cd4ce068857b1ecf119172cf9-knockout.js\\\"},{\\\"name\\\":\\\"knockout_punches\\\",\\\"type\\\":\\\"js\\\",\\\"url\\\":\\\"\\/assetserver\\/22148cf7be754c44c5332ef612c0c16111d3f465-knockout_punches.js\\\"}],\\\"type\\\":\\\"async_block\\\"})).then((imports) => handler.apply(this, imports));\\n}\\n\"],\"observables\":{\"changes\":{\"sync\":false,\"id\":\"11446675683200323044\",\"value\":0},\"index\":{\"sync\":true,\"id\":\"9754059361352318001\",\"value\":20}}},\"children\":[{\"props\":{\"className\":\"interact-flex-row interact-widget\"},\"nodeType\":\"DOM\",\"type\":\"node\",\"instanceArgs\":{\"namespace\":\"html\",\"tag\":\"div\"},\"children\":[{\"props\":{\"className\":\"interact-flex-row-left\"},\"nodeType\":\"DOM\",\"type\":\"node\",\"instanceArgs\":{\"namespace\":\"html\",\"tag\":\"div\"},\"children\":[{\"props\":{\"className\":\"interact \",\"style\":{\"padding\":\"5px 10px 0px 10px\"}},\"nodeType\":\"DOM\",\"type\":\"node\",\"instanceArgs\":{\"namespace\":\"html\",\"tag\":\"label\"},\"children\":[\"Δt\"]}]},{\"props\":{\"className\":\"interact-flex-row-center\"},\"nodeType\":\"DOM\",\"type\":\"node\",\"instanceArgs\":{\"namespace\":\"html\",\"tag\":\"div\"},\"children\":[{\"props\":{\"max\":40,\"min\":1,\"attributes\":{\"type\":\"range\",\"data-bind\":\"numericValue: index, valueUpdate: 'input', event: {change: function (){this.changes(this.changes()+1)}}\",\"orient\":\"horizontal\"},\"step\":1,\"labelcolor\":\"red\",\"className\":\"slider slider is-fullwidth\",\"style\":{}},\"nodeType\":\"DOM\",\"type\":\"node\",\"instanceArgs\":{\"namespace\":\"html\",\"tag\":\"input\"},\"children\":[]}]},{\"props\":{\"className\":\"interact-flex-row-right\"},\"nodeType\":\"DOM\",\"type\":\"node\",\"instanceArgs\":{\"namespace\":\"html\",\"tag\":\"div\"},\"children\":[{\"props\":{\"attributes\":{\"data-bind\":\"text: formatted_val\"}},\"nodeType\":\"DOM\",\"type\":\"node\",\"instanceArgs\":{\"namespace\":\"html\",\"tag\":\"p\"},\"children\":[]}]}]}]}]},{\"props\":{\"className\":\"field interact-widget\"},\"nodeType\":\"DOM\",\"type\":\"node\",\"instanceArgs\":{\"namespace\":\"html\",\"tag\":\"div\"},\"children\":[{\"props\":{},\"nodeType\":\"Scope\",\"type\":\"node\",\"instanceArgs\":{\"imports\":{\"data\":[{\"name\":\"knockout\",\"type\":\"js\",\"url\":\"\\/assetserver\\/27b9b06e63a2035cd4ce068857b1ecf119172cf9-knockout.js\"},{\"name\":\"knockout_punches\",\"type\":\"js\",\"url\":\"\\/assetserver\\/22148cf7be754c44c5332ef612c0c16111d3f465-knockout_punches.js\"},{\"name\":null,\"type\":\"js\",\"url\":\"\\/assetserver\\/8e63fad578b139abd952ac0a801775ab8ce33f99-all.js\"},{\"name\":null,\"type\":\"css\",\"url\":\"\\/assetserver\\/ea7a6ae01c38c446f0fba30ac569acf6a34c2110-style.css\"},{\"name\":null,\"type\":\"css\",\"url\":\"\\/assetserver\\/7e784f9ff3bc67b4e4b9151c3d0c87d6e5baf2fb-bulma_confined.min.css\"}],\"type\":\"async_block\"},\"id\":\"4163122659162032202\",\"handlers\":{\"changes\":[\"(function (val){return (val!=this.model[\\\"changes\\\"]()) ? (this.valueFromJulia[\\\"changes\\\"]=true, this.model[\\\"changes\\\"](val)) : undefined})\"],\"index\":[\"(function (val){return (val!=this.model[\\\"index\\\"]()) ? (this.valueFromJulia[\\\"index\\\"]=true, this.model[\\\"index\\\"](val)) : undefined})\"]},\"systemjs_options\":null,\"mount_callbacks\":[\"function () {\\n    var handler = (function (ko, koPunches) {\\n    ko.punches.enableAll();\\n    ko.bindingHandlers.numericValue = {\\n        init: function(element, valueAccessor, allBindings, data, context) {\\n            var stringified = ko.observable(ko.unwrap(valueAccessor()));\\n            stringified.subscribe(function(value) {\\n                var val = parseFloat(value);\\n                if (!isNaN(val)) {\\n                    valueAccessor()(val);\\n                }\\n            });\\n            valueAccessor().subscribe(function(value) {\\n                var str = JSON.stringify(value);\\n                if ((str == \\\"0\\\") && ([\\\"-0\\\", \\\"-0.\\\"].indexOf(stringified()) >= 0))\\n                     return;\\n                 if ([\\\"null\\\", \\\"\\\"].indexOf(str) >= 0)\\n                     return;\\n                stringified(str);\\n            });\\n            ko.applyBindingsToNode(\\n                element,\\n                {\\n                    value: stringified,\\n                    valueUpdate: allBindings.get('valueUpdate'),\\n                },\\n                context,\\n            );\\n        }\\n    };\\n    var json_data = {\\\"formatted_vals\\\":[\\\"0.5\\\",\\\"0.51\\\",\\\"0.52\\\",\\\"0.53\\\",\\\"0.54\\\",\\\"0.55\\\",\\\"0.56\\\",\\\"0.57\\\",\\\"0.58\\\",\\\"0.59\\\",\\\"0.6\\\",\\\"0.61\\\",\\\"0.62\\\",\\\"0.63\\\",\\\"0.64\\\",\\\"0.65\\\",\\\"0.66\\\",\\\"0.67\\\",\\\"0.68\\\",\\\"0.69\\\",\\\"0.7\\\",\\\"0.71\\\",\\\"0.72\\\",\\\"0.73\\\",\\\"0.74\\\",\\\"0.75\\\",\\\"0.76\\\",\\\"0.77\\\",\\\"0.78\\\",\\\"0.79\\\",\\\"0.8\\\",\\\"0.81\\\",\\\"0.82\\\",\\\"0.83\\\",\\\"0.84\\\",\\\"0.85\\\",\\\"0.86\\\",\\\"0.87\\\",\\\"0.88\\\",\\\"0.89\\\",\\\"0.9\\\",\\\"0.91\\\",\\\"0.92\\\",\\\"0.93\\\",\\\"0.94\\\",\\\"0.95\\\",\\\"0.96\\\",\\\"0.97\\\",\\\"0.98\\\",\\\"0.99\\\",\\\"1.0\\\",\\\"1.01\\\",\\\"1.02\\\",\\\"1.03\\\",\\\"1.04\\\",\\\"1.05\\\",\\\"1.06\\\",\\\"1.07\\\",\\\"1.08\\\",\\\"1.09\\\",\\\"1.1\\\",\\\"1.11\\\",\\\"1.12\\\",\\\"1.13\\\",\\\"1.14\\\",\\\"1.15\\\",\\\"1.16\\\",\\\"1.17\\\",\\\"1.18\\\",\\\"1.19\\\",\\\"1.2\\\",\\\"1.21\\\",\\\"1.22\\\",\\\"1.23\\\",\\\"1.24\\\",\\\"1.25\\\",\\\"1.26\\\",\\\"1.27\\\",\\\"1.28\\\",\\\"1.29\\\",\\\"1.3\\\",\\\"1.31\\\",\\\"1.32\\\",\\\"1.33\\\",\\\"1.34\\\",\\\"1.35\\\",\\\"1.36\\\",\\\"1.37\\\",\\\"1.38\\\",\\\"1.39\\\",\\\"1.4\\\",\\\"1.41\\\",\\\"1.42\\\",\\\"1.43\\\",\\\"1.44\\\",\\\"1.45\\\",\\\"1.46\\\",\\\"1.47\\\",\\\"1.48\\\",\\\"1.49\\\",\\\"1.5\\\"],\\\"changes\\\":WebIO.getval({\\\"name\\\":\\\"changes\\\",\\\"scope\\\":\\\"4163122659162032202\\\",\\\"id\\\":\\\"6898024147565062981\\\",\\\"type\\\":\\\"observable\\\"}),\\\"index\\\":WebIO.getval({\\\"name\\\":\\\"index\\\",\\\"scope\\\":\\\"4163122659162032202\\\",\\\"id\\\":\\\"9092332748984693735\\\",\\\"type\\\":\\\"observable\\\"})};\\n    var self = this;\\n    function AppViewModel() {\\n        for (var key in json_data) {\\n            var el = json_data[key];\\n            this[key] = Array.isArray(el) ? ko.observableArray(el) : ko.observable(el);\\n        }\\n        \\n        [this[\\\"formatted_val\\\"]=ko.computed(    function(){\\n        return this.formatted_vals()[parseInt(this.index())-(1)];\\n    }\\n,this)]\\n        [this[\\\"changes\\\"].subscribe((function (val){!(this.valueFromJulia[\\\"changes\\\"]) ? (WebIO.setval({\\\"name\\\":\\\"changes\\\",\\\"scope\\\":\\\"4163122659162032202\\\",\\\"id\\\":\\\"6898024147565062981\\\",\\\"type\\\":\\\"observable\\\"},val)) : undefined; return this.valueFromJulia[\\\"changes\\\"]=false}),self),this[\\\"index\\\"].subscribe((function (val){!(this.valueFromJulia[\\\"index\\\"]) ? (WebIO.setval({\\\"name\\\":\\\"index\\\",\\\"scope\\\":\\\"4163122659162032202\\\",\\\"id\\\":\\\"9092332748984693735\\\",\\\"type\\\":\\\"observable\\\"},val)) : undefined; return this.valueFromJulia[\\\"index\\\"]=false}),self)]\\n        \\n    }\\n    self.model = new AppViewModel();\\n    self.valueFromJulia = {};\\n    for (var key in json_data) {\\n        self.valueFromJulia[key] = false;\\n    }\\n    ko.applyBindings(self.model, self.dom);\\n}\\n);\\n    (WebIO.importBlock({\\\"data\\\":[{\\\"name\\\":\\\"knockout\\\",\\\"type\\\":\\\"js\\\",\\\"url\\\":\\\"\\/assetserver\\/27b9b06e63a2035cd4ce068857b1ecf119172cf9-knockout.js\\\"},{\\\"name\\\":\\\"knockout_punches\\\",\\\"type\\\":\\\"js\\\",\\\"url\\\":\\\"\\/assetserver\\/22148cf7be754c44c5332ef612c0c16111d3f465-knockout_punches.js\\\"}],\\\"type\\\":\\\"async_block\\\"})).then((imports) => handler.apply(this, imports));\\n}\\n\"],\"observables\":{\"changes\":{\"sync\":false,\"id\":\"6898024147565062981\",\"value\":0},\"index\":{\"sync\":true,\"id\":\"9092332748984693735\",\"value\":51}}},\"children\":[{\"props\":{\"className\":\"interact-flex-row interact-widget\"},\"nodeType\":\"DOM\",\"type\":\"node\",\"instanceArgs\":{\"namespace\":\"html\",\"tag\":\"div\"},\"children\":[{\"props\":{\"className\":\"interact-flex-row-left\"},\"nodeType\":\"DOM\",\"type\":\"node\",\"instanceArgs\":{\"namespace\":\"html\",\"tag\":\"div\"},\"children\":[{\"props\":{\"className\":\"interact \",\"style\":{\"padding\":\"5px 10px 0px 10px\"}},\"nodeType\":\"DOM\",\"type\":\"node\",\"instanceArgs\":{\"namespace\":\"html\",\"tag\":\"label\"},\"children\":[\"ω\"]}]},{\"props\":{\"className\":\"interact-flex-row-center\"},\"nodeType\":\"DOM\",\"type\":\"node\",\"instanceArgs\":{\"namespace\":\"html\",\"tag\":\"div\"},\"children\":[{\"props\":{\"max\":101,\"min\":1,\"attributes\":{\"type\":\"range\",\"data-bind\":\"numericValue: index, valueUpdate: 'input', event: {change: function (){this.changes(this.changes()+1)}}\",\"orient\":\"horizontal\"},\"step\":1,\"className\":\"slider slider is-fullwidth\",\"style\":{}},\"nodeType\":\"DOM\",\"type\":\"node\",\"instanceArgs\":{\"namespace\":\"html\",\"tag\":\"input\"},\"children\":[]}]},{\"props\":{\"className\":\"interact-flex-row-right\"},\"nodeType\":\"DOM\",\"type\":\"node\",\"instanceArgs\":{\"namespace\":\"html\",\"tag\":\"div\"},\"children\":[{\"props\":{\"attributes\":{\"data-bind\":\"text: formatted_val\"}},\"nodeType\":\"DOM\",\"type\":\"node\",\"instanceArgs\":{\"namespace\":\"html\",\"tag\":\"p\"},\"children\":[]}]}]}]}]},{\"props\":{\"className\":\"interact-widget\"},\"nodeType\":\"DOM\",\"type\":\"node\",\"instanceArgs\":{\"namespace\":\"html\",\"tag\":\"div\"},\"children\":[{\"props\":{},\"nodeType\":\"Scope\",\"type\":\"node\",\"instanceArgs\":{\"imports\":{\"data\":[{\"name\":\"knockout\",\"type\":\"js\",\"url\":\"\\/assetserver\\/27b9b06e63a2035cd4ce068857b1ecf119172cf9-knockout.js\"},{\"name\":\"knockout_punches\",\"type\":\"js\",\"url\":\"\\/assetserver\\/22148cf7be754c44c5332ef612c0c16111d3f465-knockout_punches.js\"},{\"name\":null,\"type\":\"js\",\"url\":\"\\/assetserver\\/8e63fad578b139abd952ac0a801775ab8ce33f99-all.js\"},{\"name\":null,\"type\":\"css\",\"url\":\"\\/assetserver\\/ea7a6ae01c38c446f0fba30ac569acf6a34c2110-style.css\"},{\"name\":null,\"type\":\"css\",\"url\":\"\\/assetserver\\/7e784f9ff3bc67b4e4b9151c3d0c87d6e5baf2fb-bulma_confined.min.css\"}],\"type\":\"async_block\"},\"id\":\"12290048761972820872\",\"handlers\":{\"options_js\":[\"(function (val){return (val!=this.model[\\\"options_js\\\"]()) ? (this.valueFromJulia[\\\"options_js\\\"]=true, this.model[\\\"options_js\\\"](val)) : undefined})\"],\"index\":[\"(function (val){return (val!=this.model[\\\"index\\\"]()) ? (this.valueFromJulia[\\\"index\\\"]=true, this.model[\\\"index\\\"](val)) : undefined})\"]},\"systemjs_options\":null,\"mount_callbacks\":[\"function () {\\n    var handler = (function (ko, koPunches) {\\n    ko.punches.enableAll();\\n    ko.bindingHandlers.numericValue = {\\n        init: function(element, valueAccessor, allBindings, data, context) {\\n            var stringified = ko.observable(ko.unwrap(valueAccessor()));\\n            stringified.subscribe(function(value) {\\n                var val = parseFloat(value);\\n                if (!isNaN(val)) {\\n                    valueAccessor()(val);\\n                }\\n            });\\n            valueAccessor().subscribe(function(value) {\\n                var str = JSON.stringify(value);\\n                if ((str == \\\"0\\\") && ([\\\"-0\\\", \\\"-0.\\\"].indexOf(stringified()) >= 0))\\n                     return;\\n                 if ([\\\"null\\\", \\\"\\\"].indexOf(str) >= 0)\\n                     return;\\n                stringified(str);\\n            });\\n            ko.applyBindingsToNode(\\n                element,\\n                {\\n                    value: stringified,\\n                    valueUpdate: allBindings.get('valueUpdate'),\\n                },\\n                context,\\n            );\\n        }\\n    };\\n    var json_data = {\\\"options_js\\\":WebIO.getval({\\\"name\\\":\\\"options_js\\\",\\\"scope\\\":\\\"12290048761972820872\\\",\\\"id\\\":\\\"13745764963346577175\\\",\\\"type\\\":\\\"observable\\\"}),\\\"index\\\":WebIO.getval({\\\"name\\\":\\\"index\\\",\\\"scope\\\":\\\"12290048761972820872\\\",\\\"id\\\":\\\"8703979046378886986\\\",\\\"type\\\":\\\"observable\\\"})};\\n    var self = this;\\n    function AppViewModel() {\\n        for (var key in json_data) {\\n            var el = json_data[key];\\n            this[key] = Array.isArray(el) ? ko.observableArray(el) : ko.observable(el);\\n        }\\n        [this[\\\"update\\\"]=function (val) {this.index(val)}]\\n        \\n        [this[\\\"options_js\\\"].subscribe((function (val){!(this.valueFromJulia[\\\"options_js\\\"]) ? (WebIO.setval({\\\"name\\\":\\\"options_js\\\",\\\"scope\\\":\\\"12290048761972820872\\\",\\\"id\\\":\\\"13745764963346577175\\\",\\\"type\\\":\\\"observable\\\"},val)) : undefined; return this.valueFromJulia[\\\"options_js\\\"]=false}),self),this[\\\"index\\\"].subscribe((function (val){!(this.valueFromJulia[\\\"index\\\"]) ? (WebIO.setval({\\\"name\\\":\\\"index\\\",\\\"scope\\\":\\\"12290048761972820872\\\",\\\"id\\\":\\\"8703979046378886986\\\",\\\"type\\\":\\\"observable\\\"},val)) : undefined; return this.valueFromJulia[\\\"index\\\"]=false}),self)]\\n        \\n    }\\n    self.model = new AppViewModel();\\n    self.valueFromJulia = {};\\n    for (var key in json_data) {\\n        self.valueFromJulia[key] = false;\\n    }\\n    ko.applyBindings(self.model, self.dom);\\n}\\n);\\n    (WebIO.importBlock({\\\"data\\\":[{\\\"name\\\":\\\"knockout\\\",\\\"type\\\":\\\"js\\\",\\\"url\\\":\\\"\\/assetserver\\/27b9b06e63a2035cd4ce068857b1ecf119172cf9-knockout.js\\\"},{\\\"name\\\":\\\"knockout_punches\\\",\\\"type\\\":\\\"js\\\",\\\"url\\\":\\\"\\/assetserver\\/22148cf7be754c44c5332ef612c0c16111d3f465-knockout_punches.js\\\"}],\\\"type\\\":\\\"async_block\\\"})).then((imports) => handler.apply(this, imports));\\n}\\n\"],\"observables\":{\"options_js\":{\"sync\":false,\"id\":\"13745764963346577175\",\"value\":[{\"key\":\"T=10\",\"val\":1,\"id\":\"ideBRo60Fm\"},{\"key\":\"T=20\",\"val\":2,\"id\":\"idt3fpgTlI\"},{\"key\":\"T=50\",\"val\":3,\"id\":\"idgpNtWcOI\"}]},\"index\":{\"sync\":true,\"id\":\"8703979046378886986\",\"value\":1}}},\"children\":[{\"props\":{\"className\":\"interact-flex-row interact-widget\"},\"nodeType\":\"DOM\",\"type\":\"node\",\"instanceArgs\":{\"namespace\":\"html\",\"tag\":\"div\"},\"children\":[{\"props\":{\"className\":\"interact-flex-row-left\"},\"nodeType\":\"DOM\",\"type\":\"node\",\"instanceArgs\":{\"namespace\":\"html\",\"tag\":\"div\"},\"children\":[{\"props\":{\"className\":\"interact \",\"style\":{\"padding\":\"5px 10px 0px 10px\"}},\"nodeType\":\"DOM\",\"type\":\"node\",\"instanceArgs\":{\"namespace\":\"html\",\"tag\":\"label\"},\"children\":[\"T\"]}]},{\"props\":{\"className\":\"interact-flex-row-center\"},\"nodeType\":\"DOM\",\"type\":\"node\",\"instanceArgs\":{\"namespace\":\"html\",\"tag\":\"div\"},\"children\":[{\"props\":{\"attributes\":{\"data-bind\":\"foreach : options_js\"},\"className\":\"buttons has-addons is-centered\"},\"nodeType\":\"DOM\",\"type\":\"node\",\"instanceArgs\":{\"namespace\":\"html\",\"tag\":\"div\"},\"children\":[{\"props\":{\"attributes\":{\"data-bind\":\"click: function (){$root.update(val)}, css: {'is-primary is-selected' : $root.index() == val, 'interact-widget is-medium button ' : true}\"}},\"nodeType\":\"DOM\",\"type\":\"node\",\"instanceArgs\":{\"namespace\":\"html\",\"tag\":\"span\"},\"children\":[{\"props\":{\"attributes\":{\"data-bind\":\"text : key\"}},\"nodeType\":\"DOM\",\"type\":\"node\",\"instanceArgs\":{\"namespace\":\"html\",\"tag\":\"label\"},\"children\":[]}]}]}]},{\"props\":{\"className\":\"interact-flex-row-right\"},\"nodeType\":\"DOM\",\"type\":\"node\",\"instanceArgs\":{\"namespace\":\"html\",\"tag\":\"div\"},\"children\":[{\"props\":{},\"nodeType\":\"DOM\",\"type\":\"node\",\"instanceArgs\":{\"namespace\":\"html\",\"tag\":\"div\"},\"children\":[]}]}]}]}]},{\"props\":{\"className\":\"interact-widget\"},\"nodeType\":\"DOM\",\"type\":\"node\",\"instanceArgs\":{\"namespace\":\"html\",\"tag\":\"div\"},\"children\":[{\"props\":{},\"nodeType\":\"Scope\",\"type\":\"node\",\"instanceArgs\":{\"imports\":{\"data\":[{\"name\":\"knockout\",\"type\":\"js\",\"url\":\"\\/assetserver\\/27b9b06e63a2035cd4ce068857b1ecf119172cf9-knockout.js\"},{\"name\":\"knockout_punches\",\"type\":\"js\",\"url\":\"\\/assetserver\\/22148cf7be754c44c5332ef612c0c16111d3f465-knockout_punches.js\"},{\"name\":null,\"type\":\"js\",\"url\":\"\\/assetserver\\/8e63fad578b139abd952ac0a801775ab8ce33f99-all.js\"},{\"name\":null,\"type\":\"css\",\"url\":\"\\/assetserver\\/ea7a6ae01c38c446f0fba30ac569acf6a34c2110-style.css\"},{\"name\":null,\"type\":\"css\",\"url\":\"\\/assetserver\\/7e784f9ff3bc67b4e4b9151c3d0c87d6e5baf2fb-bulma_confined.min.css\"}],\"type\":\"async_block\"},\"id\":\"1281993259716532196\",\"handlers\":{\"options_js\":[\"(function (val){return (val!=this.model[\\\"options_js\\\"]()) ? (this.valueFromJulia[\\\"options_js\\\"]=true, this.model[\\\"options_js\\\"](val)) : undefined})\"],\"index\":[\"(function (val){return (val!=this.model[\\\"index\\\"]()) ? (this.valueFromJulia[\\\"index\\\"]=true, this.model[\\\"index\\\"](val)) : undefined})\"]},\"systemjs_options\":null,\"mount_callbacks\":[\"function () {\\n    var handler = (function (ko, koPunches) {\\n    ko.punches.enableAll();\\n    ko.bindingHandlers.numericValue = {\\n        init: function(element, valueAccessor, allBindings, data, context) {\\n            var stringified = ko.observable(ko.unwrap(valueAccessor()));\\n            stringified.subscribe(function(value) {\\n                var val = parseFloat(value);\\n                if (!isNaN(val)) {\\n                    valueAccessor()(val);\\n                }\\n            });\\n            valueAccessor().subscribe(function(value) {\\n                var str = JSON.stringify(value);\\n                if ((str == \\\"0\\\") && ([\\\"-0\\\", \\\"-0.\\\"].indexOf(stringified()) >= 0))\\n                     return;\\n                 if ([\\\"null\\\", \\\"\\\"].indexOf(str) >= 0)\\n                     return;\\n                stringified(str);\\n            });\\n            ko.applyBindingsToNode(\\n                element,\\n                {\\n                    value: stringified,\\n                    valueUpdate: allBindings.get('valueUpdate'),\\n                },\\n                context,\\n            );\\n        }\\n    };\\n    var json_data = {\\\"options_js\\\":WebIO.getval({\\\"name\\\":\\\"options_js\\\",\\\"scope\\\":\\\"1281993259716532196\\\",\\\"id\\\":\\\"17079846351311030008\\\",\\\"type\\\":\\\"observable\\\"}),\\\"index\\\":WebIO.getval({\\\"name\\\":\\\"index\\\",\\\"scope\\\":\\\"1281993259716532196\\\",\\\"id\\\":\\\"7298276686253703608\\\",\\\"type\\\":\\\"observable\\\"})};\\n    var self = this;\\n    function AppViewModel() {\\n        for (var key in json_data) {\\n            var el = json_data[key];\\n            this[key] = Array.isArray(el) ? ko.observableArray(el) : ko.observable(el);\\n        }\\n        [this[\\\"update\\\"]=function (val) {this.index(val)}]\\n        \\n        [this[\\\"options_js\\\"].subscribe((function (val){!(this.valueFromJulia[\\\"options_js\\\"]) ? (WebIO.setval({\\\"name\\\":\\\"options_js\\\",\\\"scope\\\":\\\"1281993259716532196\\\",\\\"id\\\":\\\"17079846351311030008\\\",\\\"type\\\":\\\"observable\\\"},val)) : undefined; return this.valueFromJulia[\\\"options_js\\\"]=false}),self),this[\\\"index\\\"].subscribe((function (val){!(this.valueFromJulia[\\\"index\\\"]) ? (WebIO.setval({\\\"name\\\":\\\"index\\\",\\\"scope\\\":\\\"1281993259716532196\\\",\\\"id\\\":\\\"7298276686253703608\\\",\\\"type\\\":\\\"observable\\\"},val)) : undefined; return this.valueFromJulia[\\\"index\\\"]=false}),self)]\\n        \\n    }\\n    self.model = new AppViewModel();\\n    self.valueFromJulia = {};\\n    for (var key in json_data) {\\n        self.valueFromJulia[key] = false;\\n    }\\n    ko.applyBindings(self.model, self.dom);\\n}\\n);\\n    (WebIO.importBlock({\\\"data\\\":[{\\\"name\\\":\\\"knockout\\\",\\\"type\\\":\\\"js\\\",\\\"url\\\":\\\"\\/assetserver\\/27b9b06e63a2035cd4ce068857b1ecf119172cf9-knockout.js\\\"},{\\\"name\\\":\\\"knockout_punches\\\",\\\"type\\\":\\\"js\\\",\\\"url\\\":\\\"\\/assetserver\\/22148cf7be754c44c5332ef612c0c16111d3f465-knockout_punches.js\\\"}],\\\"type\\\":\\\"async_block\\\"})).then((imports) => handler.apply(this, imports));\\n}\\n\"],\"observables\":{\"options_js\":{\"sync\":false,\"id\":\"17079846351311030008\",\"value\":[{\"key\":\"auto\",\"val\":1,\"id\":\"idKh5xrd9W\"},{\"key\":\"fixed\",\"val\":2,\"id\":\"idrXRf3DtD\"}]},\"index\":{\"sync\":true,\"id\":\"7298276686253703608\",\"value\":1}}},\"children\":[{\"props\":{\"className\":\"interact-flex-row interact-widget\"},\"nodeType\":\"DOM\",\"type\":\"node\",\"instanceArgs\":{\"namespace\":\"html\",\"tag\":\"div\"},\"children\":[{\"props\":{\"className\":\"interact-flex-row-left\"},\"nodeType\":\"DOM\",\"type\":\"node\",\"instanceArgs\":{\"namespace\":\"html\",\"tag\":\"div\"},\"children\":[{\"props\":{\"className\":\"interact \",\"style\":{\"padding\":\"5px 10px 0px 10px\"}},\"nodeType\":\"DOM\",\"type\":\"node\",\"instanceArgs\":{\"namespace\":\"html\",\"tag\":\"label\"},\"children\":[\"y-axis\"]}]},{\"props\":{\"className\":\"interact-flex-row-center\"},\"nodeType\":\"DOM\",\"type\":\"node\",\"instanceArgs\":{\"namespace\":\"html\",\"tag\":\"div\"},\"children\":[{\"props\":{\"attributes\":{\"data-bind\":\"foreach : options_js\"},\"className\":\"buttons has-addons is-centered\"},\"nodeType\":\"DOM\",\"type\":\"node\",\"instanceArgs\":{\"namespace\":\"html\",\"tag\":\"div\"},\"children\":[{\"props\":{\"attributes\":{\"data-bind\":\"click: function (){$root.update(val)}, css: {'is-primary is-selected' : $root.index() == val, 'interact-widget is-medium button ' : true}\"}},\"nodeType\":\"DOM\",\"type\":\"node\",\"instanceArgs\":{\"namespace\":\"html\",\"tag\":\"span\"},\"children\":[{\"props\":{\"attributes\":{\"data-bind\":\"text : key\"}},\"nodeType\":\"DOM\",\"type\":\"node\",\"instanceArgs\":{\"namespace\":\"html\",\"tag\":\"label\"},\"children\":[]}]}]}]},{\"props\":{\"className\":\"interact-flex-row-right\"},\"nodeType\":\"DOM\",\"type\":\"node\",\"instanceArgs\":{\"namespace\":\"html\",\"tag\":\"div\"},\"children\":[{\"props\":{},\"nodeType\":\"DOM\",\"type\":\"node\",\"instanceArgs\":{\"namespace\":\"html\",\"tag\":\"div\"},\"children\":[]}]}]}]}]},{\"props\":{},\"nodeType\":\"Scope\",\"type\":\"node\",\"instanceArgs\":{\"imports\":{\"data\":[],\"type\":\"async_block\"},\"id\":\"12425482856712068346\",\"handlers\":{},\"systemjs_options\":null,\"mount_callbacks\":[],\"observables\":{\"obs-node\":{\"sync\":false,\"id\":\"15803125395094372072\",\"value\":{\"props\":{\"className\":\"interact-flex-row interact-widget\"},\"nodeType\":\"DOM\",\"type\":\"node\",\"instanceArgs\":{\"namespace\":\"html\",\"tag\":\"div\"},\"children\":[{\"props\":{\"style\":{\"display\":\"flex\",\"flex-direction\":\"column\"}},\"nodeType\":\"DOM\",\"type\":\"node\",\"instanceArgs\":{\"namespace\":\"html\",\"tag\":\"div\"},\"children\":[{\"props\":{\"setInnerHtml\":\"<?xml version=\\\"1.0\\\" encoding=\\\"utf-8\\\"?>\\n<svg xmlns=\\\"http:\\/\\/www.w3.org\\/2000\\/svg\\\" xmlns:xlink=\\\"http:\\/\\/www.w3.org\\/1999\\/xlink\\\" width=\\\"1000\\\" height=\\\"300\\\" viewBox=\\\"0 0 4000 1200\\\">\\n<defs>\\n  <clipPath id=\\\"clip890\\\">\\n    <rect x=\\\"0\\\" y=\\\"0\\\" width=\\\"4000\\\" height=\\\"1200\\\"\\/>\\n  <\\/clipPath>\\n<\\/defs>\\n<path clip-path=\\\"url(#clip890)\\\" d=\\\"\\nM0 1200 L4000 1200 L4000 0 L0 0  Z\\n  \\\" fill=\\\"#ffffff\\\" fill-rule=\\\"evenodd\\\" fill-opacity=\\\"1\\\"\\/>\\n<defs>\\n  <clipPath id=\\\"clip891\\\">\\n    <rect x=\\\"800\\\" y=\\\"0\\\" width=\\\"2801\\\" height=\\\"1200\\\"\\/>\\n  <\\/clipPath>\\n<\\/defs>\\n<path clip-path=\\\"url(#clip890)\\\" d=\\\"\\nM195.654 1109.46 L1952.76 1109.46 L1952.76 47.2441 L195.654 47.2441  Z\\n  \\\" fill=\\\"#ffffff\\\" fill-rule=\\\"evenodd\\\" fill-opacity=\\\"1\\\"\\/>\\n<defs>\\n  <clipPath id=\\\"clip892\\\">\\n    <rect x=\\\"195\\\" y=\\\"47\\\" width=\\\"1758\\\" height=\\\"1063\\\"\\/>\\n  <\\/clipPath>\\n<\\/defs>\\n<polyline clip-path=\\\"url(#clip892)\\\" style=\\\"stroke:#000000; stroke-width:2; stroke-opacity:0.1; fill:none\\\" points=\\\"\\n  245.383,1109.46 245.383,47.2441 \\n  \\\"\\/>\\n<polyline clip-path=\\\"url(#clip892)\\\" style=\\\"stroke:#000000; stroke-width:2; stroke-opacity:0.1; fill:none\\\" points=\\\"\\n  659.794,1109.46 659.794,47.2441 \\n  \\\"\\/>\\n<polyline clip-path=\\\"url(#clip892)\\\" style=\\\"stroke:#000000; stroke-width:2; stroke-opacity:0.1; fill:none\\\" points=\\\"\\n  1074.2,1109.46 1074.2,47.2441 \\n  \\\"\\/>\\n<polyline clip-path=\\\"url(#clip892)\\\" style=\\\"stroke:#000000; stroke-width:2; stroke-opacity:0.1; fill:none\\\" points=\\\"\\n  1488.62,1109.46 1488.62,47.2441 \\n  \\\"\\/>\\n<polyline clip-path=\\\"url(#clip892)\\\" style=\\\"stroke:#000000; stroke-width:2; stroke-opacity:0.1; fill:none\\\" points=\\\"\\n  1903.03,1109.46 1903.03,47.2441 \\n  \\\"\\/>\\n<polyline clip-path=\\\"url(#clip890)\\\" style=\\\"stroke:#000000; stroke-width:4; stroke-opacity:1; fill:none\\\" points=\\\"\\n  195.654,1109.46 1952.76,1109.46 \\n  \\\"\\/>\\n<polyline clip-path=\\\"url(#clip890)\\\" style=\\\"stroke:#000000; stroke-width:4; stroke-opacity:1; fill:none\\\" points=\\\"\\n  245.383,1109.46 245.383,1096.71 \\n  \\\"\\/>\\n<polyline clip-path=\\\"url(#clip890)\\\" style=\\\"stroke:#000000; stroke-width:4; stroke-opacity:1; fill:none\\\" points=\\\"\\n  659.794,1109.46 659.794,1096.71 \\n  \\\"\\/>\\n<polyline clip-path=\\\"url(#clip890)\\\" style=\\\"stroke:#000000; stroke-width:4; stroke-opacity:1; fill:none\\\" points=\\\"\\n  1074.2,1109.46 1074.2,1096.71 \\n  \\\"\\/>\\n<polyline clip-path=\\\"url(#clip890)\\\" style=\\\"stroke:#000000; stroke-width:4; stroke-opacity:1; fill:none\\\" points=\\\"\\n  1488.62,1109.46 1488.62,1096.71 \\n  \\\"\\/>\\n<polyline clip-path=\\\"url(#clip890)\\\" style=\\\"stroke:#000000; stroke-width:4; stroke-opacity:1; fill:none\\\" points=\\\"\\n  1903.03,1109.46 1903.03,1096.71 \\n  \\\"\\/>\\n<path clip-path=\\\"url(#clip890)\\\" d=\\\"M 0 0 M226.899 1151.45 Q223.288 1151.45 221.459 1155.01 Q219.654 1158.55 219.654 1165.68 Q219.654 1172.79 221.459 1176.35 Q223.288 1179.9 226.899 1179.9 Q230.534 1179.9 232.339 1176.35 Q234.168 1172.79 234.168 1165.68 Q234.168 1158.55 232.339 1155.01 Q230.534 1151.45 226.899 1151.45 M226.899 1147.74 Q232.709 1147.74 235.765 1152.35 Q238.844 1156.93 238.844 1165.68 Q238.844 1174.41 235.765 1179.02 Q232.709 1183.6 226.899 1183.6 Q221.089 1183.6 218.01 1179.02 Q214.955 1174.41 214.955 1165.68 Q214.955 1156.93 218.01 1152.35 Q221.089 1147.74 226.899 1147.74 Z\\\" fill=\\\"#000000\\\" fill-rule=\\\"evenodd\\\" fill-opacity=\\\"1\\\" \\/><path clip-path=\\\"url(#clip890)\\\" d=\\\"M 0 0 M243.913 1177.05 L248.797 1177.05 L248.797 1182.93 L243.913 1182.93 L243.913 1177.05 Z\\\" fill=\\\"#000000\\\" fill-rule=\\\"evenodd\\\" fill-opacity=\\\"1\\\" \\/><path clip-path=\\\"url(#clip890)\\\" d=\\\"M 0 0 M263.867 1151.45 Q260.256 1151.45 258.427 1155.01 Q256.621 1158.55 256.621 1165.68 Q256.621 1172.79 258.427 1176.35 Q260.256 1179.9 263.867 1179.9 Q267.501 1179.9 269.306 1176.35 Q271.135 1172.79 271.135 1165.68 Q271.135 1158.55 269.306 1155.01 Q267.501 1151.45 263.867 1151.45 M263.867 1147.74 Q269.677 1147.74 272.732 1152.35 Q275.811 1156.93 275.811 1165.68 Q275.811 1174.41 272.732 1179.02 Q269.677 1183.6 263.867 1183.6 Q258.057 1183.6 254.978 1179.02 Q251.922 1174.41 251.922 1165.68 Q251.922 1156.93 254.978 1152.35 Q258.057 1147.74 263.867 1147.74 Z\\\" fill=\\\"#000000\\\" fill-rule=\\\"evenodd\\\" fill-opacity=\\\"1\\\" \\/><path clip-path=\\\"url(#clip890)\\\" d=\\\"M 0 0 M636.461 1178.99 L652.78 1178.99 L652.78 1182.93 L630.836 1182.93 L630.836 1178.99 Q633.498 1176.24 638.081 1171.61 Q642.687 1166.96 643.868 1165.61 Q646.113 1163.09 646.993 1161.35 Q647.896 1159.59 647.896 1157.9 Q647.896 1155.15 645.951 1153.41 Q644.03 1151.68 640.928 1151.68 Q638.729 1151.68 636.275 1152.44 Q633.845 1153.21 631.067 1154.76 L631.067 1150.03 Q633.891 1148.9 636.345 1148.32 Q638.799 1147.74 640.836 1147.74 Q646.206 1147.74 649.4 1150.43 Q652.595 1153.11 652.595 1157.6 Q652.595 1159.73 651.785 1161.65 Q650.998 1163.55 648.891 1166.15 Q648.312 1166.82 645.211 1170.03 Q642.109 1173.23 636.461 1178.99 Z\\\" fill=\\\"#000000\\\" fill-rule=\\\"evenodd\\\" fill-opacity=\\\"1\\\" \\/><path clip-path=\\\"url(#clip890)\\\" d=\\\"M 0 0 M657.849 1177.05 L662.734 1177.05 L662.734 1182.93 L657.849 1182.93 L657.849 1177.05 Z\\\" fill=\\\"#000000\\\" fill-rule=\\\"evenodd\\\" fill-opacity=\\\"1\\\" \\/><path clip-path=\\\"url(#clip890)\\\" d=\\\"M 0 0 M667.849 1148.37 L686.206 1148.37 L686.206 1152.3 L672.132 1152.3 L672.132 1160.78 Q673.15 1160.43 674.169 1160.27 Q675.187 1160.08 676.206 1160.08 Q681.993 1160.08 685.372 1163.25 Q688.752 1166.42 688.752 1171.84 Q688.752 1177.42 685.28 1180.52 Q681.808 1183.6 675.488 1183.6 Q673.312 1183.6 671.044 1183.23 Q668.798 1182.86 666.391 1182.12 L666.391 1177.42 Q668.474 1178.55 670.697 1179.11 Q672.919 1179.66 675.396 1179.66 Q679.4 1179.66 681.738 1177.56 Q684.076 1175.45 684.076 1171.84 Q684.076 1168.23 681.738 1166.12 Q679.4 1164.02 675.396 1164.02 Q673.521 1164.02 671.646 1164.43 Q669.794 1164.85 667.849 1165.73 L667.849 1148.37 Z\\\" fill=\\\"#000000\\\" fill-rule=\\\"evenodd\\\" fill-opacity=\\\"1\\\" \\/><path clip-path=\\\"url(#clip890)\\\" d=\\\"M 0 0 M1046 1148.37 L1064.36 1148.37 L1064.36 1152.3 L1050.28 1152.3 L1050.28 1160.78 Q1051.3 1160.43 1052.32 1160.27 Q1053.34 1160.08 1054.36 1160.08 Q1060.14 1160.08 1063.52 1163.25 Q1066.9 1166.42 1066.9 1171.84 Q1066.9 1177.42 1063.43 1180.52 Q1059.96 1183.6 1053.64 1183.6 Q1051.46 1183.6 1049.19 1183.23 Q1046.95 1182.86 1044.54 1182.12 L1044.54 1177.42 Q1046.62 1178.55 1048.85 1179.11 Q1051.07 1179.66 1053.55 1179.66 Q1057.55 1179.66 1059.89 1177.56 Q1062.23 1175.45 1062.23 1171.84 Q1062.23 1168.23 1059.89 1166.12 Q1057.55 1164.02 1053.55 1164.02 Q1051.67 1164.02 1049.8 1164.43 Q1047.94 1164.85 1046 1165.73 L1046 1148.37 Z\\\" fill=\\\"#000000\\\" fill-rule=\\\"evenodd\\\" fill-opacity=\\\"1\\\" \\/><path clip-path=\\\"url(#clip890)\\\" d=\\\"M 0 0 M1071.97 1177.05 L1076.86 1177.05 L1076.86 1182.93 L1071.97 1182.93 L1071.97 1177.05 Z\\\" fill=\\\"#000000\\\" fill-rule=\\\"evenodd\\\" fill-opacity=\\\"1\\\" \\/><path clip-path=\\\"url(#clip890)\\\" d=\\\"M 0 0 M1091.92 1151.45 Q1088.31 1151.45 1086.48 1155.01 Q1084.68 1158.55 1084.68 1165.68 Q1084.68 1172.79 1086.48 1176.35 Q1088.31 1179.9 1091.92 1179.9 Q1095.56 1179.9 1097.36 1176.35 Q1099.19 1172.79 1099.19 1165.68 Q1099.19 1158.55 1097.36 1155.01 Q1095.56 1151.45 1091.92 1151.45 M1091.92 1147.74 Q1097.73 1147.74 1100.79 1152.35 Q1103.87 1156.93 1103.87 1165.68 Q1103.87 1174.41 1100.79 1179.02 Q1097.73 1183.6 1091.92 1183.6 Q1086.11 1183.6 1083.04 1179.02 Q1079.98 1174.41 1079.98 1165.68 Q1079.98 1156.93 1083.04 1152.35 Q1086.11 1147.74 1091.92 1147.74 Z\\\" fill=\\\"#000000\\\" fill-rule=\\\"evenodd\\\" fill-opacity=\\\"1\\\" \\/><path clip-path=\\\"url(#clip890)\\\" d=\\\"M 0 0 M1459.52 1148.37 L1481.74 1148.37 L1481.74 1150.36 L1469.19 1182.93 L1464.31 1182.93 L1476.12 1152.3 L1459.52 1152.3 L1459.52 1148.37 Z\\\" fill=\\\"#000000\\\" fill-rule=\\\"evenodd\\\" fill-opacity=\\\"1\\\" \\/><path clip-path=\\\"url(#clip890)\\\" d=\\\"M 0 0 M1486.81 1177.05 L1491.69 1177.05 L1491.69 1182.93 L1486.81 1182.93 L1486.81 1177.05 Z\\\" fill=\\\"#000000\\\" fill-rule=\\\"evenodd\\\" fill-opacity=\\\"1\\\" \\/><path clip-path=\\\"url(#clip890)\\\" d=\\\"M 0 0 M1496.81 1148.37 L1515.17 1148.37 L1515.17 1152.3 L1501.09 1152.3 L1501.09 1160.78 Q1502.11 1160.43 1503.13 1160.27 Q1504.15 1160.08 1505.17 1160.08 Q1510.95 1160.08 1514.33 1163.25 Q1517.71 1166.42 1517.71 1171.84 Q1517.71 1177.42 1514.24 1180.52 Q1510.77 1183.6 1504.45 1183.6 Q1502.27 1183.6 1500 1183.23 Q1497.76 1182.86 1495.35 1182.12 L1495.35 1177.42 Q1497.44 1178.55 1499.66 1179.11 Q1501.88 1179.66 1504.36 1179.66 Q1508.36 1179.66 1510.7 1177.56 Q1513.04 1175.45 1513.04 1171.84 Q1513.04 1168.23 1510.7 1166.12 Q1508.36 1164.02 1504.36 1164.02 Q1502.48 1164.02 1500.61 1164.43 Q1498.75 1164.85 1496.81 1165.73 L1496.81 1148.37 Z\\\" fill=\\\"#000000\\\" fill-rule=\\\"evenodd\\\" fill-opacity=\\\"1\\\" \\/><path clip-path=\\\"url(#clip890)\\\" d=\\\"M 0 0 M1861.42 1178.99 L1869.06 1178.99 L1869.06 1152.63 L1860.75 1154.29 L1860.75 1150.03 L1869.01 1148.37 L1873.69 1148.37 L1873.69 1178.99 L1881.33 1178.99 L1881.33 1182.93 L1861.42 1182.93 L1861.42 1178.99 Z\\\" fill=\\\"#000000\\\" fill-rule=\\\"evenodd\\\" fill-opacity=\\\"1\\\" \\/><path clip-path=\\\"url(#clip890)\\\" d=\\\"M 0 0 M1896.39 1151.45 Q1892.78 1151.45 1890.95 1155.01 Q1889.15 1158.55 1889.15 1165.68 Q1889.15 1172.79 1890.95 1176.35 Q1892.78 1179.9 1896.39 1179.9 Q1900.03 1179.9 1901.83 1176.35 Q1903.66 1172.79 1903.66 1165.68 Q1903.66 1158.55 1901.83 1155.01 Q1900.03 1151.45 1896.39 1151.45 M1896.39 1147.74 Q1902.2 1147.74 1905.26 1152.35 Q1908.34 1156.93 1908.34 1165.68 Q1908.34 1174.41 1905.26 1179.02 Q1902.2 1183.6 1896.39 1183.6 Q1890.58 1183.6 1887.51 1179.02 Q1884.45 1174.41 1884.45 1165.68 Q1884.45 1156.93 1887.51 1152.35 Q1890.58 1147.74 1896.39 1147.74 Z\\\" fill=\\\"#000000\\\" fill-rule=\\\"evenodd\\\" fill-opacity=\\\"1\\\" \\/><path clip-path=\\\"url(#clip890)\\\" d=\\\"M 0 0 M1913.41 1177.05 L1918.29 1177.05 L1918.29 1182.93 L1913.41 1182.93 L1913.41 1177.05 Z\\\" fill=\\\"#000000\\\" fill-rule=\\\"evenodd\\\" fill-opacity=\\\"1\\\" \\/><path clip-path=\\\"url(#clip890)\\\" d=\\\"M 0 0 M1933.36 1151.45 Q1929.75 1151.45 1927.92 1155.01 Q1926.12 1158.55 1926.12 1165.68 Q1926.12 1172.79 1927.92 1176.35 Q1929.75 1179.9 1933.36 1179.9 Q1937 1179.9 1938.8 1176.35 Q1940.63 1172.79 1940.63 1165.68 Q1940.63 1158.55 1938.8 1155.01 Q1937 1151.45 1933.36 1151.45 M1933.36 1147.74 Q1939.17 1147.74 1942.23 1152.35 Q1945.31 1156.93 1945.31 1165.68 Q1945.31 1174.41 1942.23 1179.02 Q1939.17 1183.6 1933.36 1183.6 Q1927.55 1183.6 1924.47 1179.02 Q1921.42 1174.41 1921.42 1165.68 Q1921.42 1156.93 1924.47 1152.35 Q1927.55 1147.74 1933.36 1147.74 Z\\\" fill=\\\"#000000\\\" fill-rule=\\\"evenodd\\\" fill-opacity=\\\"1\\\" \\/><polyline clip-path=\\\"url(#clip892)\\\" style=\\\"stroke:#000000; stroke-width:2; stroke-opacity:0.1; fill:none\\\" points=\\\"\\n  195.654,1054.47 1952.76,1054.47 \\n  \\\"\\/>\\n<polyline clip-path=\\\"url(#clip892)\\\" style=\\\"stroke:#000000; stroke-width:2; stroke-opacity:0.1; fill:none\\\" points=\\\"\\n  195.654,883.202 1952.76,883.202 \\n  \\\"\\/>\\n<polyline clip-path=\\\"url(#clip892)\\\" style=\\\"stroke:#000000; stroke-width:2; stroke-opacity:0.1; fill:none\\\" points=\\\"\\n  195.654,711.939 1952.76,711.939 \\n  \\\"\\/>\\n<polyline clip-path=\\\"url(#clip892)\\\" style=\\\"stroke:#000000; stroke-width:2; stroke-opacity:0.1; fill:none\\\" points=\\\"\\n  195.654,540.676 1952.76,540.676 \\n  \\\"\\/>\\n<polyline clip-path=\\\"url(#clip892)\\\" style=\\\"stroke:#000000; stroke-width:2; stroke-opacity:0.1; fill:none\\\" points=\\\"\\n  195.654,369.413 1952.76,369.413 \\n  \\\"\\/>\\n<polyline clip-path=\\\"url(#clip892)\\\" style=\\\"stroke:#000000; stroke-width:2; stroke-opacity:0.1; fill:none\\\" points=\\\"\\n  195.654,198.149 1952.76,198.149 \\n  \\\"\\/>\\n<polyline clip-path=\\\"url(#clip890)\\\" style=\\\"stroke:#000000; stroke-width:4; stroke-opacity:1; fill:none\\\" points=\\\"\\n  195.654,1109.46 195.654,47.2441 \\n  \\\"\\/>\\n<polyline clip-path=\\\"url(#clip890)\\\" style=\\\"stroke:#000000; stroke-width:4; stroke-opacity:1; fill:none\\\" points=\\\"\\n  195.654,1054.47 216.739,1054.47 \\n  \\\"\\/>\\n<polyline clip-path=\\\"url(#clip890)\\\" style=\\\"stroke:#000000; stroke-width:4; stroke-opacity:1; fill:none\\\" points=\\\"\\n  195.654,883.202 216.739,883.202 \\n  \\\"\\/>\\n<polyline clip-path=\\\"url(#clip890)\\\" style=\\\"stroke:#000000; stroke-width:4; stroke-opacity:1; fill:none\\\" points=\\\"\\n  195.654,711.939 216.739,711.939 \\n  \\\"\\/>\\n<polyline clip-path=\\\"url(#clip890)\\\" style=\\\"stroke:#000000; stroke-width:4; stroke-opacity:1; fill:none\\\" points=\\\"\\n  195.654,540.676 216.739,540.676 \\n  \\\"\\/>\\n<polyline clip-path=\\\"url(#clip890)\\\" style=\\\"stroke:#000000; stroke-width:4; stroke-opacity:1; fill:none\\\" points=\\\"\\n  195.654,369.413 216.739,369.413 \\n  \\\"\\/>\\n<polyline clip-path=\\\"url(#clip890)\\\" style=\\\"stroke:#000000; stroke-width:4; stroke-opacity:1; fill:none\\\" points=\\\"\\n  195.654,198.149 216.739,198.149 \\n  \\\"\\/>\\n<path clip-path=\\\"url(#clip890)\\\" d=\\\"M 0 0 M44.219 1054.92 L73.8947 1054.92 L73.8947 1058.85 L44.219 1058.85 L44.219 1054.92 Z\\\" fill=\\\"#000000\\\" fill-rule=\\\"evenodd\\\" fill-opacity=\\\"1\\\" \\/><path clip-path=\\\"url(#clip890)\\\" d=\\\"M 0 0 M79.7743 1067.81 L87.4132 1067.81 L87.4132 1041.44 L79.103 1043.11 L79.103 1038.85 L87.3669 1037.19 L92.0428 1037.19 L92.0428 1067.81 L99.6816 1067.81 L99.6816 1071.75 L79.7743 1071.75 L79.7743 1067.81 Z\\\" fill=\\\"#000000\\\" fill-rule=\\\"evenodd\\\" fill-opacity=\\\"1\\\" \\/><path clip-path=\\\"url(#clip890)\\\" d=\\\"M 0 0 M104.751 1065.87 L109.635 1065.87 L109.635 1071.75 L104.751 1071.75 L104.751 1065.87 Z\\\" fill=\\\"#000000\\\" fill-rule=\\\"evenodd\\\" fill-opacity=\\\"1\\\" \\/><path clip-path=\\\"url(#clip890)\\\" d=\\\"M 0 0 M114.751 1037.19 L133.107 1037.19 L133.107 1041.12 L119.033 1041.12 L119.033 1049.59 Q120.052 1049.25 121.07 1049.08 Q122.089 1048.9 123.107 1048.9 Q128.894 1048.9 132.274 1052.07 Q135.654 1055.24 135.654 1060.66 Q135.654 1066.24 132.181 1069.34 Q128.709 1072.42 122.39 1072.42 Q120.214 1072.42 117.945 1072.05 Q115.7 1071.68 113.293 1070.94 L113.293 1066.24 Q115.376 1067.37 117.598 1067.93 Q119.82 1068.48 122.297 1068.48 Q126.302 1068.48 128.64 1066.37 Q130.978 1064.27 130.978 1060.66 Q130.978 1057.05 128.64 1054.94 Q126.302 1052.83 122.297 1052.83 Q120.422 1052.83 118.547 1053.25 Q116.695 1053.67 114.751 1054.55 L114.751 1037.19 Z\\\" fill=\\\"#000000\\\" fill-rule=\\\"evenodd\\\" fill-opacity=\\\"1\\\" \\/><path clip-path=\\\"url(#clip890)\\\" d=\\\"M 0 0 M43.2236 883.653 L72.8994 883.653 L72.8994 887.589 L43.2236 887.589 L43.2236 883.653 Z\\\" fill=\\\"#000000\\\" fill-rule=\\\"evenodd\\\" fill-opacity=\\\"1\\\" \\/><path clip-path=\\\"url(#clip890)\\\" d=\\\"M 0 0 M78.779 896.547 L86.4178 896.547 L86.4178 870.181 L78.1077 871.848 L78.1077 867.589 L86.3715 865.922 L91.0474 865.922 L91.0474 896.547 L98.6863 896.547 L98.6863 900.482 L78.779 900.482 L78.779 896.547 Z\\\" fill=\\\"#000000\\\" fill-rule=\\\"evenodd\\\" fill-opacity=\\\"1\\\" \\/><path clip-path=\\\"url(#clip890)\\\" d=\\\"M 0 0 M103.756 894.602 L108.64 894.602 L108.64 900.482 L103.756 900.482 L103.756 894.602 Z\\\" fill=\\\"#000000\\\" fill-rule=\\\"evenodd\\\" fill-opacity=\\\"1\\\" \\/><path clip-path=\\\"url(#clip890)\\\" d=\\\"M 0 0 M123.709 869.001 Q120.098 869.001 118.27 872.566 Q116.464 876.107 116.464 883.237 Q116.464 890.343 118.27 893.908 Q120.098 897.45 123.709 897.45 Q127.344 897.45 129.149 893.908 Q130.978 890.343 130.978 883.237 Q130.978 876.107 129.149 872.566 Q127.344 869.001 123.709 869.001 M123.709 865.297 Q129.519 865.297 132.575 869.904 Q135.654 874.487 135.654 883.237 Q135.654 891.964 132.575 896.57 Q129.519 901.153 123.709 901.153 Q117.899 901.153 114.82 896.57 Q111.765 891.964 111.765 883.237 Q111.765 874.487 114.82 869.904 Q117.899 865.297 123.709 865.297 Z\\\" fill=\\\"#000000\\\" fill-rule=\\\"evenodd\\\" fill-opacity=\\\"1\\\" \\/><path clip-path=\\\"url(#clip890)\\\" d=\\\"M 0 0 M42.9921 712.39 L72.6679 712.39 L72.6679 716.325 L42.9921 716.325 L42.9921 712.39 Z\\\" fill=\\\"#000000\\\" fill-rule=\\\"evenodd\\\" fill-opacity=\\\"1\\\" \\/><path clip-path=\\\"url(#clip890)\\\" d=\\\"M 0 0 M87.7373 697.738 Q84.1262 697.738 82.2975 701.302 Q80.4919 704.844 80.4919 711.974 Q80.4919 719.08 82.2975 722.645 Q84.1262 726.187 87.7373 726.187 Q91.3715 726.187 93.177 722.645 Q95.0057 719.08 95.0057 711.974 Q95.0057 704.844 93.177 701.302 Q91.3715 697.738 87.7373 697.738 M87.7373 694.034 Q93.5474 694.034 96.6029 698.64 Q99.6816 703.224 99.6816 711.974 Q99.6816 720.7 96.6029 725.307 Q93.5474 729.89 87.7373 729.89 Q81.9271 729.89 78.8484 725.307 Q75.7929 720.7 75.7929 711.974 Q75.7929 703.224 78.8484 698.64 Q81.9271 694.034 87.7373 694.034 Z\\\" fill=\\\"#000000\\\" fill-rule=\\\"evenodd\\\" fill-opacity=\\\"1\\\" \\/><path clip-path=\\\"url(#clip890)\\\" d=\\\"M 0 0 M104.751 723.339 L109.635 723.339 L109.635 729.219 L104.751 729.219 L104.751 723.339 Z\\\" fill=\\\"#000000\\\" fill-rule=\\\"evenodd\\\" fill-opacity=\\\"1\\\" \\/><path clip-path=\\\"url(#clip890)\\\" d=\\\"M 0 0 M114.751 694.659 L133.107 694.659 L133.107 698.594 L119.033 698.594 L119.033 707.066 Q120.052 706.719 121.07 706.557 Q122.089 706.372 123.107 706.372 Q128.894 706.372 132.274 709.543 Q135.654 712.714 135.654 718.131 Q135.654 723.71 132.181 726.812 Q128.709 729.89 122.39 729.89 Q120.214 729.89 117.945 729.52 Q115.7 729.149 113.293 728.409 L113.293 723.71 Q115.376 724.844 117.598 725.399 Q119.82 725.955 122.297 725.955 Q126.302 725.955 128.64 723.849 Q130.978 721.742 130.978 718.131 Q130.978 714.52 128.64 712.413 Q126.302 710.307 122.297 710.307 Q120.422 710.307 118.547 710.724 Q116.695 711.14 114.751 712.02 L114.751 694.659 Z\\\" fill=\\\"#000000\\\" fill-rule=\\\"evenodd\\\" fill-opacity=\\\"1\\\" \\/><path clip-path=\\\"url(#clip890)\\\" d=\\\"M 0 0 M86.7419 526.474 Q83.1308 526.474 81.3021 530.039 Q79.4966 533.581 79.4966 540.71 Q79.4966 547.817 81.3021 551.382 Q83.1308 554.923 86.7419 554.923 Q90.3761 554.923 92.1817 551.382 Q94.0104 547.817 94.0104 540.71 Q94.0104 533.581 92.1817 530.039 Q90.3761 526.474 86.7419 526.474 M86.7419 522.771 Q92.552 522.771 95.6076 527.377 Q98.6863 531.961 98.6863 540.71 Q98.6863 549.437 95.6076 554.044 Q92.552 558.627 86.7419 558.627 Q80.9317 558.627 77.8531 554.044 Q74.7975 549.437 74.7975 540.71 Q74.7975 531.961 77.8531 527.377 Q80.9317 522.771 86.7419 522.771 Z\\\" fill=\\\"#000000\\\" fill-rule=\\\"evenodd\\\" fill-opacity=\\\"1\\\" \\/><path clip-path=\\\"url(#clip890)\\\" d=\\\"M 0 0 M103.756 552.076 L108.64 552.076 L108.64 557.956 L103.756 557.956 L103.756 552.076 Z\\\" fill=\\\"#000000\\\" fill-rule=\\\"evenodd\\\" fill-opacity=\\\"1\\\" \\/><path clip-path=\\\"url(#clip890)\\\" d=\\\"M 0 0 M123.709 526.474 Q120.098 526.474 118.27 530.039 Q116.464 533.581 116.464 540.71 Q116.464 547.817 118.27 551.382 Q120.098 554.923 123.709 554.923 Q127.344 554.923 129.149 551.382 Q130.978 547.817 130.978 540.71 Q130.978 533.581 129.149 530.039 Q127.344 526.474 123.709 526.474 M123.709 522.771 Q129.519 522.771 132.575 527.377 Q135.654 531.961 135.654 540.71 Q135.654 549.437 132.575 554.044 Q129.519 558.627 123.709 558.627 Q117.899 558.627 114.82 554.044 Q111.765 549.437 111.765 540.71 Q111.765 531.961 114.82 527.377 Q117.899 522.771 123.709 522.771 Z\\\" fill=\\\"#000000\\\" fill-rule=\\\"evenodd\\\" fill-opacity=\\\"1\\\" \\/><path clip-path=\\\"url(#clip890)\\\" d=\\\"M 0 0 M87.7373 355.211 Q84.1262 355.211 82.2975 358.776 Q80.4919 362.318 80.4919 369.447 Q80.4919 376.554 82.2975 380.119 Q84.1262 383.66 87.7373 383.66 Q91.3715 383.66 93.177 380.119 Q95.0057 376.554 95.0057 369.447 Q95.0057 362.318 93.177 358.776 Q91.3715 355.211 87.7373 355.211 M87.7373 351.508 Q93.5474 351.508 96.6029 356.114 Q99.6816 360.697 99.6816 369.447 Q99.6816 378.174 96.6029 382.781 Q93.5474 387.364 87.7373 387.364 Q81.9271 387.364 78.8484 382.781 Q75.7929 378.174 75.7929 369.447 Q75.7929 360.697 78.8484 356.114 Q81.9271 351.508 87.7373 351.508 Z\\\" fill=\\\"#000000\\\" fill-rule=\\\"evenodd\\\" fill-opacity=\\\"1\\\" \\/><path clip-path=\\\"url(#clip890)\\\" d=\\\"M 0 0 M104.751 380.813 L109.635 380.813 L109.635 386.693 L104.751 386.693 L104.751 380.813 Z\\\" fill=\\\"#000000\\\" fill-rule=\\\"evenodd\\\" fill-opacity=\\\"1\\\" \\/><path clip-path=\\\"url(#clip890)\\\" d=\\\"M 0 0 M114.751 352.133 L133.107 352.133 L133.107 356.068 L119.033 356.068 L119.033 364.54 Q120.052 364.193 121.07 364.031 Q122.089 363.845 123.107 363.845 Q128.894 363.845 132.274 367.017 Q135.654 370.188 135.654 375.605 Q135.654 381.183 132.181 384.285 Q128.709 387.364 122.39 387.364 Q120.214 387.364 117.945 386.994 Q115.7 386.623 113.293 385.882 L113.293 381.183 Q115.376 382.318 117.598 382.873 Q119.82 383.429 122.297 383.429 Q126.302 383.429 128.64 381.322 Q130.978 379.216 130.978 375.605 Q130.978 371.994 128.64 369.887 Q126.302 367.781 122.297 367.781 Q120.422 367.781 118.547 368.197 Q116.695 368.614 114.751 369.494 L114.751 352.133 Z\\\" fill=\\\"#000000\\\" fill-rule=\\\"evenodd\\\" fill-opacity=\\\"1\\\" \\/><path clip-path=\\\"url(#clip890)\\\" d=\\\"M 0 0 M78.779 211.494 L86.4178 211.494 L86.4178 185.129 L78.1077 186.795 L78.1077 182.536 L86.3715 180.869 L91.0474 180.869 L91.0474 211.494 L98.6863 211.494 L98.6863 215.429 L78.779 215.429 L78.779 211.494 Z\\\" fill=\\\"#000000\\\" fill-rule=\\\"evenodd\\\" fill-opacity=\\\"1\\\" \\/><path clip-path=\\\"url(#clip890)\\\" d=\\\"M 0 0 M103.756 209.55 L108.64 209.55 L108.64 215.429 L103.756 215.429 L103.756 209.55 Z\\\" fill=\\\"#000000\\\" fill-rule=\\\"evenodd\\\" fill-opacity=\\\"1\\\" \\/><path clip-path=\\\"url(#clip890)\\\" d=\\\"M 0 0 M123.709 183.948 Q120.098 183.948 118.27 187.513 Q116.464 191.055 116.464 198.184 Q116.464 205.291 118.27 208.855 Q120.098 212.397 123.709 212.397 Q127.344 212.397 129.149 208.855 Q130.978 205.291 130.978 198.184 Q130.978 191.055 129.149 187.513 Q127.344 183.948 123.709 183.948 M123.709 180.244 Q129.519 180.244 132.575 184.851 Q135.654 189.434 135.654 198.184 Q135.654 206.911 132.575 211.517 Q129.519 216.101 123.709 216.101 Q117.899 216.101 114.82 211.517 Q111.765 206.911 111.765 198.184 Q111.765 189.434 114.82 184.851 Q117.899 180.244 123.709 180.244 Z\\\" fill=\\\"#000000\\\" fill-rule=\\\"evenodd\\\" fill-opacity=\\\"1\\\" \\/><polyline clip-path=\\\"url(#clip892)\\\" style=\\\"stroke:#009af9; stroke-width:8; stroke-opacity:1; fill:none\\\" points=\\\"\\n  245.383,198.149 261.322,198.149 277.261,198.149 277.261,201.306 293.2,201.306 293.2,207.62 309.138,207.62 309.138,217.061 325.077,217.061 \\n  325.077,229.571 341.016,229.571 341.016,245.064 356.955,245.064 356.955,263.424 372.894,263.424 372.894,284.509 388.833,284.509 388.833,308.148 404.772,308.148 \\n  404.772,334.149 420.711,334.149 420.711,362.292 436.65,362.292 436.65,392.339 452.588,392.339 452.588,424.03 468.527,424.03 468.527,457.087 484.466,457.087 \\n  484.466,491.22 500.405,491.22 500.405,526.124 516.344,526.124 516.344,561.482 532.283,561.482 532.283,596.976 548.222,596.976 548.222,632.277 564.161,632.277 \\n  564.161,667.059 580.099,667.059 580.099,700.998 596.038,700.998 596.038,733.771 611.977,733.771 611.977,765.067 627.916,765.067 627.916,794.584 643.855,794.584 \\n  643.855,822.032 659.794,822.032 659.794,847.14 675.733,847.14 675.733,869.656 691.672,869.656 691.672,889.347 707.611,889.347 707.611,906.006 723.549,906.006 \\n  723.549,919.452 739.488,919.452 739.488,929.531 755.427,929.531 755.427,936.119 771.366,936.119 771.366,939.123 787.305,939.123 787.305,938.483 803.244,938.483 \\n  803.244,934.171 819.183,934.171 819.183,926.193 835.122,926.193 835.122,914.588 851.06,914.588 851.06,899.431 866.999,899.431 866.999,880.827 882.938,880.827 \\n  882.938,858.917 898.877,858.917 898.877,833.873 914.816,833.873 914.816,805.895 930.755,805.895 930.755,775.215 946.694,775.215 946.694,742.091 962.633,742.091 \\n  962.633,706.806 978.572,706.806 978.572,669.664 994.51,669.664 994.51,630.991 1010.45,630.991 1010.45,591.13 1026.39,591.13 1026.39,550.436 1042.33,550.436 \\n  1042.33,509.277 1058.27,509.277 1058.27,468.028 1074.2,468.028 1074.2,427.068 1090.14,427.068 1090.14,386.778 1106.08,386.778 1106.08,347.536 1122.02,347.536 \\n  1122.02,309.711 1137.96,309.711 1137.96,273.666 1153.9,273.666 1153.9,239.75 1169.84,239.75 1169.84,208.295 1185.78,208.295 1185.78,179.613 1201.72,179.613 \\n  1201.72,153.994 1217.65,153.994 1217.65,131.703 1233.59,131.703 1233.59,112.975 1249.53,112.975 1249.53,98.0168 1265.47,98.0168 1265.47,87.0001 1281.41,87.0001 \\n  1281.41,80.0628 1297.35,80.0628 1297.35,77.3067 1313.29,77.3067 1313.29,78.7955 1329.23,78.7955 1329.23,84.5548 1345.17,84.5548 1345.17,94.5708 1361.1,94.5708 \\n  1361.1,108.79 1377.04,108.79 1377.04,127.121 1392.98,127.121 1392.98,149.432 1408.92,149.432 1408.92,175.555 1424.86,175.555 1424.86,205.283 1440.8,205.283 \\n  1440.8,238.376 1456.74,238.376 1456.74,274.56 1472.68,274.56 1472.68,313.53 1488.62,313.53 1488.62,354.953 1504.55,354.953 1504.55,398.469 1520.49,398.469 \\n  1520.49,443.696 1536.43,443.696 1536.43,490.234 1552.37,490.234 1552.37,537.666 1568.31,537.666 1568.31,585.563 1584.25,585.563 1584.25,633.488 1600.19,633.488 \\n  1600.19,680.999 1616.13,680.999 1616.13,727.654 1632.07,727.654 1632.07,773.016 1648,773.016 1648,816.655 1663.94,816.655 1663.94,858.153 1679.88,858.153 \\n  1679.88,897.108 1695.82,897.108 1695.82,933.136 1711.76,933.136 1711.76,965.88 1727.7,965.88 1727.7,995.007 1743.64,995.007 1743.64,1020.21 1759.58,1020.21 \\n  1759.58,1041.24 1775.52,1041.24 1775.52,1057.84 1791.45,1057.84 1791.45,1069.83 1807.39,1069.83 1807.39,1077.05 1823.33,1077.05 1823.33,1079.39 1839.27,1079.39 \\n  1839.27,1076.8 1855.21,1076.8 1855.21,1069.23 1871.15,1069.23 1871.15,1056.73 1887.09,1056.73 1887.09,1039.36 1903.03,1039.36 1903.03,1017.22 \\n  \\\"\\/>\\n<polyline clip-path=\\\"url(#clip892)\\\" style=\\\"stroke:#e26f46; stroke-width:8; stroke-opacity:1; fill:none\\\" points=\\\"\\n  245.383,198.149 261.322,198.149 261.322,199.728 277.261,199.728 277.261,204.456 293.2,204.456 293.2,212.289 309.138,212.289 309.138,223.156 325.077,223.156 \\n  325.077,236.957 341.016,236.957 341.016,253.563 356.955,253.563 356.955,272.822 372.894,272.822 372.894,294.555 388.833,294.555 388.833,318.563 404.772,318.563 \\n  404.772,344.622 420.711,344.622 420.711,372.493 436.65,372.493 436.65,401.918 452.588,401.918 452.588,432.626 468.527,432.626 468.527,464.332 484.466,464.332 \\n  484.466,496.744 500.405,496.744 500.405,529.563 516.344,529.563 516.344,562.485 532.283,562.485 532.283,595.206 548.222,595.206 548.222,627.425 564.161,627.425 \\n  564.161,658.842 580.099,658.842 580.099,689.169 596.038,689.169 596.038,718.125 611.977,718.125 611.977,745.442 627.916,745.442 627.916,770.868 643.855,770.868 \\n  643.855,794.169 659.794,794.169 659.794,815.128 675.733,815.128 675.733,833.553 691.672,833.553 691.672,849.272 707.611,849.272 707.611,862.142 723.549,862.142 \\n  723.549,872.042 739.488,872.042 739.488,878.882 755.427,878.882 755.427,882.597 771.366,882.597 771.366,883.155 787.305,883.155 787.305,880.548 803.244,880.548 \\n  803.244,874.803 819.183,874.803 819.183,865.97 835.122,865.97 835.122,854.133 851.06,854.133 851.06,839.4 866.999,839.4 866.999,821.907 882.938,821.907 \\n  882.938,801.816 898.877,801.816 898.877,779.313 914.816,779.313 914.816,754.604 930.755,754.604 930.755,727.919 946.694,727.919 946.694,699.504 962.633,699.504 \\n  962.633,669.621 978.572,669.621 978.572,638.547 994.51,638.547 994.51,606.567 1010.45,606.567 1010.45,573.978 1026.39,573.978 1026.39,541.081 1042.33,541.081 \\n  1042.33,508.18 1058.27,508.18 1058.27,475.578 1074.2,475.578 1074.2,443.577 1090.14,443.577 1090.14,412.471 1106.08,412.471 1106.08,382.55 1122.02,382.55 \\n  1122.02,354.088 1137.96,354.088 1137.96,327.35 1153.9,327.35 1153.9,302.581 1169.84,302.581 1169.84,280.011 1185.78,280.011 1185.78,259.849 1201.72,259.849 \\n  1201.72,242.28 1217.65,242.28 1217.65,227.467 1233.59,227.467 1233.59,215.547 1249.53,215.547 1249.53,206.63 1265.47,206.63 1265.47,200.799 1281.41,200.799 \\n  1281.41,198.107 1297.35,198.107 1297.35,198.579 1313.29,198.579 1313.29,202.211 1329.23,202.211 1329.23,208.97 1345.17,208.97 1345.17,218.793 1361.1,218.793 \\n  1361.1,231.59 1377.04,231.59 1377.04,247.242 1392.98,247.242 1392.98,265.604 1408.92,265.604 1408.92,286.508 1424.86,286.508 1424.86,309.761 1440.8,309.761 \\n  1440.8,335.147 1456.74,335.147 1456.74,362.431 1472.68,362.431 1472.68,391.363 1488.62,391.363 1488.62,421.675 1504.55,421.675 1504.55,453.087 1520.49,453.087 \\n  1520.49,485.308 1536.43,485.308 1536.43,518.042 1552.37,518.042 1552.37,550.985 1568.31,550.985 1568.31,583.834 1584.25,583.834 1584.25,616.285 1600.19,616.285 \\n  1600.19,648.038 1616.13,648.038 1616.13,678.8 1632.07,678.8 1632.07,708.287 1648,708.287 1648,736.226 1663.94,736.226 1663.94,762.359 1679.88,762.359 \\n  1679.88,786.445 1695.82,786.445 1695.82,808.262 1711.76,808.262 1711.76,827.607 1727.7,827.607 1727.7,844.302 1743.64,844.302 1743.64,858.193 1759.58,858.193 \\n  1759.58,869.151 1775.52,869.151 1775.52,877.076 1791.45,877.076 1791.45,881.893 1807.39,881.893 1807.39,883.558 1823.33,883.558 1823.33,882.056 1839.27,882.056 \\n  1839.27,877.4 1855.21,877.4 1855.21,869.634 1871.15,869.634 1871.15,858.829 1887.09,858.829 1887.09,845.085 1903.03,845.085 1903.03,828.529 \\n  \\\"\\/>\\n<polyline clip-path=\\\"url(#clip892)\\\" style=\\\"stroke:#3da44d; stroke-width:12; stroke-opacity:1; fill:none\\\" points=\\\"\\n  245.383,198.149 261.322,199.732 277.261,204.464 293.2,212.302 309.138,223.173 325.077,236.978 341.016,253.589 356.955,272.852 372.894,294.589 388.833,318.6 \\n  404.772,344.662 420.711,372.535 436.65,401.962 452.588,432.67 468.527,464.375 484.466,496.786 500.405,529.602 516.344,562.521 532.283,595.237 548.222,627.45 \\n  564.161,658.861 580.099,689.18 596.038,718.127 611.977,745.435 627.916,770.851 643.855,794.141 659.794,815.089 675.733,833.501 691.672,849.209 707.611,862.066 \\n  723.549,871.954 739.488,878.782 755.427,882.486 771.366,883.032 787.305,880.416 803.244,874.66 819.183,865.82 835.122,853.975 851.06,839.236 866.999,821.739 \\n  882.938,801.645 898.877,779.14 914.816,754.433 930.755,727.75 946.694,699.339 962.633,669.463 978.572,638.396 994.51,606.427 1010.45,573.85 1026.39,540.967 \\n  1042.33,508.081 1058.27,475.497 1074.2,443.514 1090.14,412.429 1106.08,382.529 1122.02,354.09 1137.96,327.374 1153.9,302.63 1169.84,280.084 1185.78,259.946 \\n  1201.72,242.401 1217.65,227.612 1233.59,215.716 1249.53,206.821 1265.47,201.01 1281.41,198.338 1297.35,198.828 1313.29,202.477 1329.23,209.249 1345.17,219.084 \\n  1361.1,231.89 1377.04,247.548 1392.98,265.915 1408.92,286.819 1424.86,310.069 1440.8,335.45 1456.74,362.726 1472.68,391.647 1488.62,421.944 1504.55,453.338 \\n  1520.49,485.539 1536.43,518.249 1552.37,551.167 1568.31,583.988 1584.25,616.408 1600.19,648.129 1616.13,678.857 1632.07,708.309 1648,736.211 1663.94,762.308 \\n  1679.88,786.357 1695.82,808.136 1711.76,827.444 1727.7,844.103 1743.64,857.959 1759.58,868.884 1775.52,876.776 1791.45,881.563 1807.39,883.202 1823.33,881.675 \\n  1839.27,876.999 1855.21,869.215 1871.15,858.396 1887.09,844.642 1903.03,828.08 \\n  \\\"\\/>\\n<path clip-path=\\\"url(#clip890)\\\" d=\\\"\\nM2195.65 1109.46 L3698.95 1109.46 L3698.95 47.2441 L2195.65 47.2441  Z\\n  \\\" fill=\\\"#ffffff\\\" fill-rule=\\\"evenodd\\\" fill-opacity=\\\"1\\\"\\/>\\n<defs>\\n  <clipPath id=\\\"clip893\\\">\\n    <rect x=\\\"2195\\\" y=\\\"47\\\" width=\\\"1504\\\" height=\\\"1063\\\"\\/>\\n  <\\/clipPath>\\n<\\/defs>\\n<polyline clip-path=\\\"url(#clip893)\\\" style=\\\"stroke:#000000; stroke-width:2; stroke-opacity:0.1; fill:none\\\" points=\\\"\\n  2238.2,1109.46 2238.2,47.2441 \\n  \\\"\\/>\\n<polyline clip-path=\\\"url(#clip893)\\\" style=\\\"stroke:#000000; stroke-width:2; stroke-opacity:0.1; fill:none\\\" points=\\\"\\n  2592.75,1109.46 2592.75,47.2441 \\n  \\\"\\/>\\n<polyline clip-path=\\\"url(#clip893)\\\" style=\\\"stroke:#000000; stroke-width:2; stroke-opacity:0.1; fill:none\\\" points=\\\"\\n  2947.3,1109.46 2947.3,47.2441 \\n  \\\"\\/>\\n<polyline clip-path=\\\"url(#clip893)\\\" style=\\\"stroke:#000000; stroke-width:2; stroke-opacity:0.1; fill:none\\\" points=\\\"\\n  3301.85,1109.46 3301.85,47.2441 \\n  \\\"\\/>\\n<polyline clip-path=\\\"url(#clip893)\\\" style=\\\"stroke:#000000; stroke-width:2; stroke-opacity:0.1; fill:none\\\" points=\\\"\\n  3656.41,1109.46 3656.41,47.2441 \\n  \\\"\\/>\\n<polyline clip-path=\\\"url(#clip890)\\\" style=\\\"stroke:#000000; stroke-width:4; stroke-opacity:1; fill:none\\\" points=\\\"\\n  2195.65,1109.46 3698.95,1109.46 \\n  \\\"\\/>\\n<polyline clip-path=\\\"url(#clip890)\\\" style=\\\"stroke:#000000; stroke-width:4; stroke-opacity:1; fill:none\\\" points=\\\"\\n  2238.2,1109.46 2238.2,1096.71 \\n  \\\"\\/>\\n<polyline clip-path=\\\"url(#clip890)\\\" style=\\\"stroke:#000000; stroke-width:4; stroke-opacity:1; fill:none\\\" points=\\\"\\n  2592.75,1109.46 2592.75,1096.71 \\n  \\\"\\/>\\n<polyline clip-path=\\\"url(#clip890)\\\" style=\\\"stroke:#000000; stroke-width:4; stroke-opacity:1; fill:none\\\" points=\\\"\\n  2947.3,1109.46 2947.3,1096.71 \\n  \\\"\\/>\\n<polyline clip-path=\\\"url(#clip890)\\\" style=\\\"stroke:#000000; stroke-width:4; stroke-opacity:1; fill:none\\\" points=\\\"\\n  3301.85,1109.46 3301.85,1096.71 \\n  \\\"\\/>\\n<polyline clip-path=\\\"url(#clip890)\\\" style=\\\"stroke:#000000; stroke-width:4; stroke-opacity:1; fill:none\\\" points=\\\"\\n  3656.41,1109.46 3656.41,1096.71 \\n  \\\"\\/>\\n<path clip-path=\\\"url(#clip890)\\\" d=\\\"M 0 0 M2219.72 1151.45 Q2216.11 1151.45 2214.28 1155.01 Q2212.47 1158.55 2212.47 1165.68 Q2212.47 1172.79 2214.28 1176.35 Q2216.11 1179.9 2219.72 1179.9 Q2223.35 1179.9 2225.16 1176.35 Q2226.98 1172.79 2226.98 1165.68 Q2226.98 1158.55 2225.16 1155.01 Q2223.35 1151.45 2219.72 1151.45 M2219.72 1147.74 Q2225.53 1147.74 2228.58 1152.35 Q2231.66 1156.93 2231.66 1165.68 Q2231.66 1174.41 2228.58 1179.02 Q2225.53 1183.6 2219.72 1183.6 Q2213.91 1183.6 2210.83 1179.02 Q2207.77 1174.41 2207.77 1165.68 Q2207.77 1156.93 2210.83 1152.35 Q2213.91 1147.74 2219.72 1147.74 Z\\\" fill=\\\"#000000\\\" fill-rule=\\\"evenodd\\\" fill-opacity=\\\"1\\\" \\/><path clip-path=\\\"url(#clip890)\\\" d=\\\"M 0 0 M2236.73 1177.05 L2241.61 1177.05 L2241.61 1182.93 L2236.73 1182.93 L2236.73 1177.05 Z\\\" fill=\\\"#000000\\\" fill-rule=\\\"evenodd\\\" fill-opacity=\\\"1\\\" \\/><path clip-path=\\\"url(#clip890)\\\" d=\\\"M 0 0 M2256.68 1151.45 Q2253.07 1151.45 2251.24 1155.01 Q2249.44 1158.55 2249.44 1165.68 Q2249.44 1172.79 2251.24 1176.35 Q2253.07 1179.9 2256.68 1179.9 Q2260.32 1179.9 2262.12 1176.35 Q2263.95 1172.79 2263.95 1165.68 Q2263.95 1158.55 2262.12 1155.01 Q2260.32 1151.45 2256.68 1151.45 M2256.68 1147.74 Q2262.49 1147.74 2265.55 1152.35 Q2268.63 1156.93 2268.63 1165.68 Q2268.63 1174.41 2265.55 1179.02 Q2262.49 1183.6 2256.68 1183.6 Q2250.87 1183.6 2247.79 1179.02 Q2244.74 1174.41 2244.74 1165.68 Q2244.74 1156.93 2247.79 1152.35 Q2250.87 1147.74 2256.68 1147.74 Z\\\" fill=\\\"#000000\\\" fill-rule=\\\"evenodd\\\" fill-opacity=\\\"1\\\" \\/><path clip-path=\\\"url(#clip890)\\\" d=\\\"M 0 0 M2569.42 1178.99 L2585.74 1178.99 L2585.74 1182.93 L2563.79 1182.93 L2563.79 1178.99 Q2566.46 1176.24 2571.04 1171.61 Q2575.65 1166.96 2576.83 1165.61 Q2579.07 1163.09 2579.95 1161.35 Q2580.85 1159.59 2580.85 1157.9 Q2580.85 1155.15 2578.91 1153.41 Q2576.99 1151.68 2573.89 1151.68 Q2571.69 1151.68 2569.23 1152.44 Q2566.8 1153.21 2564.02 1154.76 L2564.02 1150.03 Q2566.85 1148.9 2569.3 1148.32 Q2571.76 1147.74 2573.79 1147.74 Q2579.16 1147.74 2582.36 1150.43 Q2585.55 1153.11 2585.55 1157.6 Q2585.55 1159.73 2584.74 1161.65 Q2583.96 1163.55 2581.85 1166.15 Q2581.27 1166.82 2578.17 1170.03 Q2575.07 1173.23 2569.42 1178.99 Z\\\" fill=\\\"#000000\\\" fill-rule=\\\"evenodd\\\" fill-opacity=\\\"1\\\" \\/><path clip-path=\\\"url(#clip890)\\\" d=\\\"M 0 0 M2590.81 1177.05 L2595.69 1177.05 L2595.69 1182.93 L2590.81 1182.93 L2590.81 1177.05 Z\\\" fill=\\\"#000000\\\" fill-rule=\\\"evenodd\\\" fill-opacity=\\\"1\\\" \\/><path clip-path=\\\"url(#clip890)\\\" d=\\\"M 0 0 M2600.81 1148.37 L2619.16 1148.37 L2619.16 1152.3 L2605.09 1152.3 L2605.09 1160.78 Q2606.11 1160.43 2607.13 1160.27 Q2608.14 1160.08 2609.16 1160.08 Q2614.95 1160.08 2618.33 1163.25 Q2621.71 1166.42 2621.71 1171.84 Q2621.71 1177.42 2618.24 1180.52 Q2614.77 1183.6 2608.45 1183.6 Q2606.27 1183.6 2604 1183.23 Q2601.76 1182.86 2599.35 1182.12 L2599.35 1177.42 Q2601.43 1178.55 2603.65 1179.11 Q2605.88 1179.66 2608.35 1179.66 Q2612.36 1179.66 2614.7 1177.56 Q2617.03 1175.45 2617.03 1171.84 Q2617.03 1168.23 2614.7 1166.12 Q2612.36 1164.02 2608.35 1164.02 Q2606.48 1164.02 2604.6 1164.43 Q2602.75 1164.85 2600.81 1165.73 L2600.81 1148.37 Z\\\" fill=\\\"#000000\\\" fill-rule=\\\"evenodd\\\" fill-opacity=\\\"1\\\" \\/><path clip-path=\\\"url(#clip890)\\\" d=\\\"M 0 0 M2919.1 1148.37 L2937.45 1148.37 L2937.45 1152.3 L2923.38 1152.3 L2923.38 1160.78 Q2924.4 1160.43 2925.42 1160.27 Q2926.44 1160.08 2927.45 1160.08 Q2933.24 1160.08 2936.62 1163.25 Q2940 1166.42 2940 1171.84 Q2940 1177.42 2936.53 1180.52 Q2933.06 1183.6 2926.74 1183.6 Q2924.56 1183.6 2922.29 1183.23 Q2920.05 1182.86 2917.64 1182.12 L2917.64 1177.42 Q2919.72 1178.55 2921.94 1179.11 Q2924.17 1179.66 2926.64 1179.66 Q2930.65 1179.66 2932.99 1177.56 Q2935.32 1175.45 2935.32 1171.84 Q2935.32 1168.23 2932.99 1166.12 Q2930.65 1164.02 2926.64 1164.02 Q2924.77 1164.02 2922.89 1164.43 Q2921.04 1164.85 2919.1 1165.73 L2919.1 1148.37 Z\\\" fill=\\\"#000000\\\" fill-rule=\\\"evenodd\\\" fill-opacity=\\\"1\\\" \\/><path clip-path=\\\"url(#clip890)\\\" d=\\\"M 0 0 M2945.07 1177.05 L2949.95 1177.05 L2949.95 1182.93 L2945.07 1182.93 L2945.07 1177.05 Z\\\" fill=\\\"#000000\\\" fill-rule=\\\"evenodd\\\" fill-opacity=\\\"1\\\" \\/><path clip-path=\\\"url(#clip890)\\\" d=\\\"M 0 0 M2965.02 1151.45 Q2961.41 1151.45 2959.58 1155.01 Q2957.78 1158.55 2957.78 1165.68 Q2957.78 1172.79 2959.58 1176.35 Q2961.41 1179.9 2965.02 1179.9 Q2968.66 1179.9 2970.46 1176.35 Q2972.29 1172.79 2972.29 1165.68 Q2972.29 1158.55 2970.46 1155.01 Q2968.66 1151.45 2965.02 1151.45 M2965.02 1147.74 Q2970.83 1147.74 2973.89 1152.35 Q2976.97 1156.93 2976.97 1165.68 Q2976.97 1174.41 2973.89 1179.02 Q2970.83 1183.6 2965.02 1183.6 Q2959.21 1183.6 2956.13 1179.02 Q2953.08 1174.41 2953.08 1165.68 Q2953.08 1156.93 2956.13 1152.35 Q2959.21 1147.74 2965.02 1147.74 Z\\\" fill=\\\"#000000\\\" fill-rule=\\\"evenodd\\\" fill-opacity=\\\"1\\\" \\/><path clip-path=\\\"url(#clip890)\\\" d=\\\"M 0 0 M3272.76 1148.37 L3294.98 1148.37 L3294.98 1150.36 L3282.43 1182.93 L3277.55 1182.93 L3289.35 1152.3 L3272.76 1152.3 L3272.76 1148.37 Z\\\" fill=\\\"#000000\\\" fill-rule=\\\"evenodd\\\" fill-opacity=\\\"1\\\" \\/><path clip-path=\\\"url(#clip890)\\\" d=\\\"M 0 0 M3300.05 1177.05 L3304.93 1177.05 L3304.93 1182.93 L3300.05 1182.93 L3300.05 1177.05 Z\\\" fill=\\\"#000000\\\" fill-rule=\\\"evenodd\\\" fill-opacity=\\\"1\\\" \\/><path clip-path=\\\"url(#clip890)\\\" d=\\\"M 0 0 M3310.05 1148.37 L3328.41 1148.37 L3328.41 1152.3 L3314.33 1152.3 L3314.33 1160.78 Q3315.35 1160.43 3316.37 1160.27 Q3317.39 1160.08 3318.41 1160.08 Q3324.19 1160.08 3327.57 1163.25 Q3330.95 1166.42 3330.95 1171.84 Q3330.95 1177.42 3327.48 1180.52 Q3324.01 1183.6 3317.69 1183.6 Q3315.51 1183.6 3313.24 1183.23 Q3311 1182.86 3308.59 1182.12 L3308.59 1177.42 Q3310.67 1178.55 3312.9 1179.11 Q3315.12 1179.66 3317.6 1179.66 Q3321.6 1179.66 3323.94 1177.56 Q3326.28 1175.45 3326.28 1171.84 Q3326.28 1168.23 3323.94 1166.12 Q3321.6 1164.02 3317.6 1164.02 Q3315.72 1164.02 3313.85 1164.43 Q3311.99 1164.85 3310.05 1165.73 L3310.05 1148.37 Z\\\" fill=\\\"#000000\\\" fill-rule=\\\"evenodd\\\" fill-opacity=\\\"1\\\" \\/><path clip-path=\\\"url(#clip890)\\\" d=\\\"M 0 0 M3614.8 1178.99 L3622.44 1178.99 L3622.44 1152.63 L3614.13 1154.29 L3614.13 1150.03 L3622.39 1148.37 L3627.07 1148.37 L3627.07 1178.99 L3634.7 1178.99 L3634.7 1182.93 L3614.8 1182.93 L3614.8 1178.99 Z\\\" fill=\\\"#000000\\\" fill-rule=\\\"evenodd\\\" fill-opacity=\\\"1\\\" \\/><path clip-path=\\\"url(#clip890)\\\" d=\\\"M 0 0 M3649.77 1151.45 Q3646.16 1151.45 3644.33 1155.01 Q3642.53 1158.55 3642.53 1165.68 Q3642.53 1172.79 3644.33 1176.35 Q3646.16 1179.9 3649.77 1179.9 Q3653.41 1179.9 3655.21 1176.35 Q3657.04 1172.79 3657.04 1165.68 Q3657.04 1158.55 3655.21 1155.01 Q3653.41 1151.45 3649.77 1151.45 M3649.77 1147.74 Q3655.58 1147.74 3658.64 1152.35 Q3661.72 1156.93 3661.72 1165.68 Q3661.72 1174.41 3658.64 1179.02 Q3655.58 1183.6 3649.77 1183.6 Q3643.96 1183.6 3640.89 1179.02 Q3637.83 1174.41 3637.83 1165.68 Q3637.83 1156.93 3640.89 1152.35 Q3643.96 1147.74 3649.77 1147.74 Z\\\" fill=\\\"#000000\\\" fill-rule=\\\"evenodd\\\" fill-opacity=\\\"1\\\" \\/><path clip-path=\\\"url(#clip890)\\\" d=\\\"M 0 0 M3666.79 1177.05 L3671.67 1177.05 L3671.67 1182.93 L3666.79 1182.93 L3666.79 1177.05 Z\\\" fill=\\\"#000000\\\" fill-rule=\\\"evenodd\\\" fill-opacity=\\\"1\\\" \\/><path clip-path=\\\"url(#clip890)\\\" d=\\\"M 0 0 M3686.74 1151.45 Q3683.13 1151.45 3681.3 1155.01 Q3679.5 1158.55 3679.5 1165.68 Q3679.5 1172.79 3681.3 1176.35 Q3683.13 1179.9 3686.74 1179.9 Q3690.38 1179.9 3692.18 1176.35 Q3694.01 1172.79 3694.01 1165.68 Q3694.01 1158.55 3692.18 1155.01 Q3690.38 1151.45 3686.74 1151.45 M3686.74 1147.74 Q3692.55 1147.74 3695.61 1152.35 Q3698.69 1156.93 3698.69 1165.68 Q3698.69 1174.41 3695.61 1179.02 Q3692.55 1183.6 3686.74 1183.6 Q3680.93 1183.6 3677.85 1179.02 Q3674.8 1174.41 3674.8 1165.68 Q3674.8 1156.93 3677.85 1152.35 Q3680.93 1147.74 3686.74 1147.74 Z\\\" fill=\\\"#000000\\\" fill-rule=\\\"evenodd\\\" fill-opacity=\\\"1\\\" \\/><polyline clip-path=\\\"url(#clip893)\\\" style=\\\"stroke:#000000; stroke-width:2; stroke-opacity:0.1; fill:none\\\" points=\\\"\\n  2195.65,1095.12 3698.95,1095.12 \\n  \\\"\\/>\\n<polyline clip-path=\\\"url(#clip893)\\\" style=\\\"stroke:#000000; stroke-width:2; stroke-opacity:0.1; fill:none\\\" points=\\\"\\n  2195.65,910.359 3698.95,910.359 \\n  \\\"\\/>\\n<polyline clip-path=\\\"url(#clip893)\\\" style=\\\"stroke:#000000; stroke-width:2; stroke-opacity:0.1; fill:none\\\" points=\\\"\\n  2195.65,725.6 3698.95,725.6 \\n  \\\"\\/>\\n<polyline clip-path=\\\"url(#clip893)\\\" style=\\\"stroke:#000000; stroke-width:2; stroke-opacity:0.1; fill:none\\\" points=\\\"\\n  2195.65,540.841 3698.95,540.841 \\n  \\\"\\/>\\n<polyline clip-path=\\\"url(#clip893)\\\" style=\\\"stroke:#000000; stroke-width:2; stroke-opacity:0.1; fill:none\\\" points=\\\"\\n  2195.65,356.082 3698.95,356.082 \\n  \\\"\\/>\\n<polyline clip-path=\\\"url(#clip893)\\\" style=\\\"stroke:#000000; stroke-width:2; stroke-opacity:0.1; fill:none\\\" points=\\\"\\n  2195.65,171.323 3698.95,171.323 \\n  \\\"\\/>\\n<polyline clip-path=\\\"url(#clip890)\\\" style=\\\"stroke:#000000; stroke-width:4; stroke-opacity:1; fill:none\\\" points=\\\"\\n  2195.65,1109.46 2195.65,47.2441 \\n  \\\"\\/>\\n<polyline clip-path=\\\"url(#clip890)\\\" style=\\\"stroke:#000000; stroke-width:4; stroke-opacity:1; fill:none\\\" points=\\\"\\n  2195.65,1095.12 2213.69,1095.12 \\n  \\\"\\/>\\n<polyline clip-path=\\\"url(#clip890)\\\" style=\\\"stroke:#000000; stroke-width:4; stroke-opacity:1; fill:none\\\" points=\\\"\\n  2195.65,910.359 2213.69,910.359 \\n  \\\"\\/>\\n<polyline clip-path=\\\"url(#clip890)\\\" style=\\\"stroke:#000000; stroke-width:4; stroke-opacity:1; fill:none\\\" points=\\\"\\n  2195.65,725.6 2213.69,725.6 \\n  \\\"\\/>\\n<polyline clip-path=\\\"url(#clip890)\\\" style=\\\"stroke:#000000; stroke-width:4; stroke-opacity:1; fill:none\\\" points=\\\"\\n  2195.65,540.841 2213.69,540.841 \\n  \\\"\\/>\\n<polyline clip-path=\\\"url(#clip890)\\\" style=\\\"stroke:#000000; stroke-width:4; stroke-opacity:1; fill:none\\\" points=\\\"\\n  2195.65,356.082 2213.69,356.082 \\n  \\\"\\/>\\n<polyline clip-path=\\\"url(#clip890)\\\" style=\\\"stroke:#000000; stroke-width:4; stroke-opacity:1; fill:none\\\" points=\\\"\\n  2195.65,171.323 2213.69,171.323 \\n  \\\"\\/>\\n<path clip-path=\\\"url(#clip890)\\\" d=\\\"M 0 0 M2044.22 1095.57 L2073.89 1095.57 L2073.89 1099.5 L2044.22 1099.5 L2044.22 1095.57 Z\\\" fill=\\\"#000000\\\" fill-rule=\\\"evenodd\\\" fill-opacity=\\\"1\\\" \\/><path clip-path=\\\"url(#clip890)\\\" d=\\\"M 0 0 M2079.77 1108.46 L2087.41 1108.46 L2087.41 1082.1 L2079.1 1083.76 L2079.1 1079.5 L2087.37 1077.84 L2092.04 1077.84 L2092.04 1108.46 L2099.68 1108.46 L2099.68 1112.4 L2079.77 1112.4 L2079.77 1108.46 Z\\\" fill=\\\"#000000\\\" fill-rule=\\\"evenodd\\\" fill-opacity=\\\"1\\\" \\/><path clip-path=\\\"url(#clip890)\\\" d=\\\"M 0 0 M2104.75 1106.52 L2109.64 1106.52 L2109.64 1112.4 L2104.75 1112.4 L2104.75 1106.52 Z\\\" fill=\\\"#000000\\\" fill-rule=\\\"evenodd\\\" fill-opacity=\\\"1\\\" \\/><path clip-path=\\\"url(#clip890)\\\" d=\\\"M 0 0 M2114.75 1077.84 L2133.11 1077.84 L2133.11 1081.77 L2119.03 1081.77 L2119.03 1090.24 Q2120.05 1089.9 2121.07 1089.74 Q2122.09 1089.55 2123.11 1089.55 Q2128.89 1089.55 2132.27 1092.72 Q2135.65 1095.89 2135.65 1101.31 Q2135.65 1106.89 2132.18 1109.99 Q2128.71 1113.07 2122.39 1113.07 Q2120.21 1113.07 2117.95 1112.7 Q2115.7 1112.33 2113.29 1111.59 L2113.29 1106.89 Q2115.38 1108.02 2117.6 1108.58 Q2119.82 1109.13 2122.3 1109.13 Q2126.3 1109.13 2128.64 1107.03 Q2130.98 1104.92 2130.98 1101.31 Q2130.98 1097.7 2128.64 1095.59 Q2126.3 1093.49 2122.3 1093.49 Q2120.42 1093.49 2118.55 1093.9 Q2116.7 1094.32 2114.75 1095.2 L2114.75 1077.84 Z\\\" fill=\\\"#000000\\\" fill-rule=\\\"evenodd\\\" fill-opacity=\\\"1\\\" \\/><path clip-path=\\\"url(#clip890)\\\" d=\\\"M 0 0 M2043.22 910.81 L2072.9 910.81 L2072.9 914.745 L2043.22 914.745 L2043.22 910.81 Z\\\" fill=\\\"#000000\\\" fill-rule=\\\"evenodd\\\" fill-opacity=\\\"1\\\" \\/><path clip-path=\\\"url(#clip890)\\\" d=\\\"M 0 0 M2078.78 923.703 L2086.42 923.703 L2086.42 897.338 L2078.11 899.005 L2078.11 894.745 L2086.37 893.079 L2091.05 893.079 L2091.05 923.703 L2098.69 923.703 L2098.69 927.639 L2078.78 927.639 L2078.78 923.703 Z\\\" fill=\\\"#000000\\\" fill-rule=\\\"evenodd\\\" fill-opacity=\\\"1\\\" \\/><path clip-path=\\\"url(#clip890)\\\" d=\\\"M 0 0 M2103.76 921.759 L2108.64 921.759 L2108.64 927.639 L2103.76 927.639 L2103.76 921.759 Z\\\" fill=\\\"#000000\\\" fill-rule=\\\"evenodd\\\" fill-opacity=\\\"1\\\" \\/><path clip-path=\\\"url(#clip890)\\\" d=\\\"M 0 0 M2123.71 896.157 Q2120.1 896.157 2118.27 899.722 Q2116.46 903.264 2116.46 910.393 Q2116.46 917.5 2118.27 921.065 Q2120.1 924.606 2123.71 924.606 Q2127.34 924.606 2129.15 921.065 Q2130.98 917.5 2130.98 910.393 Q2130.98 903.264 2129.15 899.722 Q2127.34 896.157 2123.71 896.157 M2123.71 892.454 Q2129.52 892.454 2132.57 897.06 Q2135.65 901.643 2135.65 910.393 Q2135.65 919.12 2132.57 923.727 Q2129.52 928.31 2123.71 928.31 Q2117.9 928.31 2114.82 923.727 Q2111.76 919.12 2111.76 910.393 Q2111.76 901.643 2114.82 897.06 Q2117.9 892.454 2123.71 892.454 Z\\\" fill=\\\"#000000\\\" fill-rule=\\\"evenodd\\\" fill-opacity=\\\"1\\\" \\/><path clip-path=\\\"url(#clip890)\\\" d=\\\"M 0 0 M2042.99 726.051 L2072.67 726.051 L2072.67 729.986 L2042.99 729.986 L2042.99 726.051 Z\\\" fill=\\\"#000000\\\" fill-rule=\\\"evenodd\\\" fill-opacity=\\\"1\\\" \\/><path clip-path=\\\"url(#clip890)\\\" d=\\\"M 0 0 M2087.74 711.398 Q2084.13 711.398 2082.3 714.963 Q2080.49 718.505 2080.49 725.635 Q2080.49 732.741 2082.3 736.306 Q2084.13 739.847 2087.74 739.847 Q2091.37 739.847 2093.18 736.306 Q2095.01 732.741 2095.01 725.635 Q2095.01 718.505 2093.18 714.963 Q2091.37 711.398 2087.74 711.398 M2087.74 707.695 Q2093.55 707.695 2096.6 712.301 Q2099.68 716.885 2099.68 725.635 Q2099.68 734.361 2096.6 738.968 Q2093.55 743.551 2087.74 743.551 Q2081.93 743.551 2078.85 738.968 Q2075.79 734.361 2075.79 725.635 Q2075.79 716.885 2078.85 712.301 Q2081.93 707.695 2087.74 707.695 Z\\\" fill=\\\"#000000\\\" fill-rule=\\\"evenodd\\\" fill-opacity=\\\"1\\\" \\/><path clip-path=\\\"url(#clip890)\\\" d=\\\"M 0 0 M2104.75 737 L2109.64 737 L2109.64 742.88 L2104.75 742.88 L2104.75 737 Z\\\" fill=\\\"#000000\\\" fill-rule=\\\"evenodd\\\" fill-opacity=\\\"1\\\" \\/><path clip-path=\\\"url(#clip890)\\\" d=\\\"M 0 0 M2114.75 708.32 L2133.11 708.32 L2133.11 712.255 L2119.03 712.255 L2119.03 720.727 Q2120.05 720.38 2121.07 720.218 Q2122.09 720.033 2123.11 720.033 Q2128.89 720.033 2132.27 723.204 Q2135.65 726.375 2135.65 731.792 Q2135.65 737.371 2132.18 740.472 Q2128.71 743.551 2122.39 743.551 Q2120.21 743.551 2117.95 743.181 Q2115.7 742.81 2113.29 742.07 L2113.29 737.371 Q2115.38 738.505 2117.6 739.06 Q2119.82 739.616 2122.3 739.616 Q2126.3 739.616 2128.64 737.509 Q2130.98 735.403 2130.98 731.792 Q2130.98 728.181 2128.64 726.074 Q2126.3 723.968 2122.3 723.968 Q2120.42 723.968 2118.55 724.385 Q2116.7 724.801 2114.75 725.681 L2114.75 708.32 Z\\\" fill=\\\"#000000\\\" fill-rule=\\\"evenodd\\\" fill-opacity=\\\"1\\\" \\/><path clip-path=\\\"url(#clip890)\\\" d=\\\"M 0 0 M2086.74 526.64 Q2083.13 526.64 2081.3 530.204 Q2079.5 533.746 2079.5 540.876 Q2079.5 547.982 2081.3 551.547 Q2083.13 555.089 2086.74 555.089 Q2090.38 555.089 2092.18 551.547 Q2094.01 547.982 2094.01 540.876 Q2094.01 533.746 2092.18 530.204 Q2090.38 526.64 2086.74 526.64 M2086.74 522.936 Q2092.55 522.936 2095.61 527.542 Q2098.69 532.126 2098.69 540.876 Q2098.69 549.602 2095.61 554.209 Q2092.55 558.792 2086.74 558.792 Q2080.93 558.792 2077.85 554.209 Q2074.8 549.602 2074.8 540.876 Q2074.8 532.126 2077.85 527.542 Q2080.93 522.936 2086.74 522.936 Z\\\" fill=\\\"#000000\\\" fill-rule=\\\"evenodd\\\" fill-opacity=\\\"1\\\" \\/><path clip-path=\\\"url(#clip890)\\\" d=\\\"M 0 0 M2103.76 552.241 L2108.64 552.241 L2108.64 558.121 L2103.76 558.121 L2103.76 552.241 Z\\\" fill=\\\"#000000\\\" fill-rule=\\\"evenodd\\\" fill-opacity=\\\"1\\\" \\/><path clip-path=\\\"url(#clip890)\\\" d=\\\"M 0 0 M2123.71 526.64 Q2120.1 526.64 2118.27 530.204 Q2116.46 533.746 2116.46 540.876 Q2116.46 547.982 2118.27 551.547 Q2120.1 555.089 2123.71 555.089 Q2127.34 555.089 2129.15 551.547 Q2130.98 547.982 2130.98 540.876 Q2130.98 533.746 2129.15 530.204 Q2127.34 526.64 2123.71 526.64 M2123.71 522.936 Q2129.52 522.936 2132.57 527.542 Q2135.65 532.126 2135.65 540.876 Q2135.65 549.602 2132.57 554.209 Q2129.52 558.792 2123.71 558.792 Q2117.9 558.792 2114.82 554.209 Q2111.76 549.602 2111.76 540.876 Q2111.76 532.126 2114.82 527.542 Q2117.9 522.936 2123.71 522.936 Z\\\" fill=\\\"#000000\\\" fill-rule=\\\"evenodd\\\" fill-opacity=\\\"1\\\" \\/><path clip-path=\\\"url(#clip890)\\\" d=\\\"M 0 0 M2087.74 341.881 Q2084.13 341.881 2082.3 345.446 Q2080.49 348.987 2080.49 356.117 Q2080.49 363.223 2082.3 366.788 Q2084.13 370.33 2087.74 370.33 Q2091.37 370.33 2093.18 366.788 Q2095.01 363.223 2095.01 356.117 Q2095.01 348.987 2093.18 345.446 Q2091.37 341.881 2087.74 341.881 M2087.74 338.177 Q2093.55 338.177 2096.6 342.784 Q2099.68 347.367 2099.68 356.117 Q2099.68 364.844 2096.6 369.45 Q2093.55 374.033 2087.74 374.033 Q2081.93 374.033 2078.85 369.45 Q2075.79 364.844 2075.79 356.117 Q2075.79 347.367 2078.85 342.784 Q2081.93 338.177 2087.74 338.177 Z\\\" fill=\\\"#000000\\\" fill-rule=\\\"evenodd\\\" fill-opacity=\\\"1\\\" \\/><path clip-path=\\\"url(#clip890)\\\" d=\\\"M 0 0 M2104.75 367.483 L2109.64 367.483 L2109.64 373.362 L2104.75 373.362 L2104.75 367.483 Z\\\" fill=\\\"#000000\\\" fill-rule=\\\"evenodd\\\" fill-opacity=\\\"1\\\" \\/><path clip-path=\\\"url(#clip890)\\\" d=\\\"M 0 0 M2114.75 338.802 L2133.11 338.802 L2133.11 342.737 L2119.03 342.737 L2119.03 351.209 Q2120.05 350.862 2121.07 350.7 Q2122.09 350.515 2123.11 350.515 Q2128.89 350.515 2132.27 353.686 Q2135.65 356.858 2135.65 362.274 Q2135.65 367.853 2132.18 370.955 Q2128.71 374.033 2122.39 374.033 Q2120.21 374.033 2117.95 373.663 Q2115.7 373.293 2113.29 372.552 L2113.29 367.853 Q2115.38 368.987 2117.6 369.543 Q2119.82 370.098 2122.3 370.098 Q2126.3 370.098 2128.64 367.992 Q2130.98 365.885 2130.98 362.274 Q2130.98 358.663 2128.64 356.557 Q2126.3 354.45 2122.3 354.45 Q2120.42 354.45 2118.55 354.867 Q2116.7 355.284 2114.75 356.163 L2114.75 338.802 Z\\\" fill=\\\"#000000\\\" fill-rule=\\\"evenodd\\\" fill-opacity=\\\"1\\\" \\/><path clip-path=\\\"url(#clip890)\\\" d=\\\"M 0 0 M2078.78 184.668 L2086.42 184.668 L2086.42 158.303 L2078.11 159.969 L2078.11 155.71 L2086.37 154.043 L2091.05 154.043 L2091.05 184.668 L2098.69 184.668 L2098.69 188.603 L2078.78 188.603 L2078.78 184.668 Z\\\" fill=\\\"#000000\\\" fill-rule=\\\"evenodd\\\" fill-opacity=\\\"1\\\" \\/><path clip-path=\\\"url(#clip890)\\\" d=\\\"M 0 0 M2103.76 182.724 L2108.64 182.724 L2108.64 188.603 L2103.76 188.603 L2103.76 182.724 Z\\\" fill=\\\"#000000\\\" fill-rule=\\\"evenodd\\\" fill-opacity=\\\"1\\\" \\/><path clip-path=\\\"url(#clip890)\\\" d=\\\"M 0 0 M2123.71 157.122 Q2120.1 157.122 2118.27 160.687 Q2116.46 164.228 2116.46 171.358 Q2116.46 178.464 2118.27 182.029 Q2120.1 185.571 2123.71 185.571 Q2127.34 185.571 2129.15 182.029 Q2130.98 178.464 2130.98 171.358 Q2130.98 164.228 2129.15 160.687 Q2127.34 157.122 2123.71 157.122 M2123.71 153.418 Q2129.52 153.418 2132.57 158.025 Q2135.65 162.608 2135.65 171.358 Q2135.65 180.085 2132.57 184.691 Q2129.52 189.275 2123.71 189.275 Q2117.9 189.275 2114.82 184.691 Q2111.76 180.085 2111.76 171.358 Q2111.76 162.608 2114.82 158.025 Q2117.9 153.418 2123.71 153.418 Z\\\" fill=\\\"#000000\\\" fill-rule=\\\"evenodd\\\" fill-opacity=\\\"1\\\" \\/><polyline clip-path=\\\"url(#clip893)\\\" style=\\\"stroke:#009af9; stroke-width:8; stroke-opacity:1; fill:none\\\" points=\\\"\\n  2238.2,540.841 2251.84,540.841 2251.84,576.315 2265.47,576.315 2265.47,611.788 2279.11,611.788 2279.11,646.935 2292.75,646.935 2292.75,681.428 2306.38,681.428 \\n  2306.38,714.943 2320.02,714.943 2320.02,747.163 2333.66,747.163 2333.66,777.778 2347.29,777.778 2347.29,806.491 2360.93,806.491 2360.93,833.021 2374.57,833.021 \\n  2374.57,857.103 2388.2,857.103 2388.2,878.492 2401.84,878.492 2401.84,896.966 2415.48,896.966 2415.48,912.328 2429.11,912.328 2429.11,924.409 2442.75,924.409 \\n  2442.75,933.066 2456.39,933.066 2456.39,938.188 2470.02,938.188 2470.02,939.695 2483.66,939.695 2483.66,937.54 2497.3,937.54 2497.3,931.709 2510.93,931.709 \\n  2510.93,922.222 2524.57,922.222 2524.57,909.134 2538.21,909.134 2538.21,892.53 2551.84,892.53 2551.84,872.532 2565.48,872.532 2565.48,849.293 2579.11,849.293 \\n  2579.11,822.997 2592.75,822.997 2592.75,793.858 2606.39,793.858 2606.39,762.119 2620.02,762.119 2620.02,728.049 2633.66,728.049 2633.66,691.939 2647.3,691.939 \\n  2647.3,654.103 2660.93,654.103 2660.93,614.875 2674.57,614.875 2674.57,574.604 2688.21,574.604 2688.21,533.65 2701.84,533.65 2701.84,492.384 2715.48,492.384 \\n  2715.48,451.185 2729.12,451.185 2729.12,410.433 2742.75,410.433 2742.75,370.507 2756.39,370.507 2756.39,331.783 2770.03,331.783 2770.03,294.628 2783.66,294.628 \\n  2783.66,259.401 2797.3,259.401 2797.3,226.442 2810.94,226.442 2810.94,196.077 2824.57,196.077 2824.57,168.61 2838.21,168.61 2838.21,144.32 2851.85,144.32 \\n  2851.85,123.46 2865.48,123.46 2865.48,106.255 2879.12,106.255 2879.12,92.8962 2892.76,92.8962 2892.76,83.5427 2906.39,83.5427 2906.39,78.3175 2920.03,78.3175 \\n  2920.03,77.3067 2933.67,77.3067 2933.67,80.5585 2947.3,80.5585 2947.3,88.0823 2960.94,88.0823 2960.94,99.848 2974.58,99.848 2974.58,115.786 2988.21,115.786 \\n  2988.21,135.789 3001.85,135.789 3001.85,159.709 3015.49,159.709 3015.49,187.362 3029.12,187.362 3029.12,218.527 3042.76,218.527 3042.76,252.95 3056.4,252.95 \\n  3056.4,290.343 3070.03,290.343 3070.03,330.39 3083.67,330.39 3083.67,372.745 3097.31,372.745 3097.31,417.04 3110.94,417.04 3110.94,462.884 3124.58,462.884 \\n  3124.58,509.869 3138.22,509.869 3138.22,557.572 3151.85,557.572 3151.85,605.561 3165.49,605.561 3165.49,653.395 3179.13,653.395 3179.13,700.633 3192.76,700.633 \\n  3192.76,746.834 3206.4,746.834 3206.4,791.562 3220.03,791.562 3220.03,834.392 3233.67,834.392 3233.67,874.911 3247.31,874.911 3247.31,912.725 3260.94,912.725 \\n  3260.94,947.46 3274.58,947.46 3274.58,978.767 3288.22,978.767 3288.22,1006.33 3301.85,1006.33 3301.85,1029.85 3315.49,1029.85 3315.49,1049.09 3329.13,1049.09 \\n  3329.13,1063.81 3342.76,1063.81 3342.76,1073.86 3356.4,1073.86 3356.4,1079.08 3370.04,1079.08 3370.04,1079.39 3383.67,1079.39 3383.67,1074.74 3397.31,1074.74 \\n  3397.31,1065.13 3410.95,1065.13 3410.95,1050.6 3424.58,1050.6 3424.58,1031.24 3438.22,1031.24 3438.22,1007.17 3451.86,1007.17 3451.86,978.591 3465.49,978.591 \\n  3465.49,945.712 3479.13,945.712 3479.13,908.798 3492.77,908.798 3492.77,868.153 3506.4,868.153 3506.4,824.117 3520.04,824.117 3520.04,777.064 3533.68,777.064 \\n  3533.68,727.401 3547.31,727.401 3547.31,675.56 3560.95,675.56 3560.95,622 3574.59,622 3574.59,567.199 3588.22,567.199 3588.22,511.65 3601.86,511.65 \\n  3601.86,455.858 3615.5,455.858 3615.5,400.334 3629.13,400.334 3629.13,345.594 3642.77,345.594 3642.77,292.149 3656.41,292.149 3656.41,240.504 \\n  \\\"\\/>\\n<polyline clip-path=\\\"url(#clip893)\\\" style=\\\"stroke:#e26f46; stroke-width:8; stroke-opacity:1; fill:none\\\" points=\\\"\\n  2238.2,540.841 2251.84,540.841 2251.84,576.315 2265.47,576.315 2265.47,611.461 2279.11,611.461 2279.11,645.957 2292.75,645.957 2292.75,679.482 2306.38,679.482 \\n  2306.38,711.727 2320.02,711.727 2320.02,742.394 2333.66,742.394 2333.66,771.2 2347.29,771.2 2347.29,797.878 2360.93,797.878 2360.93,822.183 2374.57,822.183 \\n  2374.57,843.89 2388.2,843.89 2388.2,862.798 2401.84,862.798 2401.84,878.732 2415.48,878.732 2415.48,891.546 2429.11,891.546 2429.11,901.12 2442.75,901.12 \\n  2442.75,907.366 2456.39,907.366 2456.39,910.227 2470.02,910.227 2470.02,909.676 2483.66,909.676 2483.66,905.717 2497.3,905.717 2497.3,898.389 2510.93,898.389 \\n  2510.93,887.757 2524.57,887.757 2524.57,873.92 2538.21,873.92 2538.21,857.007 2551.84,857.007 2551.84,837.173 2565.48,837.173 2565.48,814.6 2579.11,814.6 \\n  2579.11,789.499 2592.75,789.499 2592.75,762.1 2606.39,762.1 2606.39,732.657 2620.02,732.657 2620.02,701.442 2633.66,701.442 2633.66,668.742 2647.3,668.742 \\n  2647.3,634.86 2660.93,634.86 2660.93,600.109 2674.57,600.109 2674.57,564.809 2688.21,564.809 2688.21,529.288 2701.84,529.288 2701.84,493.872 2715.48,493.872 \\n  2715.48,458.89 2729.12,458.89 2729.12,424.664 2742.75,424.664 2742.75,391.51 2756.39,391.51 2756.39,359.735 2770.03,359.735 2770.03,329.632 2783.66,329.632 \\n  2783.66,301.479 2797.3,301.479 2797.3,275.537 2810.94,275.537 2810.94,252.046 2824.57,252.046 2824.57,231.221 2838.21,231.221 2838.21,213.256 2851.85,213.256 \\n  2851.85,198.316 2865.48,198.316 2865.48,186.54 2879.12,186.54 2879.12,178.037 2892.76,178.037 2892.76,172.885 2906.39,172.885 2906.39,171.131 2920.03,171.131 \\n  2920.03,172.793 2933.67,172.793 2933.67,177.854 2947.3,177.854 2947.3,186.269 2960.94,186.269 2960.94,197.959 2974.58,197.959 2974.58,212.816 2988.21,212.816 \\n  2988.21,230.704 3001.85,230.704 3001.85,251.457 3015.49,251.457 3015.49,274.884 3029.12,274.884 3029.12,300.767 3042.76,300.767 3042.76,328.869 3056.4,328.869 \\n  3056.4,358.93 3070.03,358.93 3070.03,390.671 3083.67,390.671 3083.67,423.801 3097.31,423.801 3097.31,458.012 3110.94,458.012 3110.94,492.989 3124.58,492.989 \\n  3124.58,528.409 3138.22,528.409 3138.22,563.944 3151.85,563.944 3151.85,599.267 3165.49,599.267 3165.49,634.051 3179.13,634.051 3179.13,667.974 3192.76,667.974 \\n  3192.76,700.724 3206.4,700.724 3206.4,731.998 3220.03,731.998 3220.03,761.507 3233.67,761.507 3233.67,788.977 3247.31,788.977 3247.31,814.157 3260.94,814.157 \\n  3260.94,836.812 3274.58,836.812 3274.58,856.734 3288.22,856.734 3288.22,873.738 3301.85,873.738 3301.85,887.668 3315.49,887.668 3315.49,898.394 3329.13,898.394 \\n  3329.13,905.817 3342.76,905.817 3342.76,909.87 3356.4,909.87 3356.4,910.513 3370.04,910.513 3370.04,907.742 3383.67,907.742 3383.67,901.582 3397.31,901.582 \\n  3397.31,892.089 3410.95,892.089 3410.95,879.352 3424.58,879.352 3424.58,863.487 3438.22,863.487 3438.22,844.642 3451.86,844.642 3451.86,822.989 3465.49,822.989 \\n  3465.49,798.731 3479.13,798.731 3479.13,772.089 3492.77,772.089 3492.77,743.311 3506.4,743.311 3506.4,712.662 3520.04,712.662 3520.04,680.425 3533.68,680.425 \\n  3533.68,646.899 3547.31,646.899 3547.31,612.391 3560.95,612.391 3560.95,577.222 3574.59,577.222 3574.59,541.717 3588.22,541.717 3588.22,506.202 3601.86,506.202 \\n  3601.86,471.007 3615.5,471.007 3615.5,436.456 3629.13,436.456 3629.13,402.868 3642.77,402.868 3642.77,370.554 3656.41,370.554 3656.41,339.813 \\n  \\\"\\/>\\n<polyline clip-path=\\\"url(#clip893)\\\" style=\\\"stroke:#3da44d; stroke-width:12; stroke-opacity:1; fill:none\\\" points=\\\"\\n  2238.2,540.841 2251.84,576.317 2265.47,611.465 2279.11,645.96 2292.75,679.485 2306.38,711.729 2320.02,742.393 2333.66,771.196 2347.29,797.871 2360.93,822.171 \\n  2374.57,843.872 2388.2,862.774 2401.84,878.701 2415.48,891.508 2429.11,901.074 2442.75,907.313 2456.39,910.165 2470.02,909.606 2483.66,905.64 2497.3,898.304 \\n  2510.93,887.666 2524.57,873.823 2538.21,856.904 2551.84,837.066 2565.48,814.49 2579.11,789.387 2592.75,761.987 2606.39,732.544 2620.02,701.33 2633.66,668.634 \\n  2647.3,634.757 2660.93,600.012 2674.57,564.721 2688.21,529.209 2701.84,493.804 2715.48,458.834 2729.12,424.622 2742.75,391.483 2756.39,359.725 2770.03,329.639 \\n  2783.66,301.505 2797.3,275.581 2810.94,252.108 2824.57,231.303 2838.21,213.358 2851.85,198.437 2865.48,186.68 2879.12,178.195 2892.76,173.061 2906.39,171.323 \\n  2920.03,173 2933.67,178.075 2947.3,186.502 2960.94,198.201 2974.58,213.067 2988.21,230.96 3001.85,251.717 3015.49,275.144 3029.12,301.026 3042.76,329.124 \\n  3056.4,359.177 3070.03,390.909 3083.67,424.026 3097.31,458.222 3110.94,493.181 3124.58,528.581 3138.22,564.094 3151.85,599.392 3165.49,634.149 3179.13,668.044 \\n  3192.76,700.764 3206.4,732.007 3220.03,761.483 3233.67,788.921 3247.31,814.067 3260.94,836.689 3274.58,856.578 3288.22,873.55 3301.85,887.449 3315.49,898.145 \\n  3329.13,905.54 3342.76,909.566 3356.4,910.185 3370.04,907.393 3383.67,901.214 3397.31,891.705 3410.95,878.955 3424.58,863.082 3438.22,844.232 3451.86,822.578 \\n  3465.49,798.322 3479.13,771.687 3492.77,742.92 3506.4,712.286 3520.04,680.067 3533.68,646.563 3547.31,612.082 3560.95,576.942 3574.59,541.47 3588.22,505.991 \\n  3601.86,470.834 3615.5,436.324 3629.13,402.78 3642.77,370.511 3656.41,339.816 \\n  \\\"\\/>\\n<\\/svg>\\n\"},\"nodeType\":\"DOM\",\"type\":\"node\",\"instanceArgs\":{\"namespace\":\"html\",\"tag\":\"div\"},\"children\":[]}]}]}}}},\"children\":[{\"props\":{},\"nodeType\":\"ObservableNode\",\"type\":\"node\",\"instanceArgs\":{\"id\":\"15803125395094372072\",\"name\":\"obs-node\"},\"children\":[]}]}]},\n",
       "            window,\n",
       "        );\n",
       "    } else {\n",
       "        document\n",
       "            .querySelector('[data-webio-mountpoint=\"17103478166946584661\"]')\n",
       "            .innerHTML = (\n",
       "                '<div style=\"padding: 1em; background-color: #f8d6da; border: 1px solid #f5c6cb\">' +\n",
       "                '<p><strong>WebIO not detected.</strong></p>' +\n",
       "                '<p>Please read ' +\n",
       "                '<a href=\"https://juliagizmos.github.io/WebIO.jl/latest/troubleshooting/not-detected/\" target=\"_blank\">the troubleshooting guide</a> ' +\n",
       "                'for more information on how to resolve this issue.</p>' +\n",
       "                '<p><a href=\"https://juliagizmos.github.io/WebIO.jl/latest/troubleshooting/not-detected/\" target=\"_blank\">https://juliagizmos.github.io/WebIO.jl/latest/troubleshooting/not-detected/</a></p>' +\n",
       "                '</div>'\n",
       "            );\n",
       "    }\n",
       "    </script>\n",
       "</div>\n"
      ],
      "text/plain": [
       "Node{WebIO.DOM}(WebIO.DOM(:html, :div), Any[Node{WebIO.DOM}(WebIO.DOM(:html, :div), Any[Scope(Node{WebIO.DOM}(WebIO.DOM(:html, :div), Any[Node{WebIO.DOM}(WebIO.DOM(:html, :div), Any[Node{WebIO.DOM}(WebIO.DOM(:html, :label), Any[\"Δt\"], Dict{Symbol,Any}(:className => \"interact \",:style => Dict{Any,Any}(:padding => \"5px 10px 0px 10px\")))], Dict{Symbol,Any}(:className => \"interact-flex-row-left\")), Node{WebIO.DOM}(WebIO.DOM(:html, :div), Any[Node{WebIO.DOM}(WebIO.DOM(:html, :input), Any[], Dict{Symbol,Any}(:max => 40,:min => 1,:attributes => Dict{Any,Any}(:type => \"range\",Symbol(\"data-bind\") => \"numericValue: index, valueUpdate: 'input', event: {change: function (){this.changes(this.changes()+1)}}\",\"orient\" => \"horizontal\"),:step => 1,:labelcolor => :red,:className => \"slider slider is-fullwidth\",:style => Dict{Any,Any}()))], Dict{Symbol,Any}(:className => \"interact-flex-row-center\")), Node{WebIO.DOM}(WebIO.DOM(:html, :div), Any[Node{WebIO.DOM}(WebIO.DOM(:html, :p), Any[], Dict{Symbol,Any}(:attributes => Dict(\"data-bind\" => \"text: formatted_val\")))], Dict{Symbol,Any}(:className => \"interact-flex-row-right\"))], Dict{Symbol,Any}(:className => \"interact-flex-row interact-widget\")), Dict{String,Tuple{Observables.AbstractObservable,Union{Nothing, Bool}}}(\"changes\" => (Observable{Int64} with 1 listeners. Value:\n",
       "0, nothing),\"index\" => (Observable{Any} with 2 listeners. Value:\n",
       "20, nothing)), Set{String}(), nothing, Asset[Asset(\"js\", \"knockout\", \"/home/tusike/.julia/packages/Knockout/IP1uR/src/../assets/knockout.js\"), Asset(\"js\", \"knockout_punches\", \"/home/tusike/.julia/packages/Knockout/IP1uR/src/../assets/knockout_punches.js\"), Asset(\"js\", nothing, \"/home/tusike/.julia/packages/InteractBase/sOe2Z/src/../assets/all.js\"), Asset(\"css\", nothing, \"/home/tusike/.julia/packages/InteractBase/sOe2Z/src/../assets/style.css\"), Asset(\"css\", nothing, \"/home/tusike/.julia/packages/Interact/SbgIk/src/../assets/bulma_confined.min.css\")], Dict{Any,Any}(\"changes\" => Any[WebIO.JSString(\"(function (val){return (val!=this.model[\\\"changes\\\"]()) ? (this.valueFromJulia[\\\"changes\\\"]=true, this.model[\\\"changes\\\"](val)) : undefined})\")],\"index\" => Any[WebIO.JSString(\"(function (val){return (val!=this.model[\\\"index\\\"]()) ? (this.valueFromJulia[\\\"index\\\"]=true, this.model[\\\"index\\\"](val)) : undefined})\")]), WebIO.ConnectionPool(Channel{Any}(sz_max:32,sz_curr:0), Set{AbstractConnection}(), Base.GenericCondition{Base.AlwaysLockedST}(Base.InvasiveLinkedList{Task}(Task (runnable) @0x00007ff2131db340, Task (runnable) @0x00007ff2131db340), Base.AlwaysLockedST(1))), WebIO.JSString[WebIO.JSString(\"function () {\\n    var handler = (function (ko, koPunches) {\\n    ko.punches.enableAll();\\n    ko.bindingHandlers.numericValue = {\\n        init: function(element, valueAccessor, allBindings, data, context) {\\n            var stringified = ko.observable(ko.unwrap(valueAccessor()));\\n            stringified.subscribe(function(value) {\\n                var val = parseFloat(value);\\n                if (!isNaN(val)) {\\n                    valueAccessor()(val);\\n                }\\n            });\\n            valueAccessor().subscribe(function(value) {\\n                var str = JSON.stringify(value);\\n                if ((str == \\\"0\\\") && ([\\\"-0\\\", \\\"-0.\\\"].indexOf(stringified()) >= 0))\\n                     return;\\n                 if ([\\\"null\\\", \\\"\\\"].indexOf(str) >= 0)\\n                     return;\\n                stringified(str);\\n            });\\n            ko.applyBindingsToNode(\\n                element,\\n                {\\n                    value: stringified,\\n                    valueUpdate: allBindings.get('valueUpdate'),\\n                },\\n                context,\\n            );\\n        }\\n    };\\n    var json_data = {\\\"formatted_vals\\\":[\\\"0.001\\\",\\\"0.006\\\",\\\"0.011\\\",\\\"0.016\\\",\\\"0.021\\\",\\\"0.026\\\",\\\"0.031\\\",\\\"0.036\\\",\\\"0.041\\\",\\\"0.046\\\",\\\"0.051\\\",\\\"0.056\\\",\\\"0.061\\\",\\\"0.066\\\",\\\"0.071\\\",\\\"0.076\\\",\\\"0.081\\\",\\\"0.086\\\",\\\"0.091\\\",\\\"0.096\\\",\\\"0.101\\\",\\\"0.106\\\",\\\"0.111\\\",\\\"0.116\\\",\\\"0.121\\\",\\\"0.126\\\",\\\"0.131\\\",\\\"0.136\\\",\\\"0.141\\\",\\\"0.146\\\",\\\"0.151\\\",\\\"0.156\\\",\\\"0.161\\\",\\\"0.166\\\",\\\"0.171\\\",\\\"0.176\\\",\\\"0.181\\\",\\\"0.186\\\",\\\"0.191\\\",\\\"0.196\\\"],\\\"changes\\\":WebIO.getval({\\\"name\\\":\\\"changes\\\",\\\"scope\\\":\\\"12032531470177693052\\\",\\\"id\\\":\\\"11446675683200323044\\\",\\\"type\\\":\\\"observable\\\"}),\\\"index\\\":WebIO.getval({\\\"name\\\":\\\"index\\\",\\\"scope\\\":\\\"12032531470177693052\\\",\\\"id\\\":\\\"9754059361352318001\\\",\\\"type\\\":\\\"observable\\\"})};\\n    var self = this;\\n    function AppViewModel() {\\n        for (var key in json_data) {\\n            var el = json_data[key];\\n            this[key] = Array.isArray(el) ? ko.observableArray(el) : ko.observable(el);\\n        }\\n        \\n        [this[\\\"formatted_val\\\"]=ko.computed(    function(){\\n        return this.formatted_vals()[parseInt(this.index())-(1)];\\n    }\\n,this)]\\n        [this[\\\"changes\\\"].subscribe((function (val){!(this.valueFromJulia[\\\"changes\\\"]) ? (WebIO.setval({\\\"name\\\":\\\"changes\\\",\\\"scope\\\":\\\"12032531470177693052\\\",\\\"id\\\":\\\"11446675683200323044\\\",\\\"type\\\":\\\"observable\\\"},val)) : undefined; return this.valueFromJulia[\\\"changes\\\"]=false}),self),this[\\\"index\\\"].subscribe((function (val){!(this.valueFromJulia[\\\"index\\\"]) ? (WebIO.setval({\\\"name\\\":\\\"index\\\",\\\"scope\\\":\\\"12032531470177693052\\\",\\\"id\\\":\\\"9754059361352318001\\\",\\\"type\\\":\\\"observable\\\"},val)) : undefined; return this.valueFromJulia[\\\"index\\\"]=false}),self)]\\n        \\n    }\\n    self.model = new AppViewModel();\\n    self.valueFromJulia = {};\\n    for (var key in json_data) {\\n        self.valueFromJulia[key] = false;\\n    }\\n    ko.applyBindings(self.model, self.dom);\\n}\\n);\\n    (WebIO.importBlock({\\\"data\\\":[{\\\"name\\\":\\\"knockout\\\",\\\"type\\\":\\\"js\\\",\\\"url\\\":\\\"/assetserver/27b9b06e63a2035cd4ce068857b1ecf119172cf9-knockout.js\\\"},{\\\"name\\\":\\\"knockout_punches\\\",\\\"type\\\":\\\"js\\\",\\\"url\\\":\\\"/assetserver/22148cf7be754c44c5332ef612c0c16111d3f465-knockout_punches.js\\\"}],\\\"type\\\":\\\"async_block\\\"})).then((imports) => handler.apply(this, imports));\\n}\\n\")])], Dict{Symbol,Any}(:className => \"field interact-widget\")), Node{WebIO.DOM}(WebIO.DOM(:html, :div), Any[Scope(Node{WebIO.DOM}(WebIO.DOM(:html, :div), Any[Node{WebIO.DOM}(WebIO.DOM(:html, :div), Any[Node{WebIO.DOM}(WebIO.DOM(:html, :label), Any[\"ω\"], Dict{Symbol,Any}(:className => \"interact \",:style => Dict{Any,Any}(:padding => \"5px 10px 0px 10px\")))], Dict{Symbol,Any}(:className => \"interact-flex-row-left\")), Node{WebIO.DOM}(WebIO.DOM(:html, :div), Any[Node{WebIO.DOM}(WebIO.DOM(:html, :input), Any[], Dict{Symbol,Any}(:max => 101,:min => 1,:attributes => Dict{Any,Any}(:type => \"range\",Symbol(\"data-bind\") => \"numericValue: index, valueUpdate: 'input', event: {change: function (){this.changes(this.changes()+1)}}\",\"orient\" => \"horizontal\"),:step => 1,:className => \"slider slider is-fullwidth\",:style => Dict{Any,Any}()))], Dict{Symbol,Any}(:className => \"interact-flex-row-center\")), Node{WebIO.DOM}(WebIO.DOM(:html, :div), Any[Node{WebIO.DOM}(WebIO.DOM(:html, :p), Any[], Dict{Symbol,Any}(:attributes => Dict(\"data-bind\" => \"text: formatted_val\")))], Dict{Symbol,Any}(:className => \"interact-flex-row-right\"))], Dict{Symbol,Any}(:className => \"interact-flex-row interact-widget\")), Dict{String,Tuple{Observables.AbstractObservable,Union{Nothing, Bool}}}(\"changes\" => (Observable{Int64} with 1 listeners. Value:\n",
       "0, nothing),\"index\" => (Observable{Any} with 2 listeners. Value:\n",
       "51, nothing)), Set{String}(), nothing, Asset[Asset(\"js\", \"knockout\", \"/home/tusike/.julia/packages/Knockout/IP1uR/src/../assets/knockout.js\"), Asset(\"js\", \"knockout_punches\", \"/home/tusike/.julia/packages/Knockout/IP1uR/src/../assets/knockout_punches.js\"), Asset(\"js\", nothing, \"/home/tusike/.julia/packages/InteractBase/sOe2Z/src/../assets/all.js\"), Asset(\"css\", nothing, \"/home/tusike/.julia/packages/InteractBase/sOe2Z/src/../assets/style.css\"), Asset(\"css\", nothing, \"/home/tusike/.julia/packages/Interact/SbgIk/src/../assets/bulma_confined.min.css\")], Dict{Any,Any}(\"changes\" => Any[WebIO.JSString(\"(function (val){return (val!=this.model[\\\"changes\\\"]()) ? (this.valueFromJulia[\\\"changes\\\"]=true, this.model[\\\"changes\\\"](val)) : undefined})\")],\"index\" => Any[WebIO.JSString(\"(function (val){return (val!=this.model[\\\"index\\\"]()) ? (this.valueFromJulia[\\\"index\\\"]=true, this.model[\\\"index\\\"](val)) : undefined})\")]), WebIO.ConnectionPool(Channel{Any}(sz_max:32,sz_curr:0), Set{AbstractConnection}(), Base.GenericCondition{Base.AlwaysLockedST}(Base.InvasiveLinkedList{Task}(Task (runnable) @0x00007ff21908abf0, Task (runnable) @0x00007ff21908abf0), Base.AlwaysLockedST(1))), WebIO.JSString[WebIO.JSString(\"function () {\\n    var handler = (function (ko, koPunches) {\\n    ko.punches.enableAll();\\n    ko.bindingHandlers.numericValue = {\\n        init: function(element, valueAccessor, allBindings, data, context) {\\n            var stringified = ko.observable(ko.unwrap(valueAccessor()));\\n            stringified.subscribe(function(value) {\\n                var val = parseFloat(value);\\n                if (!isNaN(val)) {\\n                    valueAccessor()(val);\\n                }\\n            });\\n            valueAccessor().subscribe(function(value) {\\n                var str = JSON.stringify(value);\\n                if ((str == \\\"0\\\") && ([\\\"-0\\\", \\\"-0.\\\"].indexOf(stringified()) >= 0))\\n                     return;\\n                 if ([\\\"null\\\", \\\"\\\"].indexOf(str) >= 0)\\n                     return;\\n                stringified(str);\\n            });\\n            ko.applyBindingsToNode(\\n                element,\\n                {\\n                    value: stringified,\\n                    valueUpdate: allBindings.get('valueUpdate'),\\n                },\\n                context,\\n            );\\n        }\\n    };\\n    var json_data = {\\\"formatted_vals\\\":[\\\"0.5\\\",\\\"0.51\\\",\\\"0.52\\\",\\\"0.53\\\",\\\"0.54\\\",\\\"0.55\\\",\\\"0.56\\\",\\\"0.57\\\",\\\"0.58\\\",\\\"0.59\\\",\\\"0.6\\\",\\\"0.61\\\",\\\"0.62\\\",\\\"0.63\\\",\\\"0.64\\\",\\\"0.65\\\",\\\"0.66\\\",\\\"0.67\\\",\\\"0.68\\\",\\\"0.69\\\",\\\"0.7\\\",\\\"0.71\\\",\\\"0.72\\\",\\\"0.73\\\",\\\"0.74\\\",\\\"0.75\\\",\\\"0.76\\\",\\\"0.77\\\",\\\"0.78\\\",\\\"0.79\\\",\\\"0.8\\\",\\\"0.81\\\",\\\"0.82\\\",\\\"0.83\\\",\\\"0.84\\\",\\\"0.85\\\",\\\"0.86\\\",\\\"0.87\\\",\\\"0.88\\\",\\\"0.89\\\",\\\"0.9\\\",\\\"0.91\\\",\\\"0.92\\\",\\\"0.93\\\",\\\"0.94\\\",\\\"0.95\\\",\\\"0.96\\\",\\\"0.97\\\",\\\"0.98\\\",\\\"0.99\\\",\\\"1.0\\\",\\\"1.01\\\",\\\"1.02\\\",\\\"1.03\\\",\\\"1.04\\\",\\\"1.05\\\",\\\"1.06\\\",\\\"1.07\\\",\\\"1.08\\\",\\\"1.09\\\",\\\"1.1\\\",\\\"1.11\\\",\\\"1.12\\\",\\\"1.13\\\",\\\"1.14\\\",\\\"1.15\\\",\\\"1.16\\\",\\\"1.17\\\",\\\"1.18\\\",\\\"1.19\\\",\\\"1.2\\\",\\\"1.21\\\",\\\"1.22\\\",\\\"1.23\\\",\\\"1.24\\\",\\\"1.25\\\",\\\"1.26\\\",\\\"1.27\\\",\\\"1.28\\\",\\\"1.29\\\",\\\"1.3\\\",\\\"1.31\\\",\\\"1.32\\\",\\\"1.33\\\",\\\"1.34\\\",\\\"1.35\\\",\\\"1.36\\\",\\\"1.37\\\",\\\"1.38\\\",\\\"1.39\\\",\\\"1.4\\\",\\\"1.41\\\",\\\"1.42\\\",\\\"1.43\\\",\\\"1.44\\\",\\\"1.45\\\",\\\"1.46\\\",\\\"1.47\\\",\\\"1.48\\\",\\\"1.49\\\",\\\"1.5\\\"],\\\"changes\\\":WebIO.getval({\\\"name\\\":\\\"changes\\\",\\\"scope\\\":\\\"4163122659162032202\\\",\\\"id\\\":\\\"6898024147565062981\\\",\\\"type\\\":\\\"observable\\\"}),\\\"index\\\":WebIO.getval({\\\"name\\\":\\\"index\\\",\\\"scope\\\":\\\"4163122659162032202\\\",\\\"id\\\":\\\"9092332748984693735\\\",\\\"type\\\":\\\"observable\\\"})};\\n    var self = this;\\n    function AppViewModel() {\\n        for (var key in json_data) {\\n            var el = json_data[key];\\n            this[key] = Array.isArray(el) ? ko.observableArray(el) : ko.observable(el);\\n        }\\n        \\n        [this[\\\"formatted_val\\\"]=ko.computed(    function(){\\n        return this.formatted_vals()[parseInt(this.index())-(1)];\\n    }\\n,this)]\\n        [this[\\\"changes\\\"].subscribe((function (val){!(this.valueFromJulia[\\\"changes\\\"]) ? (WebIO.setval({\\\"name\\\":\\\"changes\\\",\\\"scope\\\":\\\"4163122659162032202\\\",\\\"id\\\":\\\"6898024147565062981\\\",\\\"type\\\":\\\"observable\\\"},val)) : undefined; return this.valueFromJulia[\\\"changes\\\"]=false}),self),this[\\\"index\\\"].subscribe((function (val){!(this.valueFromJulia[\\\"index\\\"]) ? (WebIO.setval({\\\"name\\\":\\\"index\\\",\\\"scope\\\":\\\"4163122659162032202\\\",\\\"id\\\":\\\"9092332748984693735\\\",\\\"type\\\":\\\"observable\\\"},val)) : undefined; return this.valueFromJulia[\\\"index\\\"]=false}),self)]\\n        \\n    }\\n    self.model = new AppViewModel();\\n    self.valueFromJulia = {};\\n    for (var key in json_data) {\\n        self.valueFromJulia[key] = false;\\n    }\\n    ko.applyBindings(self.model, self.dom);\\n}\\n);\\n    (WebIO.importBlock({\\\"data\\\":[{\\\"name\\\":\\\"knockout\\\",\\\"type\\\":\\\"js\\\",\\\"url\\\":\\\"/assetserver/27b9b06e63a2035cd4ce068857b1ecf119172cf9-knockout.js\\\"},{\\\"name\\\":\\\"knockout_punches\\\",\\\"type\\\":\\\"js\\\",\\\"url\\\":\\\"/assetserver/22148cf7be754c44c5332ef612c0c16111d3f465-knockout_punches.js\\\"}],\\\"type\\\":\\\"async_block\\\"})).then((imports) => handler.apply(this, imports));\\n}\\n\")])], Dict{Symbol,Any}(:className => \"field interact-widget\")), Node{WebIO.DOM}(WebIO.DOM(:html, :div), Any[Scope(Node{WebIO.DOM}(WebIO.DOM(:html, :div), Any[Node{WebIO.DOM}(WebIO.DOM(:html, :div), Any[Node{WebIO.DOM}(WebIO.DOM(:html, :label), Any[\"T\"], Dict{Symbol,Any}(:className => \"interact \",:style => Dict{Any,Any}(:padding => \"5px 10px 0px 10px\")))], Dict{Symbol,Any}(:className => \"interact-flex-row-left\")), Node{WebIO.DOM}(WebIO.DOM(:html, :div), Any[Node{WebIO.DOM}(WebIO.DOM(:html, :div), Any[Node{WebIO.DOM}(WebIO.DOM(:html, :span), Any[Node{WebIO.DOM}(WebIO.DOM(:html, :label), Any[], Dict{Symbol,Any}(:attributes => Dict(\"data-bind\" => \"text : key\")))], Dict{Symbol,Any}(:attributes => Dict(\"data-bind\" => \"click: function (){\\$root.update(val)}, css: {'is-primary is-selected' : \\$root.index() == val, 'interact-widget is-medium button ' : true}\")))], Dict{Symbol,Any}(:attributes => (\"data-bind\" => \"foreach : options_js\"),:className => \"buttons has-addons is-centered\"))], Dict{Symbol,Any}(:className => \"interact-flex-row-center\")), Node{WebIO.DOM}(WebIO.DOM(:html, :div), Any[Node{WebIO.DOM}(WebIO.DOM(:html, :div), Any[], Dict{Symbol,Any}())], Dict{Symbol,Any}(:className => \"interact-flex-row-right\"))], Dict{Symbol,Any}(:className => \"interact-flex-row interact-widget\")), Dict{String,Tuple{Observables.AbstractObservable,Union{Nothing, Bool}}}(\"options_js\" => (Observable{Any} with 1 listeners. Value:\n",
       "OrderedDict[OrderedDict{String,Any}(\"key\" => \"T=10\",\"val\" => 1,\"id\" => \"ideBRo60Fm\"), OrderedDict{String,Any}(\"key\" => \"T=20\",\"val\" => 2,\"id\" => \"idt3fpgTlI\"), OrderedDict{String,Any}(\"key\" => \"T=50\",\"val\" => 3,\"id\" => \"idgpNtWcOI\")], nothing),\"index\" => (Observable{Any} with 2 listeners. Value:\n",
       "1, nothing)), Set{String}(), nothing, Asset[Asset(\"js\", \"knockout\", \"/home/tusike/.julia/packages/Knockout/IP1uR/src/../assets/knockout.js\"), Asset(\"js\", \"knockout_punches\", \"/home/tusike/.julia/packages/Knockout/IP1uR/src/../assets/knockout_punches.js\"), Asset(\"js\", nothing, \"/home/tusike/.julia/packages/InteractBase/sOe2Z/src/../assets/all.js\"), Asset(\"css\", nothing, \"/home/tusike/.julia/packages/InteractBase/sOe2Z/src/../assets/style.css\"), Asset(\"css\", nothing, \"/home/tusike/.julia/packages/Interact/SbgIk/src/../assets/bulma_confined.min.css\")], Dict{Any,Any}(\"options_js\" => Any[WebIO.JSString(\"(function (val){return (val!=this.model[\\\"options_js\\\"]()) ? (this.valueFromJulia[\\\"options_js\\\"]=true, this.model[\\\"options_js\\\"](val)) : undefined})\")],\"index\" => Any[WebIO.JSString(\"(function (val){return (val!=this.model[\\\"index\\\"]()) ? (this.valueFromJulia[\\\"index\\\"]=true, this.model[\\\"index\\\"](val)) : undefined})\")]), WebIO.ConnectionPool(Channel{Any}(sz_max:32,sz_curr:0), Set{AbstractConnection}(), Base.GenericCondition{Base.AlwaysLockedST}(Base.InvasiveLinkedList{Task}(Task (runnable) @0x00007ff2508e2e60, Task (runnable) @0x00007ff2508e2e60), Base.AlwaysLockedST(1))), WebIO.JSString[WebIO.JSString(\"function () {\\n    var handler = (function (ko, koPunches) {\\n    ko.punches.enableAll();\\n    ko.bindingHandlers.numericValue = {\\n        init: function(element, valueAccessor, allBindings, data, context) {\\n            var stringified = ko.observable(ko.unwrap(valueAccessor()));\\n            stringified.subscribe(function(value) {\\n                var val = parseFloat(value);\\n                if (!isNaN(val)) {\\n                    valueAccessor()(val);\\n                }\\n            });\\n            valueAccessor().subscribe(function(value) {\\n                var str = JSON.stringify(value);\\n                if ((str == \\\"0\\\") && ([\\\"-0\\\", \\\"-0.\\\"].indexOf(stringified()) >= 0))\\n                     return;\\n                 if ([\\\"null\\\", \\\"\\\"].indexOf(str) >= 0)\\n                     return;\\n                stringified(str);\\n            });\\n            ko.applyBindingsToNode(\\n                element,\\n                {\\n                    value: stringified,\\n                    valueUpdate: allBindings.get('valueUpdate'),\\n                },\\n                context,\\n            );\\n        }\\n    };\\n    var json_data = {\\\"options_js\\\":WebIO.getval({\\\"name\\\":\\\"options_js\\\",\\\"scope\\\":\\\"12290048761972820872\\\",\\\"id\\\":\\\"13745764963346577175\\\",\\\"type\\\":\\\"observable\\\"}),\\\"index\\\":WebIO.getval({\\\"name\\\":\\\"index\\\",\\\"scope\\\":\\\"12290048761972820872\\\",\\\"id\\\":\\\"8703979046378886986\\\",\\\"type\\\":\\\"observable\\\"})};\\n    var self = this;\\n    function AppViewModel() {\\n        for (var key in json_data) {\\n            var el = json_data[key];\\n            this[key] = Array.isArray(el) ? ko.observableArray(el) : ko.observable(el);\\n        }\\n        [this[\\\"update\\\"]=function (val) {this.index(val)}]\\n        \\n        [this[\\\"options_js\\\"].subscribe((function (val){!(this.valueFromJulia[\\\"options_js\\\"]) ? (WebIO.setval({\\\"name\\\":\\\"options_js\\\",\\\"scope\\\":\\\"12290048761972820872\\\",\\\"id\\\":\\\"13745764963346577175\\\",\\\"type\\\":\\\"observable\\\"},val)) : undefined; return this.valueFromJulia[\\\"options_js\\\"]=false}),self),this[\\\"index\\\"].subscribe((function (val){!(this.valueFromJulia[\\\"index\\\"]) ? (WebIO.setval({\\\"name\\\":\\\"index\\\",\\\"scope\\\":\\\"12290048761972820872\\\",\\\"id\\\":\\\"8703979046378886986\\\",\\\"type\\\":\\\"observable\\\"},val)) : undefined; return this.valueFromJulia[\\\"index\\\"]=false}),self)]\\n        \\n    }\\n    self.model = new AppViewModel();\\n    self.valueFromJulia = {};\\n    for (var key in json_data) {\\n        self.valueFromJulia[key] = false;\\n    }\\n    ko.applyBindings(self.model, self.dom);\\n}\\n);\\n    (WebIO.importBlock({\\\"data\\\":[{\\\"name\\\":\\\"knockout\\\",\\\"type\\\":\\\"js\\\",\\\"url\\\":\\\"/assetserver/27b9b06e63a2035cd4ce068857b1ecf119172cf9-knockout.js\\\"},{\\\"name\\\":\\\"knockout_punches\\\",\\\"type\\\":\\\"js\\\",\\\"url\\\":\\\"/assetserver/22148cf7be754c44c5332ef612c0c16111d3f465-knockout_punches.js\\\"}],\\\"type\\\":\\\"async_block\\\"})).then((imports) => handler.apply(this, imports));\\n}\\n\")])], Dict{Symbol,Any}(:className => \"interact-widget\")), Node{WebIO.DOM}(WebIO.DOM(:html, :div), Any[Scope(Node{WebIO.DOM}(WebIO.DOM(:html, :div), Any[Node{WebIO.DOM}(WebIO.DOM(:html, :div), Any[Node{WebIO.DOM}(WebIO.DOM(:html, :label), Any[\"y-axis\"], Dict{Symbol,Any}(:className => \"interact \",:style => Dict{Any,Any}(:padding => \"5px 10px 0px 10px\")))], Dict{Symbol,Any}(:className => \"interact-flex-row-left\")), Node{WebIO.DOM}(WebIO.DOM(:html, :div), Any[Node{WebIO.DOM}(WebIO.DOM(:html, :div), Any[Node{WebIO.DOM}(WebIO.DOM(:html, :span), Any[Node{WebIO.DOM}(WebIO.DOM(:html, :label), Any[], Dict{Symbol,Any}(:attributes => Dict(\"data-bind\" => \"text : key\")))], Dict{Symbol,Any}(:attributes => Dict(\"data-bind\" => \"click: function (){\\$root.update(val)}, css: {'is-primary is-selected' : \\$root.index() == val, 'interact-widget is-medium button ' : true}\")))], Dict{Symbol,Any}(:attributes => (\"data-bind\" => \"foreach : options_js\"),:className => \"buttons has-addons is-centered\"))], Dict{Symbol,Any}(:className => \"interact-flex-row-center\")), Node{WebIO.DOM}(WebIO.DOM(:html, :div), Any[Node{WebIO.DOM}(WebIO.DOM(:html, :div), Any[], Dict{Symbol,Any}())], Dict{Symbol,Any}(:className => \"interact-flex-row-right\"))], Dict{Symbol,Any}(:className => \"interact-flex-row interact-widget\")), Dict{String,Tuple{Observables.AbstractObservable,Union{Nothing, Bool}}}(\"options_js\" => (Observable{Any} with 1 listeners. Value:\n",
       "OrderedDict[OrderedDict{String,Any}(\"key\" => \"auto\",\"val\" => 1,\"id\" => \"idKh5xrd9W\"), OrderedDict{String,Any}(\"key\" => \"fixed\",\"val\" => 2,\"id\" => \"idrXRf3DtD\")], nothing),\"index\" => (Observable{Any} with 2 listeners. Value:\n",
       "1, nothing)), Set{String}(), nothing, Asset[Asset(\"js\", \"knockout\", \"/home/tusike/.julia/packages/Knockout/IP1uR/src/../assets/knockout.js\"), Asset(\"js\", \"knockout_punches\", \"/home/tusike/.julia/packages/Knockout/IP1uR/src/../assets/knockout_punches.js\"), Asset(\"js\", nothing, \"/home/tusike/.julia/packages/InteractBase/sOe2Z/src/../assets/all.js\"), Asset(\"css\", nothing, \"/home/tusike/.julia/packages/InteractBase/sOe2Z/src/../assets/style.css\"), Asset(\"css\", nothing, \"/home/tusike/.julia/packages/Interact/SbgIk/src/../assets/bulma_confined.min.css\")], Dict{Any,Any}(\"options_js\" => Any[WebIO.JSString(\"(function (val){return (val!=this.model[\\\"options_js\\\"]()) ? (this.valueFromJulia[\\\"options_js\\\"]=true, this.model[\\\"options_js\\\"](val)) : undefined})\")],\"index\" => Any[WebIO.JSString(\"(function (val){return (val!=this.model[\\\"index\\\"]()) ? (this.valueFromJulia[\\\"index\\\"]=true, this.model[\\\"index\\\"](val)) : undefined})\")]), WebIO.ConnectionPool(Channel{Any}(sz_max:32,sz_curr:0), Set{AbstractConnection}(), Base.GenericCondition{Base.AlwaysLockedST}(Base.InvasiveLinkedList{Task}(Task (runnable) @0x00007ff215031390, Task (runnable) @0x00007ff215031390), Base.AlwaysLockedST(1))), WebIO.JSString[WebIO.JSString(\"function () {\\n    var handler = (function (ko, koPunches) {\\n    ko.punches.enableAll();\\n    ko.bindingHandlers.numericValue = {\\n        init: function(element, valueAccessor, allBindings, data, context) {\\n            var stringified = ko.observable(ko.unwrap(valueAccessor()));\\n            stringified.subscribe(function(value) {\\n                var val = parseFloat(value);\\n                if (!isNaN(val)) {\\n                    valueAccessor()(val);\\n                }\\n            });\\n            valueAccessor().subscribe(function(value) {\\n                var str = JSON.stringify(value);\\n                if ((str == \\\"0\\\") && ([\\\"-0\\\", \\\"-0.\\\"].indexOf(stringified()) >= 0))\\n                     return;\\n                 if ([\\\"null\\\", \\\"\\\"].indexOf(str) >= 0)\\n                     return;\\n                stringified(str);\\n            });\\n            ko.applyBindingsToNode(\\n                element,\\n                {\\n                    value: stringified,\\n                    valueUpdate: allBindings.get('valueUpdate'),\\n                },\\n                context,\\n            );\\n        }\\n    };\\n    var json_data = {\\\"options_js\\\":WebIO.getval({\\\"name\\\":\\\"options_js\\\",\\\"scope\\\":\\\"1281993259716532196\\\",\\\"id\\\":\\\"17079846351311030008\\\",\\\"type\\\":\\\"observable\\\"}),\\\"index\\\":WebIO.getval({\\\"name\\\":\\\"index\\\",\\\"scope\\\":\\\"1281993259716532196\\\",\\\"id\\\":\\\"7298276686253703608\\\",\\\"type\\\":\\\"observable\\\"})};\\n    var self = this;\\n    function AppViewModel() {\\n        for (var key in json_data) {\\n            var el = json_data[key];\\n            this[key] = Array.isArray(el) ? ko.observableArray(el) : ko.observable(el);\\n        }\\n        [this[\\\"update\\\"]=function (val) {this.index(val)}]\\n        \\n        [this[\\\"options_js\\\"].subscribe((function (val){!(this.valueFromJulia[\\\"options_js\\\"]) ? (WebIO.setval({\\\"name\\\":\\\"options_js\\\",\\\"scope\\\":\\\"1281993259716532196\\\",\\\"id\\\":\\\"17079846351311030008\\\",\\\"type\\\":\\\"observable\\\"},val)) : undefined; return this.valueFromJulia[\\\"options_js\\\"]=false}),self),this[\\\"index\\\"].subscribe((function (val){!(this.valueFromJulia[\\\"index\\\"]) ? (WebIO.setval({\\\"name\\\":\\\"index\\\",\\\"scope\\\":\\\"1281993259716532196\\\",\\\"id\\\":\\\"7298276686253703608\\\",\\\"type\\\":\\\"observable\\\"},val)) : undefined; return this.valueFromJulia[\\\"index\\\"]=false}),self)]\\n        \\n    }\\n    self.model = new AppViewModel();\\n    self.valueFromJulia = {};\\n    for (var key in json_data) {\\n        self.valueFromJulia[key] = false;\\n    }\\n    ko.applyBindings(self.model, self.dom);\\n}\\n);\\n    (WebIO.importBlock({\\\"data\\\":[{\\\"name\\\":\\\"knockout\\\",\\\"type\\\":\\\"js\\\",\\\"url\\\":\\\"/assetserver/27b9b06e63a2035cd4ce068857b1ecf119172cf9-knockout.js\\\"},{\\\"name\\\":\\\"knockout_punches\\\",\\\"type\\\":\\\"js\\\",\\\"url\\\":\\\"/assetserver/22148cf7be754c44c5332ef612c0c16111d3f465-knockout_punches.js\\\"}],\\\"type\\\":\\\"async_block\\\"})).then((imports) => handler.apply(this, imports));\\n}\\n\")])], Dict{Symbol,Any}(:className => \"interact-widget\")), Observable{Any} with 0 listeners. Value:\n",
       "Node{WebIO.DOM}(WebIO.DOM(:html, :div), Any[Node{WebIO.DOM}(WebIO.DOM(:html, :div), Any[Plot{Plots.GRBackend() n=6}], Dict{Symbol,Any}(:style => Dict(\"display\" => \"flex\",\"flex-direction\" => \"column\")))], Dict{Symbol,Any}(:className => \"interact-flex-row interact-widget\"))], Dict{Symbol,Any}())"
      ]
     },
     "execution_count": 3,
     "metadata": {
      "application/vnd.webio.node+json": {
       "kernelId": "6fada5af-fbe3-4704-b2a9-bd93db9d0488"
      }
     },
     "output_type": "execute_result"
    }
   ],
   "source": [
    "@manipulate for Δt=widget(0.001:0.005:0.2, label=\"Δt\", labelcolor=:red), ω=widget(0.5:0.01:1.5, label=\"ω\"), T = OrderedDict(\"T=10\" => 10, \"T=20\" => 20, \"T=50\" => 50), toggle = widget([:auto, :fixed], label=\"y-axis\")\n",
    "    x, NT = simulateForwardEuler(T, Δt, ω)\n",
    "    x2, NT = simulateMidpoint(T, Δt, ω)\n",
    "    xTrue = cos.(collect(T*(0:NT)/NT).*ω)\n",
    "    vTrue = .-ω * sin.(collect(T*(0:NT)/NT).*ω)\n",
    "    l = @layout [a b]\n",
    "    ylims = toggle==:auto ? :auto : (-1.5, 1.5)\n",
    "    p1 = plot(T*(0:NT)/NT, view(x, 1, :), linewidth=2, ylims=ylims, label=\"\",linetype=:steppost)\n",
    "    plot!(p1, T*(0:NT)/NT, view(x2, 1, :), linewidth=2, label=\"\",linetype=:steppost)\n",
    "    plot!(p1, T*(0:NT)/NT, xTrue, linewidth=3, label=\"\")\n",
    "     toggle==:auto ? :auto : (-2.0, 2.0)\n",
    "    p2 = plot(T*(0:NT)/NT, view(x, 2, :), linewidth=2, ylims=ylims, label=\"\",linetype=:steppost, legend=:outerright)\n",
    "    plot!(p2, T*(0:NT)/NT, view(x2, 2, :), linewidth=2, label=\"\",linetype=:steppost)\n",
    "    plot!(p2, T*(0:NT)/NT, vTrue, linewidth=3, label=\"\")\n",
    "    vbox(\n",
    "        plot(p1, p2, size=(1000, 300), layout=l))\n",
    "    end"
   ]
  },
  {
   "cell_type": "code",
   "execution_count": null,
   "metadata": {},
   "outputs": [],
   "source": []
  }
 ],
 "metadata": {
  "@webio": {
   "lastCommId": "81589a39b29a4e60a84449a8c02dff5a",
   "lastKernelId": "bf69f313-9887-4f00-b35e-3fb6f6334073"
  },
  "kernelspec": {
   "display_name": "Julia 1.5.3",
   "language": "julia",
   "name": "julia-1.5"
  },
  "language_info": {
   "file_extension": ".jl",
   "mimetype": "application/julia",
   "name": "julia",
   "version": "1.5.3"
  }
 },
 "nbformat": 4,
 "nbformat_minor": 4
}
